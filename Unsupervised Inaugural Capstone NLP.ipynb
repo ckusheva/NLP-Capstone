{
 "cells": [
  {
   "cell_type": "code",
   "execution_count": 1,
   "metadata": {},
   "outputs": [
    {
     "name": "stderr",
     "output_type": "stream",
     "text": [
      "[nltk_data] Downloading package inaugural to\n",
      "[nltk_data]     C:\\Users\\Kristine\\AppData\\Roaming\\nltk_data...\n",
      "[nltk_data]   Package inaugural is already up-to-date!\n"
     ]
    },
    {
     "data": {
      "text/plain": [
       "True"
      ]
     },
     "execution_count": 1,
     "metadata": {},
     "output_type": "execute_result"
    }
   ],
   "source": [
    "%matplotlib inline\n",
    "import numpy as np\n",
    "import pandas as pd\n",
    "import scipy\n",
    "import sklearn\n",
    "import matplotlib.pyplot as plt\n",
    "import json\n",
    "import re\n",
    "import nltk\n",
    "from nltk.corpus import inaugural\n",
    "from collections import Counter\n",
    "from sklearn import ensemble\n",
    "from sklearn.model_selection import cross_val_score\n",
    "from sklearn.model_selection import train_test_split\n",
    "from sklearn.ensemble import GradientBoostingClassifier\n",
    "from sklearn.model_selection import GridSearchCV\n",
    "from sklearn.metrics import confusion_matrix, classification_report\n",
    "from sklearn.svm import SVC\n",
    "from sklearn.linear_model import LogisticRegression\n",
    "\n",
    "nltk.download('inaugural')"
   ]
  },
  {
   "cell_type": "markdown",
   "metadata": {},
   "source": [
    "# Unsupervised Learning Capstone"
   ]
  },
  {
   "cell_type": "markdown",
   "metadata": {},
   "source": [
    "Introduction\n",
    "\n",
    "The dataset is a collection of the inaugurals of all the presidents of the United States. My two aims of this project is to 1) using NLP, compare and contrast the most freqent words that the following presidents used: Roosevelt, Truman, Eisenhower, Kennedy, Johnson, Nixon, Carter, Reagan, Bush Sr, Clinton, Bush Jr and Obama. Then, we will use bag of words and BoW features to create classification models such as linear regression, gradient boost, random forrest etc. which will determine if a word belongs to a presidents who is a democrat or to e president that is a republican. \n",
    "\n",
    "2) using TfidfVectorizer, compare and contrast Obama and Roosevelt's inaugurals. Furthermore, using SVD data reducer, we will optimise the process even further and will be able to group the sentences in the text into several different components and see how similar are they to each other. "
   ]
  },
  {
   "cell_type": "markdown",
   "metadata": {},
   "source": [
    "### Supervised NLP "
   ]
  },
  {
   "cell_type": "code",
   "execution_count": 2,
   "metadata": {},
   "outputs": [
    {
     "data": {
      "text/plain": [
       "['1789-Washington.txt',\n",
       " '1793-Washington.txt',\n",
       " '1797-Adams.txt',\n",
       " '1801-Jefferson.txt',\n",
       " '1805-Jefferson.txt',\n",
       " '1809-Madison.txt',\n",
       " '1813-Madison.txt',\n",
       " '1817-Monroe.txt',\n",
       " '1821-Monroe.txt',\n",
       " '1825-Adams.txt',\n",
       " '1829-Jackson.txt',\n",
       " '1833-Jackson.txt',\n",
       " '1837-VanBuren.txt',\n",
       " '1841-Harrison.txt',\n",
       " '1845-Polk.txt',\n",
       " '1849-Taylor.txt',\n",
       " '1853-Pierce.txt',\n",
       " '1857-Buchanan.txt',\n",
       " '1861-Lincoln.txt',\n",
       " '1865-Lincoln.txt',\n",
       " '1869-Grant.txt',\n",
       " '1873-Grant.txt',\n",
       " '1877-Hayes.txt',\n",
       " '1881-Garfield.txt',\n",
       " '1885-Cleveland.txt',\n",
       " '1889-Harrison.txt',\n",
       " '1893-Cleveland.txt',\n",
       " '1897-McKinley.txt',\n",
       " '1901-McKinley.txt',\n",
       " '1905-Roosevelt.txt',\n",
       " '1909-Taft.txt',\n",
       " '1913-Wilson.txt',\n",
       " '1917-Wilson.txt',\n",
       " '1921-Harding.txt',\n",
       " '1925-Coolidge.txt',\n",
       " '1929-Hoover.txt',\n",
       " '1933-Roosevelt.txt',\n",
       " '1937-Roosevelt.txt',\n",
       " '1941-Roosevelt.txt',\n",
       " '1945-Roosevelt.txt',\n",
       " '1949-Truman.txt',\n",
       " '1953-Eisenhower.txt',\n",
       " '1957-Eisenhower.txt',\n",
       " '1961-Kennedy.txt',\n",
       " '1965-Johnson.txt',\n",
       " '1969-Nixon.txt',\n",
       " '1973-Nixon.txt',\n",
       " '1977-Carter.txt',\n",
       " '1981-Reagan.txt',\n",
       " '1985-Reagan.txt',\n",
       " '1989-Bush.txt',\n",
       " '1993-Clinton.txt',\n",
       " '1997-Clinton.txt',\n",
       " '2001-Bush.txt',\n",
       " '2005-Bush.txt',\n",
       " '2009-Obama.txt',\n",
       " '2013-Obama.txt',\n",
       " '2017-Trump.txt']"
      ]
     },
     "execution_count": 2,
     "metadata": {},
     "output_type": "execute_result"
    }
   ],
   "source": [
    "inaugural.fileids()"
   ]
  },
  {
   "cell_type": "code",
   "execution_count": 3,
   "metadata": {},
   "outputs": [],
   "source": [
    "roosevelt45 = inaugural.raw('1945-Roosevelt.txt') \n",
    "truman = inaugural.raw('1949-Truman.txt')\n",
    "eisenhower57 = inaugural.raw('1957-Eisenhower.txt')\n",
    "kennedy = inaugural.raw('1961-Kennedy.txt')\n",
    "johnson = inaugural.raw('1965-Johnson.txt')\n",
    "nixon73 = inaugural.raw('1973-Nixon.txt')\n",
    "carter = inaugural.raw('1977-Carter.txt')\n",
    "reagan85 = inaugural.raw('1985-Reagan.txt')\n",
    "bush_sr = inaugural.raw('1989-Bush.txt')\n",
    "clinton97 = inaugural.raw('1997-Clinton.txt')\n",
    "bush_jr05 = inaugural.raw('2005-Bush.txt')\n",
    "obama09 = inaugural.raw('2009-Obama.txt')"
   ]
  },
  {
   "cell_type": "code",
   "execution_count": 4,
   "metadata": {},
   "outputs": [],
   "source": [
    "def clean_text(text):\n",
    "    # Visual inspection identifies a form of punctuation spaCy does not\n",
    "    # recognize: the double dash '--'.  Better get rid of it now!\n",
    "    text = re.sub('--',' ',text)\n",
    "    text = re.sub('/\\\\n/g', \"\", text)\n",
    "    text = re.sub(\"[\\[].*?[\\]]\", \"\", text)\n",
    "    text = re.sub('\\n\\n', \"\", text)\n",
    "    text = ' '.join(text.split())\n",
    "    return text\n",
    "\n",
    "#for president in address:\n",
    "    #president = clean_text(president)\n",
    "bush_sr =  ' '.join(bush_sr.split())\n",
    "roosevelt = clean_text(roosevelt45)\n",
    "truman = clean_text(truman)\n",
    "eisenhower = clean_text(eisenhower57)\n",
    "kennedy = clean_text(kennedy)\n",
    "johnson = clean_text(johnson)\n",
    "nixon = clean_text(nixon73)\n",
    "carter = clean_text(carter)\n",
    "reagan = clean_text(reagan85)\n",
    "bush = clean_text(bush_sr)\n",
    "clinton = clean_text(clinton97)\n",
    "bush_jr = clean_text(bush_jr05)\n",
    "obama = clean_text(obama09)"
   ]
  },
  {
   "cell_type": "code",
   "execution_count": 5,
   "metadata": {},
   "outputs": [
    {
     "data": {
      "text/plain": [
       "'Chief Justice, Mr. Vice President, my friends, you will understand and, I believe, agree with my wish that the form of this inauguration be simple and its words brief.We Americans of today, together with our allies, are passing through a period of supreme test. It is a test of our courage of our resolve of our wisdom our essential democracy.If we meet that test successfully and honorably we shall perform a service of historic importance which men and women and children will honor throughout all time.As I stand here today, having taken the solemn oath of office in the presence of my fellow countrymen in the presence of our God I know that it is America\\'s purpose that we shall not fail.In the days and in the years that are to come we shall work for a just and honorable peace, a durable peace, as today we work and fight for total victory in war.We can and we will achieve such a peace.We shall strive for perfection. We shall not achieve it immediately but we still shall strive. We may make mistakes but they must never be mistakes which result from faintness of heart or abandonment of moral principle.I remember that my old schoolmaster, Dr. Peabody, said, in days that seemed to us then to be secure and untroubled: \"Things in life will not always run smoothly. Sometimes we will be rising toward the heights then all will seem to reverse itself and start downward. The great fact to remember is that the trend of civilization itself is forever upward; that a line drawn through the middle of the peaks and the valleys of the centuries always has an upward trend.\"Our Constitution of 1787 was not a perfect instrument; it is not perfect yet. But it provided a firm base upon which all manner of men, of all races and colors and creeds, could build our solid structure of democracy.And so today, in this year of war, 1945, we have learned lessons at a fearful cost and we shall profit by them.We have learned that we cannot live alone, at peace; that our own well-being is dependent on the well-being of other nations far away. We have learned that we must live as men, not as ostriches, nor as dogs in the manger.We have learned to be citizens of the world, members of the human community.We have learned the simple truth, as Emerson said, that \"The only way to have a friend is to be one.\"We can gain no lasting peace if we approach it with suspicion and mistrust or with fear. We can gain it only if we proceed with the understanding, the confidence, and the courage which flow from conviction.The Almighty God has blessed our land in many ways. He has given our people stout hearts and strong arms with which to strike mighty blows for freedom and truth. He has given to our country a faith which has become the hope of all peoples in an anguished world.So we pray to Him now for the vision to see our way clearly to see the way that leads to a better life for ourselves and for all our fellow men to the achievement of His will to peace on earth.Mr. Vice President, Mr. Chief Justice, and fellow citizens, I accept with humility the honor which the American people have conferred upon me. I accept it with a deep resolve to do all that I can for the welfare of this Nation and for the peace of the world.In performing the duties of my office, I need the help and prayers of every one of you. I ask for your encouragement and your support. The tasks we face are difficult, and we can accomplish them only if we work together.Each period of our national history has had its special challenges. Those that confront us now are as momentous as any in the past. Today marks the beginning not only of a new administration, but of a period that will be eventful, perhaps decisive, for us and for the world.It may be our lot to experience, and in large measure to bring about, a major turning point in the long history of the human race. The first half of this century has been marked by unprecedented and brutal attacks on the rights of man, and by the two most frightful wars in history. The supreme need of our time is for men to learn to live together in peace and harmony.The peoples of the earth face the future with grave uncertainty, composed almost equally of great hopes and great fears. In this time of doubt, they look to the United States as never before for good will, strength, and wise leadership.It is fitting, therefore, that we take this occasion to proclaim to the world the essential principles of the faith by which we live, and to declare our aims to all peoples.The American people stand firm in the faith which has inspired this Nation from the beginning. We believe that all men have a right to equal justice under law and equal opportunity to share in the common good. We believe that all men have the right to freedom of thought and expression. We believe that all men are created equal because they are created in the image of God.From this faith we will not be moved.The American people desire, and are determined to work for, a world in which all nations and all peoples are free to govern themselves as they see fit, and to achieve a decent and satisfying life. Above all else, our people desire, and are determined to work for, peace on earth a just and lasting peace based on genuine agreement freely arrived at by equals.In the pursuit of these aims, the United States and other like-minded nations find themselves directly opposed by a regime with contrary aims and a totally different concept of life.That regime adheres to a false philosophy which purports to offer freedom, security, and greater opportunity to mankind. Misled by this philosophy, many peoples have sacrificed their liberties only to learn to their sorrow that deceit and mockery, poverty and tyranny, are their reward.That false philosophy is communism.Communism is based on the belief that man is so weak and inadequate that he is unable to govern himself, and therefore requires the rule of strong masters.Democracy is based on the conviction that man has the moral and intellectual capacity, as well as the inalienable right, to govern himself with reason and justice.Communism subjects the individual to arrest without lawful cause, punishment without trial, and forced labor as the chattel of the state. It decrees what information he shall receive, what art he shall produce, what leaders he shall follow, and what thoughts he shall think.Democracy maintains that government is established for the benefit of the individual, and is charged with the responsibility of protecting the rights of the individual and his freedom in the exercise of his abilities.Communism maintains that social wrongs can be corrected only by violence.Democracy has proved that social justice can be achieved through peaceful change.Communism holds that the world is so deeply divided into opposing classes that war is inevitable.Democracy holds that free nations can settle differences justly and maintain lasting peace.These differences between communism and democracy do not concern the United States alone. People everywhere are coming to realize that what is involved is material well-being, human dignity, and the right to believe in and worship God.I state these differences, not to draw issues of belief as such, but because the actions resulting from the Communist philosophy are a threat to the efforts of free nations to bring about world recovery and lasting peace.Since the end of hostilities, the United States has invested its substance and its energy in a great constructive effort to restore peace, stability, and freedom to the world.We have sought no territory and we have imposed our will on none. We have asked for no privileges we would not extend to others.We have constantly and vigorously supported the United Nations and related agencies as a means of applying democratic principles to international relations. We have consistently advocated and relied upon peaceful settlement of disputes among nations.We have made every effort to secure agreement on effective international control of our most powerful weapon, and we have worked steadily for the limitation and control of all armaments.We have encouraged, by precept and example, the expansion of world trade on a sound and fair basis.Almost a year ago, in company with 16 free nations of Europe, we launched the greatest cooperative economic program in history. The purpose of that unprecedented effort is to invigorate and strengthen democracy in Europe, so that the free people of that continent can resume their rightful place in the forefront of civilization and can contribute once more to the security and welfare of the world.Our efforts have brought new hope to all mankind. We have beaten back despair and defeatism. We have saved a number of countries from losing their liberty. Hundreds of millions of people all over the world now agree with us, that we need not have war that we can have peace.The initiative is ours.We are moving on with other nations to build an even stronger structure of international order and justice. We shall have as our partners countries which, no longer solely concerned with the problem of national survival, are now working to improve the standards of living of all their people. We are ready to undertake new projects to strengthen the free world.In the coming years, our program for peace and freedom will emphasize four major courses of action.First, we will continue to give unfaltering support to the United Nations and related agencies, and we will continue to search for ways to strengthen their authority and increase their effectiveness. We believe that the United Nations will be strengthened by the new nations which are being formed in lands now advancing toward self-government under democratic principles.Second, we will continue our programs for world economic recovery.This means, first of all, that we must keep our full weight behind the European recovery program. We are confident of the success of this major venture in world recovery. We believe that our partners in this effort will achieve the status of self-supporting nations once again.In addition, we must carry out our plans for reducing the barriers to world trade and increasing its volume. Economic recovery and peace itself depend on increased world trade.Third, we will strengthen freedom-loving nations against the dangers of aggression.We are now working out with a number of countries a joint agreement designed to strengthen the security of the North Atlantic area. Such an agreement would take the form of a collective defense arrangement within the terms of the United Nations Charter.We have already established such a defense pact for the Western Hemisphere by the treaty of Rio de Janeiro.The primary purpose of these agreements is to provide unmistakable proof of the joint determination of the free countries to resist armed attack from any quarter. Each country participating in these arrangements must contribute all it can to the common defense.If we can make it sufficiently clear, in advance, that any armed attack affecting our national security would be met with overwhelming force, the armed attack might never occur.I hope soon to send to the Senate a treaty respecting the North Atlantic security plan.In addition, we will provide military advice and equipment to free nations which will cooperate with us in the maintenance of peace and security.Fourth, we must embark on a bold new program for making the benefits of our scientific advances and industrial progress available for the improvement and growth of underdeveloped areas.More than half the people of the world are living in conditions approaching misery. Their food is inadequate. They are victims of disease. Their economic life is primitive and stagnant. Their poverty is a handicap and a threat both to them and to more prosperous areas.For the first time in history, humanity possesses the knowledge and the skill to relieve the suffering of these people.The United States is pre-eminent among nations in the development of industrial and scientific techniques. The material resources which we can afford to use for the assistance of other peoples are limited. But our imponderable resources in technical knowledge are constantly growing and are inexhaustible.I believe that we should make available to peace-loving peoples the benefits of our store of technical knowledge in order to help them realize their aspirations for a better life. And, in cooperation with other nations, we should foster capital investment in areas needing development.Our aim should be to help the free peoples of the world, through their own efforts, to produce more food, more clothing, more materials for housing, and more mechanical power to lighten their burdens.We invite other countries to pool their technological resources in this undertaking. Their contributions will be warmly welcomed. This should be a cooperative enterprise in which all nations work together through the United Nations and its specialized agencies wherever practicable. It must be a worldwide effort for the achievement of peace, plenty, and freedom.With the cooperation of business, private capital, agriculture, and labor in this country, this program can greatly increase the industrial activity in other nations and can raise substantially their standards of living.Such new economic developments must be devised and controlled to benefit the peoples of the areas in which they are established. Guarantees to the investor must be balanced by guarantees in the interest of the people whose resources and whose labor go into these developments.The old imperialism exploitation for foreign profit has no place in our plans. What we envisage is a program of development based on the concepts of democratic fair-dealing.All countries, including our own, will greatly benefit from a constructive program for the better use of the world\\'s human and natural resources. Experience shows that our commerce with other countries expands as they progress industrially and economically.Greater production is the key to prosperity and peace. And the key to greater production is a wider and more vigorous application of modern scientific and technical knowledge.Only by helping the least fortunate of its members to help themselves can the human family achieve the decent, satisfying life that is the right of all people.Democracy alone can supply the vitalizing force to stir the peoples of the world into triumphant action, not only against their human oppressors, but also against their ancient enemies hunger, misery, and despair.On the basis of these four major courses of action we hope to help create the conditions that will lead eventually to personal freedom and happiness for all mankind.If we are to be successful in carrying out these policies, it is clear that we must have continued prosperity in this country and we must keep ourselves strong.Slowly but surely we are weaving a world fabric of international security and growing prosperity.We are aided by all who wish to live in freedom from fear even by those who live today in fear under their own governments.We are aided by all who want relief from the lies of propaganda who desire truth and sincerity.We are aided by all who desire self-government and a voice in deciding their own affairs.We are aided by all who long for economic security for the security and abundance that men in free societies can enjoy.We are aided by all who desire freedom of speech, freedom of religion, and freedom to live their own lives for useful ends.Our allies are the millions who hunger and thirst after righteousness.In due time, as our stability becomes manifest, as more and more nations come to know the benefits of democracy and to participate in growing abundance, I believe that those countries which now oppose us will abandon their delusions and join with the free nations of the world in a just settlement of international differences.Events have brought our American democracy to new influence and new responsibilities. They will test our courage, our devotion to duty, and our concept of liberty.But I say to all men, what we have achieved in liberty, we will surpass in greater liberty.Steadfast in our faith in the Almighty, we will advance toward a world where man\\'s freedom is secure.To that end we will devote our strength, our resources, and our firmness of resolve. With God\\'s help, the future of mankind will be assured in a world of justice, harmony, and peace.The Price of Peace Mr. Chairman, Mr. Vice President, Mr. Chief Justice, Mr. Speaker, members of my family and friends, my countrymen, and the friends of my country, wherever they may be, we meet again, as upon a like moment four years ago, and again you have witnessed my solemn oath of service to you. I, too, am a witness, today testifying in your name to the principles and purposes to which we, as a people, are pledged.Before all else, we seek, upon our common labor as a nation, the blessings of Almighty God. And the hopes in our hearts fashion the deepest prayers of our whole people.May we pursue the right without self-righteousness.May we know unity without conformity.May we grow in strength without pride in self.May we, in our dealings with all peoples of the earth, ever speak truth and serve justice.And so shall America in the sight of all men of good will prove true to the honorable purposes that bind and rule us as a people in all this time of trial through which we pass.We live in a land of plenty, but rarely has this earth known such peril as today.In our nation work and wealth abound. Our population grows. Commerce crowds our rivers and rails, our skies, harbors, and highways. Our soil is fertile, our agriculture productive. The air rings with the song of our industry rolling mills and blast furnaces, dynamos, dams, and assembly lines the chorus of America the bountiful.This is our home yet this is not the whole of our world. For our world is where our full destiny lies with men, of all people, and all nations, who are or would be free. And for them and so for us this is no time of ease or of rest.In too much of the earth there is want, discord, danger. New forces and new nations stir and strive across the earth, with power to bring, by their fate, great good or great evil to the free world\\'s future. From the deserts of North Africa to the islands of the South Pacific one third of all mankind has entered upon an historic struggle for a new freedom; freedom from grinding poverty. Across all continents, nearly a billion people seek, sometimes almost in desperation, for the skills and knowledge and assistance by which they may satisfy from their own resources, the material wants common to all mankind.No nation, however old or great, escapes this tempest of change and turmoil. Some, impoverished by the recent World War, seek to restore their means of livelihood. In the heart of Europe, Germany still stands tragically divided. So is the whole continent divided. And so, too, is all the world.The divisive force is International Communism and the power that it controls.The designs of that power, dark in purpose, are clear in practice. It strives to seal forever the fate of those it has enslaved. It strives to break the ties that unite the free. And it strives to capture to exploit for its own greater power all forces of change in the world, especially the needs of the hungry and the hopes of the oppressed.Yet the world of International Communism has itself been shaken by a fierce and mighty force: the readiness of men who love freedom to pledge their lives to that love. Through the night of their bondage, the unconquerable will of heroes has struck with the swift, sharp thrust of lightning. Budapest is no longer merely the name of a city; henceforth it is a new and shining symbol of man\\'s yearning to be free.Thus across all the globe there harshly blow the winds of change. And, we though fortunate be our lot know that we can never turn our backs to them.We look upon this shaken earth, and we declare our firm and fixed purpose the building of a peace with justice in a world where moral law prevails.The building of such a peace is a bold and solemn purpose. To proclaim it is easy. To serve it will be hard. And to attain it, we must be aware of its full meaning and ready to pay its full price.We know clearly what we seek, and why.We seek peace, knowing that peace is the climate of freedom. And now, as in no other age, we seek it because we have been warned, by the power of modern weapons, that peace may be the only climate possible for human life itself.Yet this peace we seek cannot be born of fear alone: it must be rooted in the lives of nations. There must be justice, sensed and shared by all peoples, for, without justice the world can know only a tense and unstable truce. There must be law, steadily invoked and respected by all nations, for without law, the world promises only such meager justice as the pity of the strong upon the weak. But the law of which we speak, comprehending the values of freedom, affirms the equality of all nations, great and small.Splendid as can be the blessings of such a peace, high will be its cost: in toil patiently sustained, in help honorably given, in sacrifice calmly borne.We are called to meet the price of this peace.To counter the threat of those who seek to rule by force, we must pay the costs of our own needed military strength, and help to build the security of others.We must use our skills and knowledge and, at times, our substance, to help others rise from misery, however far the scene of suffering may be from our shores. For wherever in the world a people knows desperate want, there must appear at least the spark of hope, the hope of progress or there will surely rise at last the flames of conflict.We recognize and accept our own deep involvement in the destiny of men everywhere. We are accordingly pledged to honor, and to strive to fortify, the authority of the United Nations. For in that body rests the best hope of our age for the assertion of that law by which all nations may live in dignity.And, beyond this general resolve, we are called to act a responsible role in the world\\'s great concerns or conflicts whether they touch upon the affairs of a vast region, the fate of an island in the Pacific, or the use of a canal in the Middle East. Only in respecting the hopes and cultures of others will we practice the equality of all nations. Only as we show willingness and wisdom in giving counsel in receiving counsel and in sharing burdens, will we wisely perform the work of peace.For one truth must rule all we think and all we do. No people can live to itself alone. The unity of all who dwell in freedom is their only sure defense. The economic need of all nations in mutual dependence makes isolation an impossibility; not even America\\'s prosperity could long survive if other nations did not also prosper. No nation can longer be a fortress, lone and strong and safe. And any people, seeking such shelter for themselves, can now build only their own prison.Our pledge to these principles is constant, because we believe in their rightness.We do not fear this world of change. America is no stranger to much of its spirit. Everywhere we see the seeds of the same growth that America itself has known. The American experiment has, for generations, fired the passion and the courage of millions elsewhere seeking freedom, equality, and opportunity. And the American story of material progress has helped excite the longing of all needy peoples for some satisfaction of their human wants. These hopes that we have helped to inspire, we can help to fulfill.In this confidence, we speak plainly to all peoples.We cherish our friendship with all nations that are or would be free. We respect, no less, their independence. And when, in time of want or peril, they ask our help, they may honorably receive it; for we no more seek to buy their sovereignty than we would sell our own. Sovereignty is never bartered among freemen.We honor the aspirations of those nations which, now captive, long for freedom. We seek neither their military alliance nor any artificial imitation of our society. And they can know the warmth of the welcome that awaits them when, as must be, they join again the ranks of freedom.We honor, no less in this divided world than in a less tormented time, the people of Russia. We do not dread, rather do we welcome, their progress in education and industry. We wish them success in their demands for more intellectual freedom, greater security before their own laws, fuller enjoyment of the rewards of their own toil. For as such things come to pass, the more certain will be the coming of that day when our peoples may freely meet in friendship.So we voice our hope and our belief that we can help to heal this divided world. Thus may the nations cease to live in trembling before the menace of force. Thus may the weight of fear and the weight of arms be taken from the burdened shoulders of mankind.This, nothing less, is the labor to which we are called and our strength dedicated.And so the prayer of our people carries far beyond our own frontiers, to the wide world of our duty and our destiny.May the light of freedom, coming to all darkened lands, flame brightly until at last the darkness is no more.May the turbulence of our age yield to a true time of peace, when men and nations shall share a life that honors the dignity of each, the brotherhood of all.Vice President Johnson, Mr. Speaker, Mr. Chief Justice, President Eisenhower, Vice President Nixon, President Truman, reverend clergy, fellow citizens, we observe today not a victory of party, but a celebration of freedom symbolizing an end, as well as a beginning signifying renewal, as well as change. For I have sworn I before you and Almighty God the same solemn oath our forebears l prescribed nearly a century and three quarters ago.The world is very different now. For man holds in his mortal hands the power to abolish all forms of human poverty and all forms of human life. And yet the same revolutionary beliefs for which our forebears fought are still at issue around the globe the belief that the rights of man come not from the generosity of the state, but from the hand of God.We dare not forget today that we are the heirs of that first revolution. Let the word go forth from this time and place, to friend and foe alike, that the torch has been passed to a new generation of Americans born in this century, tempered by war, disciplined by a hard and bitter peace, proud of our ancient heritage and unwilling to witness or permit the slow undoing of those human rights to which this Nation has always been committed, and to which we are committed today at home and around the world.Let every nation know, whether it wishes us well or ill, that we shall pay any price, bear any burden, meet any hardship, support any friend, oppose any foe, in order to assure the survival and the success of liberty.This much we pledge and more.To those old allies whose cultural and spiritual origins we share, we pledge the loyalty of faithful friends. United, there is little we cannot do in a host of cooperative ventures. Divided, there is little we can do for we dare not meet a powerful challenge at odds and split asunder.To those new States whom we welcome to the ranks of the free, we pledge our word that one form of colonial control shall not have passed away merely to be replaced by a far more iron tyranny. We shall not always expect to find them supporting our view. But we shall always hope to find them strongly supporting their own freedom and to remember that, in the past, those who foolishly sought power by riding the back of the tiger ended up inside.To those peoples in the huts and villages across the globe struggling to break the bonds of mass misery, we pledge our best efforts to help them help themselves, for whatever period is required not because the Communists may be doing it, not because we seek their votes, but because it is right. If a free society cannot help the many who are poor, it cannot save the few who are rich.To our sister republics south of our border, we offer a special pledge to convert our good words into good deeds in a new alliance for progress to assist free men and free governments in casting off the chains of poverty. But this peaceful revolution of hope cannot become the prey of hostile powers. Let all our neighbors know that we shall join with them to oppose aggression or subversion anywhere in the Americas. And let every other power know that this Hemisphere intends to remain the master of its own house.To that world assembly of sovereign states, the United Nations, our last best hope in an age where the instruments of war have far outpaced the instruments of peace, we renew our pledge of support to prevent it from becoming merely a forum for invective to strengthen its shield of the new and the weak and to enlarge the area in which its writ may run.Finally, to those nations who would make themselves our adversary, we offer not a pledge but a request: that both sides begin anew the quest for peace, before the dark powers of destruction unleashed by science engulf all humanity in planned or accidental self-destruction.We dare not tempt them with weakness. For only when our arms are sufficient beyond doubt can we be certain beyond doubt that they will never be employed.But neither can two great and powerful groups of nations take comfort from our present course both sides overburdened by the cost of modern weapons, both rightly alarmed by the steady spread of the deadly atom, yet both racing to alter that uncertain balance of terror that stays the hand of mankind\\'s final war.So let us begin anew remembering on both sides that civility is not a sign of weakness, and sincerity is always subject to proof. Let us never negotiate out of fear. But let us never fear to negotiate.Let both sides explore what problems unite us instead of belaboring those problems which divide us.Let both sides, for the first time, formulate serious and precise proposals for the inspection and control of arms and bring the absolute power to destroy other nations under the absolute control of all nations.Let both sides seek to invoke the wonders of science instead of its terrors. Together let us explore the stars, conquer the deserts, eradicate disease, tap the ocean depths, and encourage the arts and commerce.Let both sides unite to heed in all corners of the earth the command of Isaiah to \"undo the heavy burdens ... and to let the oppressed go free.\"And if a beachhead of cooperation may push back the jungle of suspicion, let both sides join in creating a new endeavor, not a new balance of power, but a new world of law, where the strong are just and the weak secure and the peace preserved.All this will not be finished in the first 100 days. Nor will it be finished in the first 1,000 days, nor in the life of this Administration, nor even perhaps in our lifetime on this planet. But let us begin.In your hands, my fellow citizens, more than in mine, will rest the final success or failure of our course. Since this country was founded, each generation of Americans has been summoned to give testimony to its national loyalty. The graves of young Americans who answered the call to service surround the globe.Now the trumpet summons us again not as a call to bear arms, though arms we need; not as a call to battle, though embattled we are but a call to bear the burden of a long twilight struggle, year in and year out, \"rejoicing in hope, patient in tribulation\" a struggle against the common enemies of man: tyranny, poverty, disease, and war itself.Can we forge against these enemies a grand and global alliance, North and South, East and West, that can assure a more fruitful life for all mankind? Will you join in that historic effort?In the long history of the world, only a few generations have been granted the role of defending freedom in its hour of maximum danger. I do not shrink from this responsibility I welcome it. I do not believe that any of us would exchange places with any other people or any other generation. The energy, the faith, the devotion which we bring to this endeavor will light our country and all who serve it and the glow from that fire can truly light the world.And so, my fellow Americans: ask not what your country can do for you ask what you can do for your country.My fellow citizens of the world: ask not what America will do for you, but what together we can do for the freedom of man.Finally, whether you are citizens of America or citizens of the world, ask of us the same high standards of strength and sacrifice which we ask of you. With a good conscience our only sure reward, with history the final judge of our deeds, let us go forth to lead the land we love, asking His blessing and His help, but knowing that here on earth God\\'s work must truly be our own.My fellow countrymen, on this occasion, the oath I have taken before you and before God is not mine alone, but ours together. We are one nation and one people. Our fate as a nation and our future as a people rest not upon one citizen, but upon all citizens.This is the majesty and the meaning of this moment.For every generation, there is a destiny. For some, history decides. For this generation, the choice must be our own.Even now, a rocket moves toward Mars. It reminds us that the world will not be the same for our children, or even for ourselves m a short span of years. The next man to stand here will look out on a scene different from our own, because ours is a time of change rapid and fantastic change bearing the secrets of nature, multiplying the nations, placing in uncertain hands new weapons for mastery and destruction, shaking old values, and uprooting old ways.Our destiny in the midst of change will rest on the unchanged character of our people, and on their faith. The American Covenant They came here the exile and the stranger, brave but frightened to find a place where a man could be his own man. They made a covenant with this land. Conceived in justice, written in liberty, bound in union, it was meant one day to inspire the hopes of all mankind; and it binds us still. If we keep its terms, we shall flourish.Justice and Change First, justice was the promise that all who made the journey would share in the fruits of the land. In a land of great wealth, families must not live in hopeless poverty. In a land rich in harvest, children just must not go hungry. In a land of healing miracles, neighbors must not suffer and die unattended. In a great land of learning and scholars, young people must be taught to read and write.For the more than 30 years that I have served this Nation, I have believed that this injustice to our people, this waste of our resources, was our real enemy. For 30 years or more, with the resources I have had, I have vigilantly fought against it. I have learned, and I know, that it will not surrender easily.But change has given us new weapons. Before this generation of Americans is finished, this enemy will not only retreat it will be conquered.Justice requires us to remember that when any citizen denies his fellow, saying, \"His color is not mine,\" or \"His beliefs are strange and different,\" in that moment he betrays America, though his forebears created this Nation. Liberty and Change Liberty was the second article of our covenant. It was self-government. It was our Bill of Rights. But it was more. America would be a place where each man could be proud to be himself: stretching his talents, rejoicing in his work, important in the life of his neighbors and his nation. This has become more difficult in a world where change and growth seem to tower beyond the control and even the judgment of men. We must work to provide the knowledge and the surroundings which can enlarge the possibilities of every citizen.The American covenant called on us to help show the way for the liberation of man. And that is today our goal. Thus, if as a nation there is much outside our control, as a people no stranger is outside our hope.Change has brought new meaning to that old mission. We can never again stand aside, prideful in isolation. Terrific dangers and troubles that we once called \"foreign\" now constantly live among us. If American lives must end, and American treasure be spilled, in countries we barely know, that is the price that change has demanded of conviction and of our enduring covenant.Think of our world as it looks from the rocket that is heading toward Mars. It is like a child\\'s globe, hanging in space, the continents stuck to its side like colored maps. We are all fellow passengers on a dot of earth. And each of us, in the span of time, has really only a moment among our companions.How incredible it is that in this fragile existence, we should hate and destroy one another. There are possibilities enough for all who will abandon mastery over others to pursue mastery over nature. There is world enough for all to seek their happiness in their own way.Our Nation\\'s course is abundantly clear. We aspire to nothing that belongs to others. We seek no dominion over our fellow man. but man\\'s dominion over tyranny and misery.But more is required. Men want to be a part of a common enterprise a cause greater than themselves. Each of us must find a way to advance the purpose of the Nation, thus finding new purpose for ourselves. Without this, we shall become a nation of strangers. Change and the Union The third article was union. To those who were small and few against the wilderness, the success of liberty demanded the strength of union. Two centuries of change have made this true again. No longer need capitalist and worker, farmer and clerk, city and countryside, struggle to divide our bounty. By working shoulder to shoulder, together we can increase the bounty of all. We have discovered that every child who learns, every man who finds work, every sick body together, like a candle added to an altar brightens the hope of all the faithful.So let us reject any among us who seek to reopen old wounds and to rekindle old hatreds. They stand in the way of a seeking nation.Let us now join reason to faith and action to experience, to transform our unity of interest into a unity of purpose. For the hour and the day and the time are here to achieve progress without strife, to achieve change without hatred not without difference of opinion, but without the deep and abiding divisions which scar the union for generations. The American Belief Under this covenant of justice, liberty, and union we have become a nation prosperous, great, and mighty. And we have kept our freedom. But we have no promise from God that our greatness will endure. We have been allowed by Him to seek greatness with the sweat of our hands and the strength of our spirit. I do not believe that the Great Society is the ordered, changeless, and sterile battalion of the ants. It is the excitement of becoming always becoming, trying, probing, falling, resting, and trying again but always trying and always gaining.In each generation, with toil and tears, we have had to earn our heritage again.If we fail now, we shall have forgotten in abundance what we learned in hardship: that democracy rests on faith, that freedom asks more than it gives, and that the judgment of God is harshest on those who are most favored.If we succeed, it will not be because of what we have, but it will be because of what we are; not because of what we own, but, rather because of what we believe.For we are a nation of believers. Underneath the clamor of building and the rush of our day\\'s pursuits, we are believers in justice and liberty and union, and in our own Union. We believe that every man must someday be free. And we believe in ourselves.Our enemies have always made the same mistake. In my lifetime in depression and in war they have awaited our defeat. Each time, from the secret places of the American heart, came forth the faith they could not see or that they could not even imagine. It brought us victory. And it will again.For this is what America is all about. It is the uncrossed desert and the unclimbed ridge. It is the star that is not reached and the harvest sleeping in the unplowed ground. Is our world gone? We say \"Farewell.\" Is a new world coming? We welcome it and we will bend it to the hopes of man.To these trusted public servants and to my family and those close friends of mine who have followed me down a long, winding road, and to all the people of this Union and the world, I will repeat today what I said on that sorrowful day in November 1963: \"I will lead and I will do the best I can.\"But you must look within your own hearts to the old promises and to the old dream. They will lead you best of all.For myself, I ask only, in the words of an ancient leader: \"Give me now wisdom and knowledge, that I may go out and come in before this people: for who can judge this thy people, that is so great?\"Mr. Vice President, Mr. Speaker, Mr. Chief Justice, Senator Cook, Mrs. Eisenhower, and my fellow citizens of this great and good country we share together:When we met here four years ago, America was bleak in spirit, depressed by the prospect of seemingly endless war abroad and of destructive conflict at home.As we meet here today, we stand on the threshold of a new era of peace in the world.The central question before us is: How shall we use that peace? Let us resolve that this era we are about to enter will not be what other postwar periods have so often been: a time of retreat and isolation that leads to stagnation at home and invites new danger abroad.Let us resolve that this will be what it can become: a time of great responsibilities greatly borne, in which we renew the spirit and the promise of America as we enter our third century as a nation.This past year saw far-reaching results from our new policies for peace. By continuing to revitalize our traditional friendships, and by our missions to Peking and to Moscow, we were able to establish the base for a new and more durable pattern of relationships among the nations of the world. Because of America\\'s bold initiatives, 1972 will be long remembered as the year of the greatest progress since the end of World War II toward a lasting peace in the world.The peace we seek in the world is not the flimsy peace which is merely an interlude between wars, but a peace which can endure for generations to come.It is important that we understand both the necessity and the limitations of America\\'s role in maintaining that peace.Unless we in America work to preserve the peace, there will be no peace.Unless we in America work to preserve freedom, there will be no freedom.But let us clearly understand the new nature of America\\'s role, as a result of the new policies we have adopted over these past four years.We shall respect our treaty commitments.We shall support vigorously the principle that no country has the right to impose its will or rule on another by force.We shall continue, in this era of negotiation, to work for the limitation of nuclear arms, and to reduce the danger of confrontation between the great powers.We shall do our share in defending peace and freedom in the world. But we shall expect others to do their share.The time has passed when America will make every other nation\\'s conflict our own, or make every other nation\\'s future our responsibility, or presume to tell the people of other nations how to manage their own affairs.Just as we respect the right of each nation to determine its own future, we also recognize the responsibility of each nation to secure its own future.Just as America\\'s role is indispensable in preserving the world\\'s peace, so is each nation\\'s role indispensable in preserving its own peace.Together with the rest of the world, let us resolve to move forward from the beginnings we have made. Let us continue to bring down the walls of hostility which have divided the world for too long, and to build in their place bridges of understanding so that despite profound differences between systems of government, the people of the world can be friends.Let us build a structure of peace in the world in which the weak are as safe as the strong in which each respects the right of the other to live by a different system in which those who would influence others will do so by the strength of their ideas, and not by the force of their arms.Let us accept that high responsibility not as a burden, but gladly gladly because the chance to build such a peace is the noblest endeavor in which a nation can engage; gladly, also, because only if we act greatly in meeting our responsibilities abroad will we remain a great Nation, and only if we remain a great Nation will we act greatly in meeting our challenges at home.We have the chance today to do more than ever before in our history to make life better in America to ensure better education, better health, better housing, better transportation, a cleaner environment to restore respect for law, to make our communities more livable and to insure the God-given right of every American to full and equal opportunity.Because the range of our needs is so great because the reach of our opportunities is so great let us be bold in our determination to meet those needs in new ways.Just as building a structure of peace abroad has required turning away from old policies that failed, so building a new era of progress at home requires turning away from old policies that have failed.Abroad, the shift from old policies to new has not been a retreat from our responsibilities, but a better way to peace.And at home, the shift from old policies to new will not be a retreat from our responsibilities, but a better way to progress.Abroad and at home, the key to those new responsibilities lies in the placing and the division of responsibility. We have lived too long with the consequences of attempting to gather all power and responsibility in Washington.Abroad and at home, the time has come to turn away from the condescending policies of paternalism of \"Washington knows best.\"A person can be expected to act responsibly only if he has responsibility. This is human nature. So let us encourage individuals at home and nations abroad to do more for themselves, to decide more for themselves. Let us locate responsibility in more places. Let us measure what we will do for others by what they will do for themselves.That is why today I offer no promise of a purely governmental solution for every problem. We have lived too long with that false promise. In trusting too much in government, we have asked of it more than it can deliver. This leads only to inflated expectations, to reduced individual effort, and to a disappointment and frustration that erode confidence both in what government can do and in what people can do.Government must learn to take less from people so that people an do more for themselves.Let us remember that America was built not by government, but by people not by welfare, but by work not by shirking responsibility, but by seeking responsibility.In our own lives, let each of us ask not just what will government do for me, but what can I do for myself?In the challenges we face together, let each of us ask not just how can government help, but how can I help?Your National Government has a great and vital role to play. And I pledge to you that where this Government should act, we will act boldly and we will lead boldly. But just as important is the role that each and every one of us must play, as an individual and as a member of his own community.From this day forward, let each of us make a solemn commitment in his own heart: to bear his responsibility, to do his part, to live his ideals so that together, we can see the dawn of a new age of progress for America, and together, as we celebrate our 200th anniversary as a nation, we can do so proud in the fulfillment of our promise to ourselves and to the world.As America\\'s longest and most difficult war comes to an end, let us again learn to debate our differences with civility and decency. And let each of us reach out for that one precious quality government cannot provide a new level of respect for the rights and feelings of one another, a new level of respect for the individual human dignity which is the cherished birthright of every American.Above all else, the time has come for us to renew our faith in ourselves and in America.In recent years, that faith has been challenged.Our children have been taught to be ashamed of their country, ashamed of their parents, ashamed of America\\'s record at home and of its role in the world.At every turn, we have been beset by those who find everything wrong with America and little that is right. But I am confident that this will not be the judgment of history on these remarkable times in which we are privileged to live.America\\'s record in this century has been unparalleled in the world\\'s history for its responsibility, for its generosity, for its creativity and for its progress.Let us be proud that our system has produced and provided more freedom and more abundance, more widely shared, than any other system in the history of the world.Let us be proud that in each of the four wars in which we have been engaged in this century, including the one we are now bringing to an end, we have fought not for our selfish advantage, but to help others resist aggression.Let us be proud that by our bold, new initiatives, and by our steadfastness for peace with honor, we have made a break-through toward creating in the world what the world has not known before a structure of peace that can last, not merely for our time, but for generations to come.We are embarking here today on an era that presents challenges great as those any nation, or any generation, has ever faced.We shall answer to God, to history, and to our conscience for the way in which we use these years.As I stand in this place, so hallowed by history, I think of others who have stood here before me. I think of the dreams they had for America, and I think of how each recognized that he needed help far beyond himself in order to make those dreams come true.Today, I ask your prayers that in the years ahead I may have God\\'s help in making decisions that are right for America, and I pray for your help so that together we may be worthy of our challenge.Let us pledge together to make these next four years the best four years in America\\'s history, so that on its 200th birthday America will be as young and as vital as when it began, and as bright a beacon of hope for all the world.Let us go forward from here confident in hope, strong in our faith in one another, sustained by our faith in God who created us, and striving always to serve His purpose.For myself and for our Nation, I want to thank my predecessor for all he has done to heal our land.In this outward and physical ceremony we attest once again to the inner and spiritual strength of our Nation. As my high school teacher, Miss Julia Coleman, used to say: \"We must adjust to changing times and still hold to unchanging principles.\"Here before me is the Bible used in the inauguration of our first President, in 1789, and I have just taken the oath of office on the Bible my mother gave me a few years ago, opened to a timeless admonition from the ancient prophet Micah:\"He hath showed thee, O man, what is good; and what doth the Lord require of thee, but to do justly, and to love mercy, and to walk humbly with thy God.\" (Micah 6: 8) This inauguration ceremony marks a new beginning, a new dedication within our Government, and a new spirit among us all. A President may sense and proclaim that new spirit, but only a people can provide it.Two centuries ago our Nation\\'s birth was a milestone in the long quest for freedom, but the bold and brilliant dream which excited the founders of this Nation still awaits its consummation. I have no new dream to set forth today, but rather urge a fresh faith in the old dream.Ours was the first society openly to define itself in terms of both spirituality and of human liberty. It is that unique self- definition which has given us an exceptional appeal, but it also imposes on us a special obligation, to take on those moral duties which, when assumed, seem invariably to be in our own best interests.You have given me a great responsibility to stay close to you, to be worthy of you, and to exemplify what you are. Let us create together a new national spirit of unity and trust. Your strength can compensate for my weakness, and your wisdom can help to minimize my mistakes.Let us learn together and laugh together and work together and pray together, confident that in the end we will triumph together in the right.The American dream endures. We must once again have full faith in our country and in one another. I believe America can be better. We can be even stronger than before.Let our recent mistakes bring a resurgent commitment to the basic principles of our Nation, for we know that if we despise our own government we have no future. We recall in special times when we have stood briefly, but magnificently, united. In those times no prize was beyond our grasp.But we cannot dwell upon remembered glory. We cannot afford to drift. We reject the prospect of failure or mediocrity or an inferior quality of life for any person. Our Government must at the same time be both competent and compassionate.We have already found a high degree of personal liberty, and we are now struggling to enhance equality of opportunity. Our commitment to human rights must be absolute, our laws fair, our natural beauty preserved; the powerful must not persecute the weak, and human dignity must be enhanced.We have learned that more is not necessarily better, that even our great Nation has its recognized limits, and that we can neither answer all questions nor solve all problems. We cannot afford to do everything, nor can we afford to lack boldness as we meet the future. So, together, in a spirit of individual sacrifice for the common good, we must simply do our best.Our Nation can be strong abroad only if it is strong at home. And we know that the best way to enhance freedom in other lands is to demonstrate here that our democratic system is worthy of emulation.To be true to ourselves, we must be true to others. We will not behave in foreign places so as to violate our rules and standards here at home, for we know that the trust which our Nation earns is essential to our strength.The world itself is now dominated by a new spirit. People are more numerous and more politically aware are craving and now demanding their place in the sun not just for the benefit of their own physical condition, but for basic human rights.The passion for freedom is on the rise. Tapping this new spirit, there can be no nobler nor more ambitious task for America to undertake on this day of a new beginning than to help shape a just and peaceful world that is truly humane.We are a strong nation, and we will maintain strength so sufficient that it need not be proven in combat a quiet strength based not merely on the size of an arsenal, but on the nobility of ideas.We will be ever vigilant and never vulnerable, and we will fight our wars against poverty, ignorance, and injustice for those are the enemies against which our forces can be honorably marshaled.We are a purely idealistic Nation, but let no one confuse our idealism with weakness.Because we are free we can never be indifferent to the fate of freedom elsewhere. Our moral sense dictates a clearcut preference for these societies which share with us an abiding respect for individual human rights. We do not seek to intimidate, but it is clear that a world which others can dominate with impunity would be inhospitable to decency and a threat to the well-being of all people.The world is still engaged in a massive armaments race designed to ensure continuing equivalent strength among potential adversaries. We pledge perseverance and wisdom in our efforts to limit the world\\'s armaments to those necessary for each nation\\'s own domestic safety. And we will move this year a step toward ultimate goal the elimination of all nuclear weapons from this Earth. We urge all other people to join us, for success can mean life instead of death.Within us, the people of the United States, there is evident a serious and purposeful rekindling of confidence. And I join in the hope that when my time as your President has ended, people might say this about our Nation: That we had remembered the words of Micah and renewed our search for humility, mercy, and justice; - that we had torn down the barriers that separated those of different race and region and religion, and where there had been mistrust, built unity, with a respect for diversity; - that we had found productive work for those able to perform it; - that we had strengthened the American family, which is the basi of our society; - that we had ensured respect for the law, and equal treatment under the law, for the weak and the powerful, for the rich and the poor; - and that we had enabled our people to be proud of their own Government once again.I would hope that the nations of the world might say that we had built a lasting peace, built not on weapons of war but on international policies which reflect our own most precious values.These are not just my goals, and they will not be my accomplishments, but the affirmation of our Nation\\'s continuing moral strength and our belief in an undiminished, ever-expanding American dream.Senator Mathias, Chief Justice Burger, Vice President Bush, Speaker O\\'Neill, Senator Dole, Reverend Clergy, members of my family and friends, and my fellow citizens:This day has been made brighter with the presence here of one who, for a time, has been absent Senator John Stennis.God bless you and welcome back.There is, however, one who is not with us today: Representative Gillis Long of Louisiana left us last night. I wonder if we could all join in a moment of silent prayer. (Moment of silent prayer.) Amen.There are no words adequate to express my thanks for the great honor that you have bestowed on me. I will do my utmost to be deserving of your trust.This is, as Senator Mathias told us, the 50th time that we the people have celebrated this historic occasion. When the first President, George Washington, placed his hand upon the Bible, he stood less than a single day\\'s journey by horseback from raw, untamed wilderness. There were 4 million Americans in a union of 13 States. Today we are 60 times as many in a union of 50 States. We have lighted the world with our inventions, gone to the aid of mankind wherever in the world there was a cry for help, journeyed to the Moon and safely returned. So much has changed. And yet we stand together as we did two centuries ago.When I took this oath four years ago, I did so in a time of economic stress. Voices were raised saying we had to look to our past for the greatness and glory. But we, the present-day Americans, are not given to looking backward. In this blessed land, there is always a better tomorrow.Four years ago, I spoke to you of a new beginning and we have accomplished that. But in another sense, our new beginning is a continuation of that beginning created two centuries ago when, for the first time in history, government, the people said, was not our master, it is our servant; its only power that which we the people allow it to have.That system has never failed us, but, for a time, we failed the system. We asked things of government that government was not equipped to give. We yielded authority to the National Government that properly belonged to States or to local governments or to the people themselves. We allowed taxes and inflation to rob us of our earnings and savings and watched the great industrial machine that had made us the most productive people on Earth slow down and the number of unemployed increase.By 1980, we knew it was time to renew our faith, to strive with all our strength toward the ultimate in individual freedom consistent with an orderly society.We believed then and now there are no limits to growth and human progress when men and women are free to follow their dreams.And we were right to believe that. Tax rates have been reduced, inflation cut dramatically, and more people are employed than ever before in our history.We are creating a nation once again vibrant, robust, and alive. But there are many mountains yet to climb. We will not rest until every American enjoys the fullness of freedom, dignity, and opportunity as our birthright. It is our birthright as citizens of this great Republic, and we\\'ll meet this challenge.These will be years when Americans have restored their confidence and tradition of progress; when our values of faith, family, work, and neighborhood were restated for a modern age; when our economy was finally freed from government\\'s grip; when we made sincere efforts at meaningful arms reduction, rebuilding our defenses, our economy, and developing new technologies, and helped preserve peace in a troubled world; when Americans courageously supported the struggle for liberty, self-government, and free enterprise throughout the world, and turned the tide of history away from totalitarian darkness and into the warm sunlight of human freedom.My fellow citizens, our Nation is poised for greatness. We must do what we know is right and do it with all our might. Let history say of us, \"These were golden years when the American Revolution was reborn, when freedom gained new life, when America reached for her best.\"Our two-party system has served us well over the years, but never better than in those times of great challenge when we came together not as Democrats or Republicans, but as Americans united in a common cause.Two of our Founding Fathers, a Boston lawyer named Adams and a Virginia planter named Jefferson, members of that remarkable group who met in Independence Hall and dared to think they could start the world over again, left us an important lesson. They had become political rivals in the Presidential election of 1800. Then years later, when both were retired, and age had softened their anger, they began to speak to each other again through letters. A bond was reestablished between those two who had helped create this government of ours.In 1826, the 50th anniversary of the Declaration of Independence, they both died. They died on the same day, within a few hours of each other, and that day was the Fourth of July.In one of those letters exchanged in the sunset of their lives, Jefferson wrote: \"It carries me back to the times when, beset with difficulties and dangers, we were fellow laborers in the same cause, struggling for what is most valuable to man, his right to self-government. Laboring always at the same oar, with some wave ever ahead threatening to overwhelm us, and yet passing harmless... we rode through the storm with heart and hand.\"Well, with heart and hand, let us stand as one today: One people under God determined that our future shall be worthy of our past. As we do, we must not repeat the well-intentioned errors of our past. We must never again abuse the trust of working men and women, by sending their earnings on a futile chase after the spiraling demands of a bloated Federal Establishment. You elected us in 1980 to end this prescription for disaster, and I don\\'t believe you reelected us in 1984 to reverse course.At the heart of our efforts is one idea vindicated by 25 straight months of economic growth: Freedom and incentives unleash the drive and entrepreneurial genius that are the core of human progress. We have begun to increase the rewards for work, savings, and investment; reduce the increase in the cost and size of government and its interference in people\\'s lives.We must simplify our tax system, make it more fair, and bring the rates down for all who work and earn. We must think anew and move with a new boldness, so every American who seeks work can find work; so the least among us shall have an equal chance to achieve the greatest things to be heroes who heal our sick, feed the hungry, protect peace among nations, and leave this world a better place.The time has come for a new American emancipation a great national drive to tear down economic barriers and liberate the spirit of enterprise in the most distressed areas of our country. My friends, together we can do this, and do it we must, so help me God. From new freedom will spring new opportunities for growth, a more productive, fulfilled and united people, and a stronger America an America that will lead the technological revolution, and also open its mind and heart and soul to the treasures of literature, music, and poetry, and the values of faith, courage, and love.A dynamic economy, with more citizens working and paying taxes, will be our strongest tool to bring down budget deficits. But an almost unbroken 50 years of deficit spending has finally brought us to a time of reckoning. We have come to a turning point, a moment for hard decisions. I have asked the Cabinet and my staff a question, and now I put the same question to all of you: If not us, who? And if not now, when? It must be done by all of us going forward with a program aimed at reaching a balanced budget. We can then begin reducing the national debt.I will shortly submit a budget to the Congress aimed at freezing government program spending for the next year. Beyond that, we must take further steps to permanently control Government\\'s power to tax and spend. We must act now to protect future generations from Government\\'s desire to spend its citizens\\' money and tax them into servitude when the bills come due. Let us make it unconstitutional for the Federal Government to spend more than the Federal Government takes in.We have already started returning to the people and to State and local governments responsibilities better handled by them. Now, there is a place for the Federal Government in matters of social compassion. But our fundamental goals must be to reduce dependency and upgrade the dignity of those who are infirm or disadvantaged. And here a growing economy and support from family and community offer our best chance for a society where compassion is a way of life, where the old and infirm are cared for, the young and, yes, the unborn protected, and the unfortunate looked after and made selfAnd there is another area where the Federal Government can play a part. As an older American, I remember a time when people of different race, creed, or ethnic origin in our land found hatred and prejudice installed in social custom and, yes, in law. There is no story more heartening in our history than the progress that we have made toward the \"brotherhood of man\" that God intended for us. Let us resolve there will be no turning back or hesitation on the road to an America rich in dignity and abundant with opportunity for all our citizens.Let us resolve that we the people will build an American opportunity society in which all of us white and black, rich and poor, young and old will go forward together arm in arm. Again, let us remember that though our heritage is one of blood lines from every corner of the Earth, we are all Americans pledged to carry on this last, best hope of man on Earth.I have spoken of our domestic goals and the limitations which we should put on our National Government. Now let me turn to a task which is the primary responsibility of National Government the safety and security of our people.Today, we utter no prayer more fervently than the ancient prayer for peace on Earth. Yet history has shown that peace will not come, nor will our freedom be preserved, by good will alone. There are those in the world who scorn our vision of human dignity and freedom. One nation, the Soviet Union, has conducted the greatest military buildup in the history of man, building arsenals of awesome offensive weapons.We have made progress in restoring our defense capability. But much remains to be done. There must be no wavering by us, nor any doubts by others, that America will meet her responsibilities to remain free, secure, and at peace.There is only one way safely and legitimately to reduce the cost of national security, and that is to reduce the need for it. And this we are trying to do in negotiations with the Soviet Union. We are not just discussing limits on a further increase of nuclear weapons. We seek, instead, to reduce their number. We seek the total elimination one day of nuclear weapons from the face of the Earth.Now, for decades, we and the Soviets have lived under the threat of mutual assured destruction; if either resorted to the use of nuclear weapons, the other could retaliate and destroy the one who had started it. Is there either logic or morality in believing that if one side threatens to kill tens of millions of our people, our only recourse is to threaten killing tens of millions of theirs?I have approved a research program to find, if we can, a security shield that would destroy nuclear missiles before they reach their target. It wouldn\\'t kill people, it would destroy weapons. It wouldn\\'t militarize space, it would help demilitarize the arsenals of Earth. It would render nuclear weapons obsolete. We will meet with the Soviets, hoping that we can agree on a way to rid the world of the threat of nuclear destruction.We strive for peace and security, heartened by the changes all around us. Since the turn of the century, the number of democracies in the world has grown fourfold. Human freedom is on the march, and nowhere more so than our own hemisphere. Freedom is one of the deepest and noblest aspirations of the human spirit. People, worldwide, hunger for the right of self-determination, for those inalienable rights that make for human dignity and progress.America must remain freedom\\'s staunchest friend, for freedom is our best ally.And it is the world\\'s only hope, to conquer poverty and preserve peace. Every blow we inflict against poverty will be a blow against its dark allies of oppression and war. Every victory for human freedom will be a victory for world peace.So we go forward today, a nation still mighty in its youth and powerful in its purpose. With our alliances strengthened, with our economy leading the world to a new age of economic expansion, we look forward to a world rich in possibilities. And all this because we have worked and acted together, not as members of political parties, but as Americans.My friends, we live in a world that is lit by lightning. So much is changing and will change, but so much endures, and transcends time.History is a ribbon, always unfurling; history is a journey. And as we continue our journey, we think of those who traveled before us. We stand together again at the steps of this symbol of our democracy or we would have been standing at the steps if it hadn\\'t gotten so cold. Now we are standing inside this symbol of our democracy. Now we hear again the echoes of our past: a general falls to his knees in the hard snow of Valley Forge; a lonely President paces the darkened halls, and ponders his struggle to preserve the Union; the men of the Alamo call out encouragement to each other; a settler pushes west and sings a song, and the song echoes out forever and fills the unknowing air.It is the American sound. It is hopeful, big-hearted, idealistic, daring, decent, and fair. That\\'s our heritage; that is our song. We sing it still. For all our problems, our differences, we are together as of old, as we raise our voices to the God who is the Author of this most tender music. And may He continue to hold us close as we fill the world with our sound sound in unity, affection, and love one people under God, dedicated to the dream of freedom that He has placed in the human heart, called upon now to pass that dream on to a waiting and hopeful world.God bless you and may God bless America.Mr. Chief Justice, Mr. President, Vice President Quayle, Senator Mitchell, Speaker Wright, Senator Dole, Congressman Michael, and fellow citizens, neighbors, and friends: There is a man here who has earned a lasting place in our hearts and in our history. President Reagan, on behalf of our Nation, I thank you for the wonderful things that you have done for America. I have just repeated word for word the oath taken by George Washington 200 years ago, and the Bible on which I placed my hand is the Bible on which he placed his. It is right that the memory of Washington be with us today, not only because this is our Bicentennial Inauguration, but because Washington remains the Father of our Country. And he would, I think, be gladdened by this day; for today is the concrete expression of a stunning fact: our continuity these 200 years since our government began. We meet on democracy\\'s front porch, a good place to talk as neighbors and as friends. For this is a day when our nation is made whole, when our differences, for a moment, are suspended. And my first act as President is a prayer. I ask you to bow your heads: Heavenly Father, we bow our heads and thank You for Your love. Accept our thanks for the peace that yields this day and the shared faith that makes its continuance likely. Make us strong to do Your work, willing to heed and hear Your will, and write on our hearts these words: \"Use power to help people.\" For we are given power not to advance our own purposes, nor to make a great show in the world, nor a name. There is but one just use of power, and it is to serve people. Help us to remember it, Lord. Amen. I come before you and assume the Presidency at a moment rich with promise. We live in a peaceful, prosperous time, but we can make it better. For a new breeze is blowing, and a world refreshed by freedom seems reborn; for in man\\'s heart, if not in fact, the day of the dictator is over. The totalitarian era is passing, its old ideas blown away like leaves from an ancient, lifeless tree. A new breeze is blowing, and a nation refreshed by freedom stands ready to push on. There is new ground to be broken, and new action to be taken. There are times when the future seems thick as a fog; you sit and wait, hoping the mists will lift and reveal the right path. But this is a time when the future seems a door you can walk right through into a room called tomorrow. Great nations of the world are moving toward democracy through the door to freedom. Men and women of the world move toward free markets through the door to prosperity. The people of the world agitate for free expression and free thought through the door to the moral and intellectual satisfactions that only liberty allows. We know what works: Freedom works. We know what\\'s right: Freedom is right. We know how to secure a more just and prosperous life for man on Earth: through free markets, free speech, free elections, and the exercise of free will unhampered by the state. For the first time in this century, for the first time in perhaps all history, man does not have to invent a system by which to live. We don\\'t have to talk late into the night about which form of government is better. We don\\'t have to wrest justice from the kings. We only have to summon it from within ourselves. We must act on what we know. I take as my guide the hope of a saint: In crucial things, unity; in important things, diversity; in all things, generosity. America today is a proud, free nation, decent and civil, a place we cannot help but love. We know in our hearts, not loudly and proudly, but as a simple fact, that this country has meaning beyond what we see, and that our strength is a force for good. But have we changed as a nation even in our time? Are we enthralled with material things, less appreciative of the nobility of work and sacrifice? My friends, we are not the sum of our possessions. They are not the measure of our lives. In our hearts we know what matters. We cannot hope only to leave our children a bigger car, a bigger bank account. We must hope to give them a sense of what it means to be a loyal friend, a loving parent, a citizen who leaves his home, his neighborhood and town better than he found it. What do we want the men and women who work with us to say when we are no longer there? That we were more driven to succeed than anyone around us? Or that we stopped to ask if a sick child had gotten better, and stayed a moment there to trade a word of friendship? No President, no government, can teach us to remember what is best in what we are. But if the man you have chosen to lead this government can help make a difference; if he can celebrate the quieter, deeper successes that are made not of gold and silk, but of better hearts and finer souls; if he can do these things, then he must. America is never wholly herself unless she is engaged in high moral principle. We as a people have such a purpose today. It is to make kinder the face of the Nation and gentler the face of the world. My friends, we have work to do. There are the homeless, lost and roaming. There are the children who have nothing, no love, no normalcy. There are those who cannot free themselves of enslavement to whatever addiction drugs, welfare, the demoralization that rules the slums. There is crime to be conquered, the rough crime of the streets. There are young women to be helped who are about to become mothers of children they can\\'t care for and might not love. They need our care, our guidance, and our education, though we bless them for choosing life. The old solution, the old way, was to think that public money alone could end these problems. But we have learned that is not so. And in any case, our funds are low. We have a deficit to bring down. We have more will than wallet; but will is what we need. We will make the hard choices, looking at what we have and perhaps allocating it differently, making our decisions based on honest need and prudent safety. And then we will do the wisest thing of all: We will turn to the only resource we have that in times of need always grows the goodness and the courage of the American people. I am speaking of a new engagement in the lives of others, a new activism, hands-on and involved, that gets the job done. We must bring in the generations, harnessing the unused talent of the elderly and the unfocused energy of the young. For not only leadership is passed from generation to generation, but so is stewardship. And the generation born after the Second World War has come of age. I have spoken of a thousand points of light, of all the community organizations that are spread like stars throughout the Nation, doing good. We will work hand in hand, encouraging, sometimes leading, sometimes being led, rewarding. We will work on this in the White House, in the Cabinet agencies. I will go to the people and the programs that are the brighter points of light, and I will ask every member of my government to become involved. The old ideas are new again because they are not old, they are timeless: duty, sacrifice, commitment, and a patriotism that finds its expression in taking part and pitching in. We need a new engagement, too, between the Executive and the Congress. The challenges before us will be thrashed out with the House and the Senate. We must bring the Federal budget into balance. And we must ensure that America stands before the world united, strong, at peace, and fiscally sound. But, of course, things may be difficult. We need compromise; we have had dissension. We need harmony; we have had a chorus of discordant voices. For Congress, too, has changed in our time. There has grown a certain divisiveness. We have seen the hard looks and heard the statements in which not each other\\'s ideas are challenged, but each other\\'s motives. And our great parties have too often been far apart and untrusting of each other. It has been this way since Vietnam. That war cleaves us still. But, friends, that war began in earnest a quarter of a century ago; and surely the statute of limitations has been reached. This is a fact: The final lesson of Vietnam is that no great nation can long afford to be sundered by a memory. A new breeze is blowing, and the old bipartisanship must be made new again. To my friends and yes, I do mean friends in the loyal opposition and yes, I mean loyal: I put out my hand. I am putting out my hand to you, Mr. Speaker. I am putting out my hand to you Mr. Majority Leader. For this is the thing: This is the age of the offered hand. We can\\'t turn back clocks, and I don\\'t want to. But when our fathers were young, Mr. Speaker, our differences ended at the water\\'s edge. And we don\\'t wish to turn back time, but when our mothers were young, Mr. Majority Leader, the Congress and the Executive were capable of working together to produce a budget on which this nation could live. Let us negotiate soon and hard. But in the end, let us produce. The American people await action. They didn\\'t send us here to bicker. They ask us to rise above the merely partisan. \"In crucial things, unity\" and this, my friends, is crucial. To the world, too, we offer new engagement and a renewed vow: We will stay strong to protect the peace. The \"offered hand\" is a reluctant fist; but once made, strong, and can be used with great effect. There are today Americans who are held against their will in foreign lands, and Americans who are unaccounted for. Assistance can be shown here, and will be long remembered. Good will begets good will. Good faith can be a spiral that endlessly moves on. Great nations like great men must keep their word. When America says something, America means it, whether a treaty or an agreement or a vow made on marble steps. We will always try to speak clearly, for candor is a compliment, but subtlety, too, is good and has its place. While keeping our alliances and friendships around the world strong, ever strong, we will continue the new closeness with the Soviet Union, consistent both with our security and with progress. One might say that our new relationship in part reflects the triumph of hope and strength over experience. But hope is good, and so are strength and vigilance. Here today are tens of thousands of our citizens who feel the understandable satisfaction of those who have taken part in democracy and seen their hopes fulfilled. But my thoughts have been turning the past few days to those who would be watching at home to an older fellow who will throw a salute by himself when the flag goes by, and the women who will tell her sons the words of the battle hymns. I don\\'t mean this to be sentimental. I mean that on days like this, we remember that we are all part of a continuum, inescapably connected by the ties that bind. Our children are watching in schools throughout our great land. And to them I say, thank you for watching democracy\\'s big day. For democracy belongs to us all, and freedom is like a beautiful kite that can go higher and higher with the breeze. And to all I say: No matter what your circumstances or where you are, you are part of this day, you are part of the life of our great nation. A President is neither prince nor pope, and I don\\'t seek a window on men\\'s souls. In fact, I yearn for a greater tolerance, an easy- goingness about each other\\'s attitudes and way of life. There are few clear areas in which we as a society must rise up united and express our intolerance. The most obvious now is drugs. And when that first cocaine was smuggled in on a ship, it may as well have been a deadly bacteria, so much has it hurt the body, the soul of our country. And there is much to be done and to be said, but take my word for it: This scourge will stop. And so, there is much to do; and tomorrow the work begins. I do not mistrust the future; I do not fear what is ahead. For our problems are large, but our heart is larger. Our challenges are great, but our will is greater. And if our flaws are endless, God\\'s love is truly boundless. Some see leadership as high drama, and the sound of trumpets calling, and sometimes it is that. But I see history as a book with many pages, and each day we fill a page with acts of hopefulness and meaning. The new breeze blows, a page turns, the story unfolds. And so today a chapter begins, a small and stately story of unity, diversity, and generosity shared, and written, together. Thank you. God bless you and God bless the United States of America.My fellow citizens: At this last presidential inauguration of the 20th century, let us lift our eyes toward the challenges that await us in the next century. It is our great good fortune that time and chance have put us not only at the edge of a new century, in a new millennium, but on the edge of a bright new prospect in human affairs a moment that will define our course, and our character, for decades to come. We must keep our old democracy forever young. Guided by the ancient vision of a promised land, let us set our sights upon a land of new promise. The promise of America was born in the 18th century out of the bold conviction that we are all created equal. It was extended and preserved in the 19th century, when our nation spread across the continent, saved the union, and abolished the awful scourge of slavery. Then, in turmoil and triumph, that promise exploded onto the world stage to make this the American Century. And what a century it has been. America became the world\\'s mightiest industrial power; saved the world from tyranny in two world wars and a long cold war; and time and again, reached out across the globe to millions who, like us, longed for the blessings of liberty. Along the way, Americans produced a great middle class and security in old age; built unrivaled centers of learning and opened public schools to all; split the atom and explored the heavens; invented the computer and the microchip; and deepened the wellspring of justice by making a revolution in civil rights for African Americans and all minorities, and extending the circle of citizenship, opportunity and dignity to women. Now, for the third time, a new century is upon us, and another time to choose. We began the 19th century with a choice, to spread our nation from coast to coast. We began the 20th century with a choice, to harness the Industrial Revolution to our values of free enterprise, conservation, and human decency. Those choices made all the difference. At the dawn of the 21st century a free people must now choose to shape the forces of the Information Age and the global society, to unleash the limitless potential of all our people, and, yes, to form a more perfect union. When last we gathered, our march to this new future seemed less certain than it does today. We vowed then to set a clear course to renew our nation. In these four years, we have been touched by tragedy, exhilarated by challenge, strengthened by achievement. America stands alone as the world\\'s indispensable nation. Once again, our economy is the strongest on Earth. Once again, we are building stronger families, thriving communities, better educational opportunities, a cleaner environment. Problems that once seemed destined to deepen now bend to our efforts: our streets are safer and record numbers of our fellow citizens have moved from welfare to work. And once again, we have resolved for our time a great debate over the role of government. Today we can declare: Government is not the problem, and government is not the solution. We the American people we are the solution. Our founders understood that well and gave us a democracy strong enough to endure for centuries, flexible enough to face our common challenges and advance our common dreams in each new day. As times change, so government must change. We need a new government for a new century humble enough not to try to solve all our problems for us, but strong enough to give us the tools to solve our problems for ourselves; a government that is smaller, lives within its means, and does more with less. Yet where it can stand up for our values and interests in the world, and where it can give Americans the power to make a real difference in their everyday lives, government should do more, not less. The preeminent mission of our new government is to give all Americans an opportunity not a guarantee, but a real opportunity to build better lives. Beyond that, my fellow citizens, the future is up to us. Our founders taught us that the preservation of our liberty and our union depends upon responsible citizenship. And we need a new sense of responsibility for a new century. There is work to do, work that government alone cannot do: teaching children to read; hiring people off welfare rolls; coming out from behind locked doors and shuttered windows to help reclaim our streets from drugs and gangs and crime; taking time out of our own lives to serve others. Each and every one of us, in our own way, must assume personal responsibility not only for ourselves and our families, but for our neighbors and our nation. Our greatest responsibility is to embrace a new spirit of community for a new century. For any one of us to succeed, we must succeed as one America. The challenge of our past remains the challenge of our future will we be one nation, one people, with one common destiny, or not? Will we all come together, or come apart? The divide of race has been America\\'s constant curse. And each new wave of immigrants gives new targets to old prejudices. Prejudice and contempt, cloaked in the pretense of religious or political conviction are no different. These forces have nearly destroyed our nation in the past. They plague us still. They fuel the fanaticism of terror. And they torment the lives of millions in fractured nations all around the world. These obsessions cripple both those who hate and, of course, those who are hated, robbing both of what they might become. We cannot, we will not, succumb to the dark impulses that lurk in the far regions of the soul everywhere. We shall overcome them. And we shall replace them with the generous spirit of a people who feel at home with one another. Our rich texture of racial, religious and political diversity will be a Godsend in the 21st century. Great rewards will come to those who can live together, learn together, work together, forge new ties that bind together. As this new era approaches we can already see its broad outlines. Ten years ago, the Internet was the mystical province of physicists; today, it is a commonplace encyclopedia for millions of schoolchildren. Scientists now are decoding the blueprint of human life. Cures for our most feared illnesses seem close at hand. The world is no longer divided into two hostile camps. Instead, now we are building bonds with nations that once were our adversaries. Growing connections of commerce and culture give us a chance to lift the fortunes and spirits of people the world over. And for the very first time in all of history, more people on this planet live under democracy than dictatorship. My fellow Americans, as we look back at this remarkable century, we may ask, can we hope not just to follow, but even to surpass the achievements of the 20th century in America and to avoid the awful bloodshed that stained its legacy? To that question, every American here and every American in our land today must answer a resounding \"Yes.\" This is the heart of our task. With a new vision of government, a new sense of responsibility, a new spirit of community, we will sustain America\\'s journey. The promise we sought in a new land we will find again in a land of new promise. In this new land, education will be every citizen\\'s most prized possession. Our schools will have the highest standards in the world, igniting the spark of possibility in the eyes of every girl and every boy. And the doors of higher education will be open to all. The knowledge and power of the Information Age will be within reach not just of the few, but of every classroom, every library, every child. Parents and children will have time not only to work, but to read and play together. And the plans they make at their kitchen table will be those of a better home, a better job, the certain chance to go to college, Our streets will echo again with the laughter of our children, because no one will try to shoot them or sell them drugs anymore. Everyone who can work, will work, with today\\'s permanent under class part of tomorrow\\'s growing middle class. New miracles of medicine at last will reach not only those who can claim care now, but the children and hardworking families too long denied. We will stand mighty for peace and freedom, and maintain a strong defense against terror and destruction. Our children will sleep free from the threat of nuclear, chemical or biological weapons. Ports and airports, farms and factories will thrive with trade and innovation and ideas. And the world\\'s greatest democracy will lead a whole world of democracies. Our land of new promise will be a nation that meets its obligations a nation that balances its budget, but never loses the balance of its values. A nation where our grandparents have secure retirement and health care, and their grandchildren know we have made the reforms necessary to sustain those benefits for their time. A nation that fortifies the world\\'s most productive economy even as it protects the great natural bounty of our water, air, and majestic land. And in this land of new promise, we will have reformed our politics so that the voice of the people will always speak louder than the din of narrow interests regaining the participation and deserving the trust of all Americans. Fellow citizens, let us build that America, a nation ever moving forward toward realizing the full potential of all its citizens. Prosperity and power yes, they are important, and we must maintain them. But let us never forget: The greatest progress we have made, and the greatest progress we have yet to make, is in the human heart. In the end, all the world\\'s wealth and a thousand armies are no match for the strength and decency of the human spirit. Thirty-four years ago, the man whose life we celebrate today spoke to us down there, at the other end of this Mall, in words that moved the conscience of a nation. Like a prophet of old, he told of his dream that one day America would rise up and treat all its citizens as equals before the law and in the heart. Martin Luther King\\'s dream was the American Dream. His quest is our quest: the ceaseless striving to live out our true creed. Our history has been built on such dreams and labors. And by our dreams and labors we will redeem the promise of America in the 21st century. To that effort I pledge all my strength and every power of my office. I ask the members of Congress here to join in that pledge. The American people returned to office a President of one party and a Congress of another. Surely, they did not do this to advance the politics of petty bickering and extreme partisanship they plainly deplore. No, they call on us instead to be repairers of the breach, and to move on with America\\'s mission. America demands and deserves big things from us and nothing big ever came from being small. Let us remember the timeless wisdom of Cardinal Bernardin, when facing the end of his own life. He said: \"It is wrong to waste the precious gift of time, on acrimony and division.\" Fellow citizens, we must not waste the precious gift of this time. For all of us are on that same journey of our lives, and our journey, too, will come to an end. But the journey of our America must go on. And so, my fellow Americans, we must be strong, for there is much to dare. The demands of our time are great and they are different. Let us meet them with faith and courage, with patience and a grateful and happy heart. Let us shape the hope of this day into the noblest chapter in our history. Yes, let us build our bridge. A bridge wide enough and strong enough for every American to cross over to a blessed land of new promise. May those generations whose faces we cannot yet see, whose names we may never know, say of us here that we led our beloved land into a new century with the American Dream alive for all her children; with the American promise of a more perfect union a reality for all her people; with America\\'s bright flame of freedom spreading throughout all the world. From the height of this place and the summit of this century, let us go forth. May God strengthen our hands for the good work ahead and always, always bless our America.Vice President Cheney, Mr. Chief Justice, President Carter, President Bush, President Clinton, members of the United States Congress, reverend clergy, distinguished guests, fellow citizens: On this day, prescribed by law and marked by ceremony, we celebrate the durable wisdom of our Constitution, and recall the deep commitments that unite our country. I am grateful for the honor of this hour, mindful of the consequential times in which we live, and determined to fulfill the oath that I have sworn and you have witnessed. At this second gathering, our duties are defined not by the words I use, but by the history we have seen together. For a half a century, America defended our own freedom by standing watch on distant borders. After the shipwreck of communism came years of relative quiet, years of repose, years of sabbatical¡Xand then there came a day of fire. We have seen our vulnerability¡Xand we have seen its deepest source. For as long as whole regions of the world simmer in resentment and tyranny¡Xprone to ideologies that feed hatred and excuse murder¡Xviolence will gather, and multiply in destructive power, and cross the most defended borders, and raise a mortal threat. There is only one force of history that can break the reign of hatred and resentment, and expose the pretensions of tyrants, and reward the hopes of the decent and tolerant, and that is the force of human freedom. We are led, by events and common sense, to one conclusion: The survival of liberty in our land increasingly depends on the success of liberty in other lands. The best hope for peace in our world is the expansion of freedom in all the world. America¡¦s vital interests and our deepest beliefs are now one. From the day of our Founding, we have proclaimed that every man and woman on this earth has rights, and dignity, and matchless value, because they bear the image of the Maker of Heaven and earth. Across the generations we have proclaimed the imperative of self-government, because no one is fit to be a master, and no one deserves to be a slave. Advancing these ideals is the mission that created our Nation. It is the honorable achievement of our fathers. Now it is the urgent requirement of our nation¡¦s security, and the calling of our time. So it is the policy of the United States to seek and support the growth of democratic movements and institutions in every nation and culture, with the ultimate goal of ending tyranny in our world. This is not primarily the task of arms, though we will defend ourselves and our friends by force of arms when necessary. Freedom, by its nature, must be chosen, and defended by citizens, and sustained by the rule of law and the protection of minorities. And when the soul of a nation finally speaks, the institutions that arise may reflect customs and traditions very different from our own. America will not impose our own style of government on the unwilling. Our goal instead is to help others find their own voice, attain their own freedom, and make their own way. The great objective of ending tyranny is the concentrated work of generations. The difficulty of the task is no excuse for avoiding it. America¡¦s influence is not unlimited, but fortunately for the oppressed, America¡¦s influence is considerable, and we will use it confidently in freedom¡¦s cause. My most solemn duty is to protect this nation and its people from further attacks and emerging threats. Some have unwisely chosen to test America¡¦s resolve, and have found it firm. We will persistently clarify the choice before every ruler and every nation: The moral choice between oppression, which is always wrong, and freedom, which is eternally right. America will not pretend that jailed dissidents prefer their chains, or that women welcome humiliation and servitude, or that any human being aspires to live at the mercy of bullies. We will encourage reform in other governments by making clear that success in our relations will require the decent treatment of their own people. America¡¦s belief in human dignity will guide our policies, yet rights must be more than the grudging concessions of dictators; they are secured by free dissent and the participation of the governed. In the long run, there is no justice without freedom, and there can be no human rights without human liberty. Some, I know, have questioned the global appeal of liberty¡Xthough this time in history, four decades defined by the swiftest advance of freedom ever seen, is an odd time for doubt. Americans, of all people, should never be surprised by the power of our ideals. Eventually, the call of freedom comes to every mind and every soul. We do not accept the existence of permanent tyranny because we do not accept the possibility of permanent slavery. Liberty will come to those who love it. Today, America speaks anew to the peoples of the world: All who live in tyranny and hopelessness can know: the United States will not ignore your oppression, or excuse your oppressors. When you stand for your liberty, we will stand with you. Democratic reformers facing repression, prison, or exile can know: America sees you for who you are: the future leaders of your free country. The rulers of outlaw regimes can know that we still believe as Abraham Lincoln did: ¡§Those who deny freedom to others deserve it not for themselves; and, under the rule of a just God, cannot long retain it.¡¨ The leaders of governments with long habits of control need to know: To serve your people you must learn to trust them. Start on this journey of progress and justice, and America will walk at your side. And all the allies of the United States can know: we honor your friendship, we rely on your counsel, and we depend on your help. Division among free nations is a primary goal of freedom¡¦s enemies. The concerted effort of free nations to promote democracy is a prelude to our enemies¡¦ defeat. Today, I also speak anew to my fellow citizens: From all of you, I have asked patience in the hard task of securing America, which you have granted in good measure. Our country has accepted obligations that are difficult to fulfill, and would be dishonorable to abandon. Yet because we have acted in the great liberating tradition of this nation, tens of millions have achieved their freedom. And as hope kindles hope, millions more will find it. By our efforts, we have lit a fire as well¡Xa fire in the minds of men. It warms those who feel its power, it burns those who fight its progress, and one day this untamed fire of freedom will reach the darkest corners of our world. A few Americans have accepted the hardest duties in this cause¡Xin the quiet work of intelligence and diplomacy ¡K the idealistic work of helping raise up free governments ¡K the dangerous and necessary work of fighting our enemies. Some have shown their devotion to our country in deaths that honored their whole lives¡Xand we will always honor their names and their sacrifice. All Americans have witnessed this idealism, and some for the first time. I ask our youngest citizens to believe the evidence of your eyes. You have seen duty and allegiance in the determined faces of our soldiers. You have seen that life is fragile, and evil is real, and courage triumphs. Make the choice to serve in a cause larger than your wants, larger than yourself¡Xand in your days you will add not just to the wealth of our country, but to its character. America has need of idealism and courage, because we have essential work at home¡Xthe unfinished work of American freedom. In a world moving toward liberty, we are determined to show the meaning and promise of liberty. In America¡¦s ideal of freedom, citizens find the dignity and security of economic independence, instead of laboring on the edge of subsistence. This is the broader definition of liberty that motivated the Homestead Act, the Social Security Act, and the G.I. Bill of Rights. And now we will extend this vision by reforming great institutions to serve the needs of our time. To give every American a stake in the promise and future of our country, we will bring the highest standards to our schools, and build an ownership society. We will widen the ownership of homes and businesses, retirement savings and health insurance¡Xpreparing our people for the challenges of life in a free society. By making every citizen an agent of his or her own destiny, we will give our fellow Americans greater freedom from want and fear, and make our society more prosperous and just and equal. In America¡¦s ideal of freedom, the public interest depends on private character¡Xon integrity, and tolerance toward others, and the rule of conscience in our own lives. Self-government relies, in the end, on the governing of the self. That edifice of character is built in families, supported by communities with standards, and sustained in our national life by the truths of Sinai, the Sermon on the Mount, the words of the Koran, and the varied faiths of our people. Americans move forward in every generation by reaffirming all that is good and true that came before¡Xideals of justice and conduct that are the same yesterday, today, and forever. In America¡¦s ideal of freedom, the exercise of rights is ennobled by service, and mercy, and a heart for the weak. Liberty for all does not mean independence from one another. Our nation relies on men and women who look after a neighbor and surround the lost with love. Americans, at our best, value the life we see in one another, and must always remember that even the unwanted have worth. And our country must abandon all the habits of racism, because we cannot carry the message of freedom and the baggage of bigotry at the same time. From the perspective of a single day, including this day of dedication, the issues and questions before our country are many. From the viewpoint of centuries, the questions that come to us are narrowed and few. Did our generation advance the cause of freedom? And did our character bring credit to that cause? These questions that judge us also unite us, because Americans of every party and background, Americans by choice and by birth, are bound to one another in the cause of freedom. We have known divisions, which must be healed to move forward in great purposes¡Xand I will strive in good faith to heal them. Yet those divisions do not define America. We felt the unity and fellowship of our nation when freedom came under attack, and our response came like a single hand over a single heart. And we can feel that same unity and pride whenever America acts for good, and the victims of disaster are given hope, and the unjust encounter justice, and the captives are set free. We go forward with complete confidence in the eventual triumph of freedom. Not because history runs on the wheels of inevitability; it is human choices that move events. Not because we consider ourselves a chosen nation; God moves and chooses as He wills. We have confidence because freedom is the permanent hope of mankind, the hunger in dark places, the longing of the soul. When our Founders declared a new order of the ages; when soldiers died in wave upon wave for a union based on liberty; when citizens marched in peaceful outrage under the banner ¡§Freedom Now¡¨¡Xthey were acting on an ancient hope that is meant to be fulfilled. History has an ebb and flow of justice, but history also has a visible direction, set by liberty and the Author of Liberty. When the Declaration of Independence was first read in public and the Liberty Bell was sounded in celebration, a witness said, ¡§It rang as if it meant something.¡¨ In our time it means something still. America, in this young century, proclaims liberty throughout all the world, and to all the inhabitants thereof. Renewed in our strength¡Xtested, but not weary¡Xwe are ready for the greatest achievements in the history of freedom. May God bless you, and may He watch over the United States of America.My fellow citizens:I stand here today humbled by the task before us, grateful for the trust you have bestowed, mindful of the sacrifices borne by our ancestors. I thank President Bush for his service to our nation, as well as the generosity and cooperation he has shown throughout this transition.Forty-four Americans have now taken the presidential oath. The words have been spoken during rising tides of prosperity and the still waters of peace. Yet, every so often the oath is taken amidst gathering clouds and raging storms. At these moments, America has carried on not simply because of the skill or vision of those in high office, but because We the People have remained faithful to the ideals of our forbearers, and true to our founding documents.So it has been. So it must be with this generation of Americans.That we are in the midst of crisis is now well understood. Our nation is at war, against a far-reaching network of violence and hatred. Our economy is badly weakened, a consequence of greed and irresponsibility on the part of some, but also our collective failure to make hard choices and prepare the nation for a new age. Homes have been lost; jobs shed; businesses shuttered. Our health care is too costly; our schools fail too many; and each day brings further evidence that the ways we use energy strengthen our adversaries and threaten our planet.These are the indicators of crisis, subject to data and statistics. Less measurable but no less profound is a sapping of confidence across our land a nagging fear that America\\'s decline is inevitable, that the next generation must lower its sights.Today I say to you that the challenges we face are real. They are serious and they are many. They will not be met easily or in a short span of time. But know this, America they will be met.On this day, we gather because we have chosen hope over fear, unity of purpose over conflict and discord.On this day, we come to proclaim an end to the petty grievances and false promises, the recriminations and worn-out dogmas that for far too long have strangled our politics.We remain a young nation, but in the words of Scripture, the time has come to set aside childish things. The time has come to reaffirm our enduring spirit; to choose our better history; to carry forward that precious gift, that noble idea, passed on from generation to generation: the God-given promise that all are equal, all are free, and all deserve a chance to pursue their full measure of happiness.In reaffirming the greatness of our nation, we understand that greatness is never a given. It must be earned. Our journey has never been one of shortcuts or settling for less. It has not been the path for the faint-hearted for those who prefer leisure over work, or seek only the pleasures of riches and fame. Rather, it has been the risk-takers, the doers, the makers of things\\'some celebrated but more often men and women obscure in their labor, who have carried us up the long, rugged path towards prosperity and freedom.For us, they packed up their few worldly possessions and traveled across oceans in search of a new life.For us, they toiled in sweatshops and settled the West; endured the lash of the whip and plowed the hard earth.For us, they fought and died, in places like Concord and Gettysburg; Normandy and Khe Sahn.Time and again these men and women struggled and sacrificed and worked till their hands were raw so that we might live a better life. They saw America as bigger than the sum of our individual ambitions; greater than all the differences of birth or wealth or faction.This is the journey we continue today. We remain the most prosperous, powerful nation on Earth. Our workers are no less productive than when this crisis began. Our minds are no less inventive, our goods and services no less needed than they were last week or last month or last year. Our capacity remains undiminished. But our time of standing pat, of protecting narrow interests and putting off unpleasant decisions that time has surely passed. Starting today, we must pick ourselves up, dust ourselves off, and begin again the work of remaking America.For everywhere we look, there is work to be done. The state of our economy calls for action, bold and swift, and we will act not only to create new jobs, but to lay a new foundation for growth. We will build the roads and bridges, the electric grids and digital lines that feed our commerce and bind us together. We will restore science to its rightful place, and wield technology\\'s wonders to raise health care\\'s quality and lower its cost. We will harness the sun and the winds and the soil to fuel our cars and run our factories. And we will transform our schools and colleges and universities to meet the demands of a new age. All this we can do. All this we will do.Now, there are some who question the scale of our ambitions who suggest that our system cannot tolerate too many big plans. Their memories are short. For they have forgotten what this country has already done; what free men and women can achieve when imagination is joined to common purpose, and necessity to courage.What the cynics fail to understand is that the ground has shifted beneath them that the stale political arguments that have consumed us for so long no longer apply. The question we ask today is not whether our government is too big or too small, but whether it works whether it helps families find jobs at a decent wage, care they can afford, a retirement that is dignified. Where the answer is yes, we intend to move forward. Where the answer is no, programs will end. And those of us who manage the public\\'s dollars will be held to account to spend wisely, reform bad habits, and do our business in the light of day because only then can we restore the vital trust between a people and their government.Nor is the question before us whether the market is a force for good or ill. Its power to generate wealth and expand freedom is unmatched, but this crisis has reminded us that without a watchful eye, the market can spin out of control the nation cannot prosper long when it favors only the prosperous. The success of our economy has always depended not just on the size of our Gross Domestic Product, but on the reach of our prosperity; on the ability to extend opportunity to every willing heart not out of charity, but because it is the surest route to our common good.As for our common defense, we reject as false the choice between our safety and our ideals. Our Founding Fathers, faced with perils that we can scarcely imagine, drafted a charter to assure the rule of law and the rights of man, a charter expanded by the blood of generations. Those ideals still light the world, and we will not give them up for expedience\\'s sake. And so to all the other peoples and governments who are watching today, from the grandest capitals to the small village where my father was born: know that America is a friend of each nation and every man, woman, and child who seeks a future of peace and dignity, and we are ready to lead once more.Recall that earlier generations faced down fascism and communism not just with missiles and tanks, but with the sturdy alliances and enduring convictions. They understood that our power alone cannot protect us, nor does it entitle us to do as we please. Instead, they knew that our power grows through its prudent use; our security emanates from the justness of our cause, the force of our example, the tempering qualities of humility and restraint.We are the keepers of this legacy. Guided by these principles once more, we can meet those new threats that demand even greater effort even greater cooperation and understanding between nations. We will begin to responsibly leave Iraq to its people, and forge a hard-earned peace in Afghanistan. With old friends and former foes, we will work tirelessly to lessen the nuclear threat, and roll back the specter of a warming planet. We will not apologize for our way of life, nor will we waver in its defense, and for those who seek to advance their aims by inducing terror and slaughtering innocents, we say to you now that our spirit is stronger and cannot be broken; you cannot outlast us, and we will defeat you.For we know that our patchwork heritage is a strength, not a weakness. We are a nation of Christians and Muslims, Jews and Hindus and non-believers. We are shaped by every language and culture, drawn from every end of this Earth; and because we have tasted the bitter swill of civil war and segregation, and emerged from that dark chapter stronger and more united, we cannot help but believe that the old hatreds shall someday pass; that the lines of tribe shall soon dissolve; that as the world grows smaller, our common humanity shall reveal itself; and that America must play its role in ushering in a new era of peace.To the Muslim world, we seek a new way forward, based on mutual interest and mutual respect. To those leaders around the globe who seek to sow conflict, or blame their society\\'s ills on the West know that your people will judge you on what you can build, not what you destroy. To those who cling to power through corruption and deceit and the silencing of dissent, know that you are on the wrong side of history; but that we will extend a hand if you are willing to unclench your fist.To the people of poor nations, we pledge to work alongside you to make your farms flourish and let clean waters flow; to nourish starved bodies and feed hungry minds. And to those nations like ours that enjoy relative plenty, we say we can no longer afford indifference to the suffering outside our borders; nor can we consume the world\\'s resources without regard to effect. For the world has changed, and we must change with it.As we consider the road that unfolds before us, we remember with humble gratitude those brave Americans who, at this very hour, patrol far-off deserts and distant mountains. They have something to tell us, just as the fallen heroes who lie in Arlington whisper through the ages. We honor them not only because they are the guardians of our liberty, but because they embody the spirit of service; a willingness to find meaning in something greater than themselves. And yet, at this moment a moment that will define a generation it is precisely this spirit that must inhabit us all.For as much as government can do and must do, it is ultimately the faith and determination of the American people upon which this nation relies. It is the kindness to take in a stranger when the levees break, the selflessness of workers who would rather cut their hours than see a friend lose their job which sees us through our darkest hours. It is the firefighter\\'s courage to storm a stairway filled with smoke, but also a parent\\'s willingness to nurture a child, that finally decides our fate. Our challenges may be new. The instruments with which we meet them may be new. But those values upon which our success depends honesty and hard work, courage and fair play, tolerance and curiosity, loyalty and patriotism these things are old. These things are true. They have been the quiet force of progress throughout our history. What is demanded then is a return to these truths. What is required of us now is a new era of responsibility a recognition, on the part of every American, that we have duties to ourselves, our nation, and the world, duties that we do not grudgingly accept but rather seize gladly, firm in the knowledge that there is nothing so satisfying to the spirit, so defining of our character, than giving our all to a difficult task.This is the price and the promise of citizenship.This is the source of our confidence the knowledge that God calls on us to shape an uncertain destiny.This is the meaning of our liberty and our creed why men and women and children of every race and every faith can join in celebration across this magnificent mall, and why a man whose father less than sixty years ago might not have been served at a local restaurant can now stand before you to take a most sacred oath.So let us mark this day with remembrance, of who we are and how far we have traveled. In the year of America\\'s birth, in the coldest of months, a small band of patriots huddled by dying campfires on the shores of an icy river. The capital was abandoned. The enemy was advancing. The snow was stained with blood. At a moment when the outcome of our revolution was most in doubt, the father of our nation ordered these words be read to the people:\"Let it be told to the future world ... that in the depth of winter, when nothing but hope and virtue could survive ... that the city and the country, alarmed at one common danger, came forth to meet ... it.\"America! In the face of our common dangers, in this winter of our hardship, let us remember these timeless words. With hope and virtue, let us brave once more the icy currents, and endure what storms may come. Let it be said by our children\\'s children that when we were tested we refused to let this journey end, that we did not turn back nor did we falter; and with eyes fixed on the horizon and God\\'s grace upon us, we carried forth that great gift of freedom and delivered it safely to future generations.Thank you. God bless you. And God bless the United States of America.'"
      ]
     },
     "execution_count": 5,
     "metadata": {},
     "output_type": "execute_result"
    }
   ],
   "source": [
    "addresses = roosevelt + truman + eisenhower + kennedy + johnson + nixon + carter + reagan + bush + clinton + bush_jr + obama\n",
    "\n",
    "addresses"
   ]
  },
  {
   "cell_type": "code",
   "execution_count": 6,
   "metadata": {},
   "outputs": [],
   "source": [
    "import spacy\n",
    "nlp = spacy.load('en')\n",
    "roosevelt_doc = nlp(roosevelt) \n",
    "truman_doc = nlp(truman)\n",
    "eisenhower_doc = nlp(eisenhower)\n",
    "kennedy_doc = nlp(kennedy)\n",
    "johnson_doc = nlp(johnson)\n",
    "nixon_doc = nlp(nixon)\n",
    "carter_doc = nlp(carter)\n",
    "reagan_doc = nlp(reagan)\n",
    "bush_sr_doc = nlp(bush_sr)\n",
    "clinton_doc = nlp(clinton)\n",
    "bush_jr_doc = nlp(bush_jr)\n",
    "obama_doc = nlp(obama)"
   ]
  },
  {
   "cell_type": "code",
   "execution_count": 7,
   "metadata": {},
   "outputs": [
    {
     "name": "stdout",
     "output_type": "stream",
     "text": [
      "Roosvelt: [('shall', 7), ('peace', 6), ('learned', 5), ('today', 4), ('men', 4), ('test', 3), ('way', 3), ('simple', 2), ('courage', 2), ('democracy', 2)]\n",
      "Truman: [('world', 23), ('nations', 17), ('peace', 15), ('freedom', 13), ('people', 11), ('free', 11), ('United', 10), ('peoples', 9), ('security', 9), ('new', 8)]\n",
      "Eisenhower: [('world', 15), ('nations', 13), ('freedom', 11), ('people', 10), ('seek', 10), ('peace', 10), ('help', 6), ('know', 5), ('peoples', 5), ('earth', 5)]\n",
      "Kennedy: [('world', 8), ('Let', 8), ('let', 8), ('sides', 8), ('new', 7), ('pledge', 7), ('citizens', 5), ('power', 5), ('shall', 5), ('ask', 5)]\n",
      "Johnson: [('man', 10), ('people', 9), ('nation', 8), ('change', 8), ('world', 7), ('old', 7), ('American', 6), ('land', 6), ('union', 6), ('new', 5)]\n",
      "Nixon: [('America', 21), ('peace', 19), ('world', 17), ('new', 15), ('Let', 13), ('responsibility', 11), ('great', 9), ('home', 9), ('nation', 9), ('let', 9)]\n",
      "Carter: [('Nation', 11), ('new', 9), ('strength', 7), ('spirit', 6), ('people', 6), ('world', 6), ('dream', 5), ('human', 5), ('freedom', 4), ('times', 3)]\n",
      "Reagan: [('people', 16), ('world', 16), ('freedom', 12), ('time', 10), ('new', 9), ('government', 9), ('Government', 9), ('God', 8), ('history', 8), ('human', 8)]\n",
      "Busn Sr: [('new', 14), ('world', 9), ('free', 9), ('friends', 8), ('things', 8), ('hand', 8), ('great', 8), ('America', 7), ('today', 7), ('day', 7)]\n",
      "Clinton: [('new', 28), ('century', 19), ('America', 15), ('world', 15), ('nation', 13), ('time', 12), ('land', 11), ('people', 11), ('promise', 10), ('American', 9)]\n",
      "Bush JR: [('freedom', 23), ('America', 12), ('¦', 12), ('s', 11), ('liberty', 10), ('country', 8), ('world', 8), ('America¡', 8), ('nation', 8), ('Americans', 8)]\n",
      "Obama: [('nation', 12), ('new', 11), ('America', 9), ('world', 7), ('work', 6), ('common', 6), ('today', 5), ('generation', 5), ('day', 5), ('time', 5)]\n"
     ]
    }
   ],
   "source": [
    "from collections import Counter\n",
    "\n",
    "# Utility function to calculate how frequently words appear in the text.\n",
    "def word_frequencies(text, include_stop=False):\n",
    "    \n",
    "    # Build a list of words.\n",
    "    # Strip out punctuation and, optionally, stop words.\n",
    "    words = []\n",
    "    for token in text:\n",
    "        if not token.is_punct and (not token.is_stop or include_stop):\n",
    "            words.append(token.text)\n",
    "            \n",
    "    # Build and return a Counter object containing word counts.\n",
    "    return Counter(words)\n",
    "    \n",
    "# The most frequent words:\n",
    " \n",
    "roosevelt_doc_freq = word_frequencies(roosevelt_doc).most_common(10)\n",
    "truman_doc_freq  = word_frequencies(truman_doc).most_common(10)\n",
    "eisenhower_doc_freq  = word_frequencies(eisenhower_doc).most_common(10)\n",
    "kennedy_doc_freq  = word_frequencies(kennedy_doc).most_common(10)\n",
    "johnson_doc_freq  = word_frequencies(johnson_doc).most_common(10)\n",
    "nixon_doc_freq  = word_frequencies(nixon_doc).most_common(10)\n",
    "carter_doc_freq  = word_frequencies(carter_doc).most_common(10)\n",
    "reagan_doc_freq  = word_frequencies(reagan_doc).most_common(10)\n",
    "bush_sr_doc_freq  = word_frequencies(bush_sr_doc).most_common(10)\n",
    "clinton_doc_freq  = word_frequencies(clinton_doc).most_common(10)\n",
    "bush_jr_doc_freq  = word_frequencies(bush_jr_doc).most_common(10)\n",
    "obama_doc_freq  = word_frequencies(obama_doc).most_common(10)\n",
    "print('Roosvelt:',roosevelt_doc_freq) \n",
    "print('Truman:',truman_doc_freq) \n",
    "print('Eisenhower:',eisenhower_doc_freq) \n",
    "print('Kennedy:',kennedy_doc_freq) \n",
    "print('Johnson:',johnson_doc_freq) \n",
    "print('Nixon:',nixon_doc_freq) \n",
    "print('Carter:',carter_doc_freq) \n",
    "print('Reagan:',reagan_doc_freq) \n",
    "print('Busn Sr:',bush_sr_doc_freq) \n",
    "print('Clinton:',clinton_doc_freq) \n",
    "print('Bush JR:',bush_jr_doc_freq) \n",
    "print('Obama:',obama_doc_freq) \n"
   ]
  },
  {
   "cell_type": "code",
   "execution_count": 8,
   "metadata": {},
   "outputs": [
    {
     "name": "stdout",
     "output_type": "stream",
     "text": [
      "Roosvelt: [('shall', 7), ('peace', 6), ('learn', 5), ('today', 4), ('man', 4), ('way', 4), ('test', 3), ('friend', 2), ('simple', 2), ('courage', 2)]\n",
      "Truman: [('world', 23), ('people', 20), ('nation', 18), ('peace', 15), ('freedom', 13), ('free', 11), ('country', 11), ('man', 10), ('United', 10), ('security', 9)]\n",
      "Eisenhower: [('nation', 17), ('people', 15), ('world', 15), ('seek', 12), ('freedom', 11), ('peace', 10), ('know', 9), ('hope', 8), ('help', 8), ('great', 7)]\n",
      "Kennedy: [('let', 16), ('world', 8), ('side', 8), ('power', 7), ('new', 7), ('pledge', 7), ('nation', 6), ('ask', 6), ('citizen', 5), ('man', 5)]\n",
      "Johnson: [('man', 12), ('nation', 9), ('people', 9), ('change', 9), ('world', 7), ('old', 7), ('land', 6), ('union', 6), ('generation', 5), ('new', 5)]\n",
      "Nixon: [('let', 22), ('America', 21), ('peace', 19), ('world', 17), ('responsibility', 16), ('new', 15), ('nation', 14), ('great', 10), ('year', 9), ('home', 9)]\n",
      "Carter: [('new', 9), ('Nation', 7), ('strength', 7), ('nation', 7), ('spirit', 6), ('people', 6), ('world', 6), ('time', 5), ('good', 5), ('dream', 5)]\n",
      "Reagan: [('people', 16), ('world', 16), ('freedom', 14), ('time', 13), ('government', 11), ('new', 9), ('history', 9), ('Government', 9), ('human', 9), ('God', 8)]\n",
      "Busn Sr: [('new', 14), ('great', 12), ('thing', 10), ('work', 10), ('friend', 9), ('hand', 9), ('day', 9), ('good', 9), ('nation', 9), ('world', 9)]\n",
      "Clinton: [('new', 29), ('century', 20), ('America', 15), ('nation', 15), ('world', 15), ('time', 13), ('promise', 11), ('land', 11), ('people', 11), ('great', 10)]\n",
      "Bush JR: [('freedom', 24), ('America', 12), ('¦', 12), ('s', 11), ('nation', 11), ('liberty', 10), ('country', 8), ('time', 8), ('come', 8), ('world', 8)]\n",
      "Obama: [('nation', 15), ('new', 11), ('America', 9), ('generation', 8), ('work', 8), ('man', 7), ('world', 7), ('today', 6), ('meet', 6), ('time', 6)]\n"
     ]
    }
   ],
   "source": [
    "# Utility function to calculate how frequently lemas appear in the text.\n",
    "def lemma_frequencies(text, include_stop=False):\n",
    "    \n",
    "    # Build a list of lemas.\n",
    "    # Strip out punctuation and, optionally, stop words.\n",
    "    lemmas = []\n",
    "    for token in text:\n",
    "        if not token.is_punct and (not token.is_stop or include_stop):\n",
    "            lemmas.append(token.lemma_)\n",
    "            \n",
    "    # Build and return a Counter object containing word counts.\n",
    "    return Counter(lemmas)\n",
    "\n",
    "# Instantiate our list of most common lemmas.\n",
    "roosevelt_lemma_freq = lemma_frequencies(roosevelt_doc).most_common(10)\n",
    "truman_lemma_freq  = lemma_frequencies(truman_doc).most_common(10)\n",
    "eisenhower_lemma_freq  = lemma_frequencies(eisenhower_doc).most_common(10)\n",
    "kennedy_lemma_freq  = lemma_frequencies(kennedy_doc).most_common(10)\n",
    "johnson_lemma_freq  = lemma_frequencies(johnson_doc).most_common(10)\n",
    "nixon_lemma_freq  = lemma_frequencies(nixon_doc).most_common(10)\n",
    "carter_lemma_freq  = lemma_frequencies(carter_doc).most_common(10)\n",
    "reagan_lemma_freq  = lemma_frequencies(reagan_doc).most_common(10)\n",
    "bush_sr_lemma_freq  = lemma_frequencies(bush_sr_doc).most_common(10)\n",
    "clinton_lemma_freq  = lemma_frequencies(clinton_doc).most_common(10)\n",
    "bush_jr_lemma_freq  = lemma_frequencies(bush_jr_doc).most_common(10)\n",
    "obama_lemma_freq  = lemma_frequencies(obama_doc).most_common(10)\n",
    "print('Roosvelt:',roosevelt_lemma_freq) \n",
    "print('Truman:',truman_lemma_freq) \n",
    "print('Eisenhower:',eisenhower_lemma_freq) \n",
    "print('Kennedy:',kennedy_lemma_freq) \n",
    "print('Johnson:',johnson_lemma_freq) \n",
    "print('Nixon:',nixon_lemma_freq) \n",
    "print('Carter:',carter_lemma_freq) \n",
    "print('Reagan:',reagan_lemma_freq) \n",
    "print('Busn Sr:',bush_sr_lemma_freq) \n",
    "print('Clinton:',clinton_lemma_freq) \n",
    "print('Bush JR:',bush_jr_lemma_freq) \n",
    "print('Obama:',obama_lemma_freq) \n",
    "\n"
   ]
  },
  {
   "cell_type": "code",
   "execution_count": 9,
   "metadata": {},
   "outputs": [
    {
     "data": {
      "text/html": [
       "<div>\n",
       "<style scoped>\n",
       "    .dataframe tbody tr th:only-of-type {\n",
       "        vertical-align: middle;\n",
       "    }\n",
       "\n",
       "    .dataframe tbody tr th {\n",
       "        vertical-align: top;\n",
       "    }\n",
       "\n",
       "    .dataframe thead th {\n",
       "        text-align: right;\n",
       "    }\n",
       "</style>\n",
       "<table border=\"1\" class=\"dataframe\">\n",
       "  <thead>\n",
       "    <tr style=\"text-align: right;\">\n",
       "      <th></th>\n",
       "      <th>0</th>\n",
       "      <th>1</th>\n",
       "    </tr>\n",
       "  </thead>\n",
       "  <tbody>\n",
       "    <tr>\n",
       "      <th>0</th>\n",
       "      <td>(Chief, Justice, ,, Mr., Vice, President, ,, m...</td>\n",
       "      <td>Democrat</td>\n",
       "    </tr>\n",
       "    <tr>\n",
       "      <th>1</th>\n",
       "      <td>(We, Americans, of, today, ,, together, with, ...</td>\n",
       "      <td>Democrat</td>\n",
       "    </tr>\n",
       "    <tr>\n",
       "      <th>2</th>\n",
       "      <td>(It, is, a, test, of, our, courage, of, our, r...</td>\n",
       "      <td>Democrat</td>\n",
       "    </tr>\n",
       "    <tr>\n",
       "      <th>3</th>\n",
       "      <td>(If, we, meet, that, test, successfully, and, ...</td>\n",
       "      <td>Democrat</td>\n",
       "    </tr>\n",
       "    <tr>\n",
       "      <th>4</th>\n",
       "      <td>(As, I, stand, here, today, ,, having, taken, ...</td>\n",
       "      <td>Democrat</td>\n",
       "    </tr>\n",
       "  </tbody>\n",
       "</table>\n",
       "</div>"
      ],
      "text/plain": [
       "                                                   0         1\n",
       "0  (Chief, Justice, ,, Mr., Vice, President, ,, m...  Democrat\n",
       "1  (We, Americans, of, today, ,, together, with, ...  Democrat\n",
       "2  (It, is, a, test, of, our, courage, of, our, r...  Democrat\n",
       "3  (If, we, meet, that, test, successfully, and, ...  Democrat\n",
       "4  (As, I, stand, here, today, ,, having, taken, ...  Democrat"
      ]
     },
     "execution_count": 9,
     "metadata": {},
     "output_type": "execute_result"
    }
   ],
   "source": [
    "# Group into sentences.\n",
    "\n",
    "roosevelt_sents = [[sent, \"Democrat\"] for sent in roosevelt_doc.sents]\n",
    "truman_sents = [[sent, \"Democrat\"] for sent in truman_doc.sents]\n",
    "eisenhower_sents = [[sent, \"Republican\"] for sent in eisenhower_doc.sents]\n",
    "kennedy_sents = [[sent, \"Democrat\"] for sent in kennedy_doc.sents]\n",
    "johnson_sents = [[sent, \"Democrat\"] for sent in johnson_doc.sents]\n",
    "nixon_sents = [[sent, \"Republican\"] for sent in nixon_doc.sents]\n",
    "carter_sents = [[sent, \"Democrat\"] for sent in carter_doc.sents]\n",
    "reagan_sents = [[sent, \"Republican\"] for sent in reagan_doc.sents]\n",
    "bush_sr_sents = [[sent, \"Republican\"] for sent in bush_sr_doc.sents]\n",
    "clinton_sents = [[sent, \"Democrat\"] for sent in clinton_doc.sents]\n",
    "bush_jr_sents = [[sent, \"Republican\"] for sent in bush_jr_doc.sents]\n",
    "obama_sents = [[sent, \"Democrat\"] for sent in obama_doc.sents]\n",
    "\n",
    "\n",
    "# Combine the sentences from the two novels into one data frame.\n",
    "sentences = pd.DataFrame(roosevelt_sents + \n",
    "        truman_sents +\n",
    "        eisenhower_sents +\n",
    "        kennedy_sents +\n",
    "        johnson_sents +\n",
    "        nixon_sents +\n",
    "        carter_sents +\n",
    "        reagan_sents +\n",
    "        bush_sr_sents +\n",
    "        clinton_sents +\n",
    "        bush_jr_sents +\n",
    "        obama_sents)\n",
    "sentences.head()"
   ]
  },
  {
   "cell_type": "code",
   "execution_count": 10,
   "metadata": {},
   "outputs": [],
   "source": [
    "def bag_of_words(text):\n",
    "    allwords = [token.lemma_\n",
    "               for token in text\n",
    "               if not token.is_punct\n",
    "               and not token.is_stop]\n",
    "    return [item[0] for item in Counter(allwords).most_common(2000)]\n",
    "\n",
    "def bow_features(sentences, common_words):\n",
    "    df = pd.DataFrame(columns=common_words)\n",
    "    df['text_sentence'] = sentences[0]\n",
    "    df['text_party'] = sentences[1]\n",
    "    df.loc[:,common_words] = 0\n",
    "    \n",
    "    for i, sentence in enumerate(df['text_sentence']):\n",
    "        words = [token.lemma_ \n",
    "                for token in sentence\n",
    "                if (\n",
    "                    not token.is_punct\n",
    "                    and not token.is_stop\n",
    "                    and token.lemma_ in common_words\n",
    "                )]\n",
    "        for word in words:\n",
    "            df.loc[i, word] += 1\n",
    "        if i%100 == 0:\n",
    "            print('Processing row {}'.format(i))\n",
    "    return df"
   ]
  },
  {
   "cell_type": "code",
   "execution_count": 11,
   "metadata": {},
   "outputs": [],
   "source": [
    "roosevelt_words = bag_of_words(roosevelt_doc)\n",
    "truman_words = bag_of_words(truman_doc)\n",
    "eisenhower_words = bag_of_words(eisenhower_doc)\n",
    "kennedy_words = bag_of_words(kennedy_doc)\n",
    "johnson_words = bag_of_words(johnson_doc)\n",
    "nixon_words = bag_of_words(nixon_doc)\n",
    "carter_words = bag_of_words(carter_doc)\n",
    "reagan_words = bag_of_words(reagan_doc)\n",
    "bush_sr_words = bag_of_words(bush_sr_doc)\n",
    "clinton_words = bag_of_words(clinton_doc)\n",
    "bush_jr_words = bag_of_words(bush_jr_doc)\n",
    "obama_words = bag_of_words(obama_doc)\n",
    "\n",
    "common_words = set(roosevelt_words +\n",
    "        truman_words + \n",
    "        eisenhower_words + \n",
    "        kennedy_words +\n",
    "        johnson_words +\n",
    "        nixon_words +\n",
    "        carter_words +\n",
    "        reagan_words +\n",
    "        bush_sr_words +\n",
    "        clinton_words +\n",
    "        bush_jr_words +\n",
    "        obama_words)"
   ]
  },
  {
   "cell_type": "code",
   "execution_count": 12,
   "metadata": {},
   "outputs": [
    {
     "name": "stdout",
     "output_type": "stream",
     "text": [
      "Processing row 0\n",
      "Processing row 100\n",
      "Processing row 200\n",
      "Processing row 300\n",
      "Processing row 400\n",
      "Processing row 500\n",
      "Processing row 600\n",
      "Processing row 700\n",
      "Processing row 800\n",
      "Processing row 900\n",
      "Processing row 1000\n",
      "Processing row 1100\n"
     ]
    },
    {
     "data": {
      "text/html": [
       "<div>\n",
       "<style scoped>\n",
       "    .dataframe tbody tr th:only-of-type {\n",
       "        vertical-align: middle;\n",
       "    }\n",
       "\n",
       "    .dataframe tbody tr th {\n",
       "        vertical-align: top;\n",
       "    }\n",
       "\n",
       "    .dataframe thead th {\n",
       "        text-align: right;\n",
       "    }\n",
       "</style>\n",
       "<table border=\"1\" class=\"dataframe\">\n",
       "  <thead>\n",
       "    <tr style=\"text-align: right;\">\n",
       "      <th></th>\n",
       "      <th>unclimbed</th>\n",
       "      <th>weight</th>\n",
       "      <th>State</th>\n",
       "      <th>stately</th>\n",
       "      <th>pretend</th>\n",
       "      <th>vast</th>\n",
       "      <th>prophet</th>\n",
       "      <th>connection</th>\n",
       "      <th>occur</th>\n",
       "      <th>1984</th>\n",
       "      <th>...</th>\n",
       "      <th>wound</th>\n",
       "      <th>importance</th>\n",
       "      <th>imperialism</th>\n",
       "      <th>Soviets</th>\n",
       "      <th>command</th>\n",
       "      <th>turmoil</th>\n",
       "      <th>sincere</th>\n",
       "      <th>repression</th>\n",
       "      <th>text_sentence</th>\n",
       "      <th>text_party</th>\n",
       "    </tr>\n",
       "  </thead>\n",
       "  <tbody>\n",
       "    <tr>\n",
       "      <th>0</th>\n",
       "      <td>0</td>\n",
       "      <td>0</td>\n",
       "      <td>0</td>\n",
       "      <td>0</td>\n",
       "      <td>0</td>\n",
       "      <td>0</td>\n",
       "      <td>0</td>\n",
       "      <td>0</td>\n",
       "      <td>0</td>\n",
       "      <td>0</td>\n",
       "      <td>...</td>\n",
       "      <td>0</td>\n",
       "      <td>0</td>\n",
       "      <td>0</td>\n",
       "      <td>0</td>\n",
       "      <td>0</td>\n",
       "      <td>0</td>\n",
       "      <td>0</td>\n",
       "      <td>0</td>\n",
       "      <td>(Chief, Justice, ,, Mr., Vice, President, ,, m...</td>\n",
       "      <td>Democrat</td>\n",
       "    </tr>\n",
       "    <tr>\n",
       "      <th>1</th>\n",
       "      <td>0</td>\n",
       "      <td>0</td>\n",
       "      <td>0</td>\n",
       "      <td>0</td>\n",
       "      <td>0</td>\n",
       "      <td>0</td>\n",
       "      <td>0</td>\n",
       "      <td>0</td>\n",
       "      <td>0</td>\n",
       "      <td>0</td>\n",
       "      <td>...</td>\n",
       "      <td>0</td>\n",
       "      <td>0</td>\n",
       "      <td>0</td>\n",
       "      <td>0</td>\n",
       "      <td>0</td>\n",
       "      <td>0</td>\n",
       "      <td>0</td>\n",
       "      <td>0</td>\n",
       "      <td>(We, Americans, of, today, ,, together, with, ...</td>\n",
       "      <td>Democrat</td>\n",
       "    </tr>\n",
       "    <tr>\n",
       "      <th>2</th>\n",
       "      <td>0</td>\n",
       "      <td>0</td>\n",
       "      <td>0</td>\n",
       "      <td>0</td>\n",
       "      <td>0</td>\n",
       "      <td>0</td>\n",
       "      <td>0</td>\n",
       "      <td>0</td>\n",
       "      <td>0</td>\n",
       "      <td>0</td>\n",
       "      <td>...</td>\n",
       "      <td>0</td>\n",
       "      <td>0</td>\n",
       "      <td>0</td>\n",
       "      <td>0</td>\n",
       "      <td>0</td>\n",
       "      <td>0</td>\n",
       "      <td>0</td>\n",
       "      <td>0</td>\n",
       "      <td>(It, is, a, test, of, our, courage, of, our, r...</td>\n",
       "      <td>Democrat</td>\n",
       "    </tr>\n",
       "    <tr>\n",
       "      <th>3</th>\n",
       "      <td>0</td>\n",
       "      <td>0</td>\n",
       "      <td>0</td>\n",
       "      <td>0</td>\n",
       "      <td>0</td>\n",
       "      <td>0</td>\n",
       "      <td>0</td>\n",
       "      <td>0</td>\n",
       "      <td>0</td>\n",
       "      <td>0</td>\n",
       "      <td>...</td>\n",
       "      <td>0</td>\n",
       "      <td>1</td>\n",
       "      <td>0</td>\n",
       "      <td>0</td>\n",
       "      <td>0</td>\n",
       "      <td>0</td>\n",
       "      <td>0</td>\n",
       "      <td>0</td>\n",
       "      <td>(If, we, meet, that, test, successfully, and, ...</td>\n",
       "      <td>Democrat</td>\n",
       "    </tr>\n",
       "    <tr>\n",
       "      <th>4</th>\n",
       "      <td>0</td>\n",
       "      <td>0</td>\n",
       "      <td>0</td>\n",
       "      <td>0</td>\n",
       "      <td>0</td>\n",
       "      <td>0</td>\n",
       "      <td>0</td>\n",
       "      <td>0</td>\n",
       "      <td>0</td>\n",
       "      <td>0</td>\n",
       "      <td>...</td>\n",
       "      <td>0</td>\n",
       "      <td>0</td>\n",
       "      <td>0</td>\n",
       "      <td>0</td>\n",
       "      <td>0</td>\n",
       "      <td>0</td>\n",
       "      <td>0</td>\n",
       "      <td>0</td>\n",
       "      <td>(As, I, stand, here, today, ,, having, taken, ...</td>\n",
       "      <td>Democrat</td>\n",
       "    </tr>\n",
       "  </tbody>\n",
       "</table>\n",
       "<p>5 rows × 2497 columns</p>\n",
       "</div>"
      ],
      "text/plain": [
       "  unclimbed weight State stately pretend vast prophet connection occur 1984  \\\n",
       "0         0      0     0       0       0    0       0          0     0    0   \n",
       "1         0      0     0       0       0    0       0          0     0    0   \n",
       "2         0      0     0       0       0    0       0          0     0    0   \n",
       "3         0      0     0       0       0    0       0          0     0    0   \n",
       "4         0      0     0       0       0    0       0          0     0    0   \n",
       "\n",
       "   ... wound importance imperialism Soviets command turmoil sincere  \\\n",
       "0  ...     0          0           0       0       0       0       0   \n",
       "1  ...     0          0           0       0       0       0       0   \n",
       "2  ...     0          0           0       0       0       0       0   \n",
       "3  ...     0          1           0       0       0       0       0   \n",
       "4  ...     0          0           0       0       0       0       0   \n",
       "\n",
       "  repression                                      text_sentence text_party  \n",
       "0          0  (Chief, Justice, ,, Mr., Vice, President, ,, m...   Democrat  \n",
       "1          0  (We, Americans, of, today, ,, together, with, ...   Democrat  \n",
       "2          0  (It, is, a, test, of, our, courage, of, our, r...   Democrat  \n",
       "3          0  (If, we, meet, that, test, successfully, and, ...   Democrat  \n",
       "4          0  (As, I, stand, here, today, ,, having, taken, ...   Democrat  \n",
       "\n",
       "[5 rows x 2497 columns]"
      ]
     },
     "execution_count": 12,
     "metadata": {},
     "output_type": "execute_result"
    }
   ],
   "source": [
    "word_counts = bow_features(sentences, common_words)\n",
    "word_counts.head()"
   ]
  },
  {
   "cell_type": "code",
   "execution_count": 66,
   "metadata": {},
   "outputs": [
    {
     "name": "stderr",
     "output_type": "stream",
     "text": [
      "C:\\ProgramData\\Miniconda3\\lib\\site-packages\\sklearn\\ensemble\\forest.py:245: FutureWarning: The default value of n_estimators will change from 10 in version 0.20 to 100 in 0.22.\n",
      "  \"10 in version 0.20 to 100 in 0.22.\", FutureWarning)\n"
     ]
    },
    {
     "name": "stdout",
     "output_type": "stream",
     "text": [
      "Training set score: 0.9798339264531435\n",
      "\n",
      "Test set score: 0.5212765957446809\n"
     ]
    }
   ],
   "source": [
    "from sklearn import ensemble\n",
    "from sklearn.model_selection import train_test_split\n",
    "\n",
    "rfc = ensemble.RandomForestClassifier()\n",
    "Y = word_counts['text_party']\n",
    "X = np.array(word_counts.drop(['text_sentence','text_party'], 1))\n",
    "\n",
    "X_train, X_test, y_train, y_test = train_test_split(X, \n",
    "                                                    Y,\n",
    "                                                    test_size=0.25,\n",
    "                                                    random_state=0)\n",
    "train = rfc.fit(X_train, y_train)\n",
    "\n",
    "print('Training set score:', rfc.score(X_train, y_train))\n",
    "print('\\nTest set score:', rfc.score(X_test, y_test))\n"
   ]
  },
  {
   "cell_type": "code",
   "execution_count": 62,
   "metadata": {},
   "outputs": [
    {
     "name": "stderr",
     "output_type": "stream",
     "text": [
      "C:\\ProgramData\\Miniconda3\\lib\\site-packages\\sklearn\\linear_model\\logistic.py:432: FutureWarning: Default solver will be changed to 'lbfgs' in 0.22. Specify a solver to silence this warning.\n",
      "  FutureWarning)\n"
     ]
    },
    {
     "name": "stdout",
     "output_type": "stream",
     "text": [
      "(843, 2495) (843,)\n",
      "Training set score: 0.963226571767497\n",
      "\n",
      "Test set score: 0.5638297872340425\n"
     ]
    }
   ],
   "source": [
    "from sklearn.linear_model import LogisticRegression\n",
    "\n",
    "lr = LogisticRegression(penalty='l2') # No need to specify l2 as it's the default. But we put it for demonstration.\n",
    "train = lr.fit(X_train, y_train)\n",
    "print(X_train.shape, y_train.shape)\n",
    "print('Training set score:', lr.score(X_train, y_train))\n",
    "print('\\nTest set score:', lr.score(X_test, y_test))"
   ]
  },
  {
   "cell_type": "code",
   "execution_count": 63,
   "metadata": {},
   "outputs": [
    {
     "name": "stdout",
     "output_type": "stream",
     "text": [
      "Training set score: 0.8446026097271648\n",
      "\n",
      "Test set score: 0.5177304964539007\n"
     ]
    }
   ],
   "source": [
    "clf = ensemble.GradientBoostingClassifier()\n",
    "train = clf.fit(X_train, y_train)\n",
    "\n",
    "print('Training set score:', clf.score(X_train, y_train))\n",
    "print('\\nTest set score:', clf.score(X_test, y_test))"
   ]
  },
  {
   "cell_type": "markdown",
   "metadata": {},
   "source": [
    "### Unsupervised NLP"
   ]
  },
  {
   "cell_type": "code",
   "execution_count": 16,
   "metadata": {},
   "outputs": [
    {
     "name": "stdout",
     "output_type": "stream",
     "text": [
      "['Chief Justice , Mr . Vice President , my friends , you will understand and , I believe , agree with my wish that the form of this inauguration be simple and its words brief .', 'We Americans of today , together with our allies , are passing through a period of supreme test .', 'If we meet that test  successfully and honorably  we shall perform a service of historic importance which men and women and children will honor throughout all time .', \"As I stand here today , having taken the solemn oath of office in the presence of my fellow countrymen  in the presence of our God  I know that it is America ' s purpose that we shall not fail .\"]\n",
      "['My fellow citizens :', 'I stand here today humbled by the task before us , grateful for the trust you have bestowed , mindful of the sacrifices borne by our ancestors .', 'Forty - four Americans have now taken the presidential oath .', 'So it has been .']\n"
     ]
    }
   ],
   "source": [
    "import nltk\n",
    "import re\n",
    "from sklearn.model_selection import train_test_split\n",
    "from nltk.corpus import inaugural\n",
    "\n",
    "\n",
    "#reading in the data, this time in the form of paragraphs\n",
    "roosevelt = inaugural.paras('1945-Roosevelt.txt') \n",
    "truman = inaugural.paras('1949-Truman.txt')\n",
    "eisenhower = inaugural.paras('1957-Eisenhower.txt')\n",
    "kennedy = inaugural.paras('1961-Kennedy.txt')\n",
    "johnson = inaugural.paras('1965-Johnson.txt')\n",
    "nixon = inaugural.paras('1973-Nixon.txt')\n",
    "carter = inaugural.paras('1977-Carter.txt')\n",
    "reagan = inaugural.paras('1985-Reagan.txt')\n",
    "bush_sr = inaugural.paras('1989-Bush.txt')\n",
    "clinton = inaugural.paras('1997-Clinton.txt')\n",
    "bush_jr = inaugural.paras('2005-Bush.txt')\n",
    "obama = inaugural.paras('2009-Obama.txt')\n",
    "#processing\n",
    "roosevelt_paras=[]\n",
    "for paragraph in roosevelt:\n",
    "    para=paragraph[0]\n",
    "    #removing the double-dash from all words\n",
    "    para=[re.sub(r'--','',word) for word in para]\n",
    "    para=[re.sub('/\\\\n/g', \"\", word) for word in para]\n",
    "    #Forming each paragraph into a string and adding it to the list of strings.\n",
    "    roosevelt_paras.append(' '.join(para))\n",
    "\n",
    "print(roosevelt_paras[0:4])\n",
    "\n",
    "obama_paras=[]\n",
    "for paragraph in obama:\n",
    "    para=paragraph[0]\n",
    "    #removing the double-dash from all words\n",
    "    para=[re.sub(r'--','',word) for word in para]\n",
    "    para=[re.sub('/\\\\n/g', \"\", word) for word in para]\n",
    "    #Forming each paragraph into a string and adding it to the list of strings.\n",
    "    obama_paras.append(' '.join(para))\n",
    "\n",
    "print(obama_paras[0:4])"
   ]
  },
  {
   "cell_type": "code",
   "execution_count": 83,
   "metadata": {},
   "outputs": [
    {
     "name": "stdout",
     "output_type": "stream",
     "text": [
      "Number of features: 14\n",
      "Original sentence: As I stand here today , having taken the solemn oath of office in the presence of my fellow countrymen  in the presence of our God  I know that it is America ' s purpose that we shall not fail .\n",
      "Tf_idf vector: {'god': 0.5573997703441839, 'fellow': 0.5573997703441839, 'shall': 0.41611405025804205, 'today': 0.4532770556937}\n"
     ]
    }
   ],
   "source": [
    "from sklearn.feature_extraction.text import TfidfVectorizer\n",
    "\n",
    "X_train, X_test = train_test_split(roosevelt_paras, test_size=0.4, random_state=0)\n",
    "\n",
    "vectorizer = TfidfVectorizer(max_df=0.5, # drop words that occur in more than half the paragraphs\n",
    "                             min_df=2, # only use words that appear at least twice\n",
    "                             stop_words='english', \n",
    "                             lowercase=True, #convert everything to lower case (since Alice in Wonderland has the HABIT of CAPITALIZING WORDS for EMPHASIS)\n",
    "                             use_idf=True,#we definitely want to use inverse document frequencies in our weighting\n",
    "                             norm=u'l2', #Applies a correction factor so that longer paragraphs and shorter paragraphs get treated equally\n",
    "                             smooth_idf=True #Adds 1 to all document frequencies, as if an extra document existed that used every word once.  Prevents divide-by-zero errors\n",
    "                            )\n",
    "\n",
    "\n",
    "#Applying the vectorizer\n",
    "roosevelt_paras_tfidf=vectorizer.fit_transform(roosevelt_paras)\n",
    "print(\"Number of features: %d\" % roosevelt_paras_tfidf.get_shape()[1])\n",
    "\n",
    "#splitting into training and test sets\n",
    "X_train_tfidf, X_test_tfidf= train_test_split(roosevelt_paras_tfidf, test_size=0.4, random_state=0)\n",
    "\n",
    "\n",
    "#Reshapes the vectorizer output into something people can read\n",
    "X_train_tfidf_csr = X_train_tfidf.tocsr()\n",
    "\n",
    "#number of paragraphs\n",
    "n = X_train_tfidf_csr.shape[0]\n",
    "#A list of dictionaries, one per paragraph\n",
    "tfidf_bypara = [{} for _ in range(0,n)]\n",
    "#List of features\n",
    "terms = vectorizer.get_feature_names()\n",
    "#for each paragraph, lists the feature words and their tf-idf scores\n",
    "for i, j in zip(*X_train_tfidf_csr.nonzero()):\n",
    "    tfidf_bypara[i][terms[j]] = X_train_tfidf_csr[i, j]\n",
    "\n",
    "#Keep in mind that the log base 2 of 1 is 0, so a tf-idf score of 0 indicates that the word was present once in that sentence.\n",
    "print('Original sentence:', X_train[5])\n",
    "print('Tf_idf vector:', tfidf_bypara[5])"
   ]
  },
  {
   "cell_type": "code",
   "execution_count": 80,
   "metadata": {},
   "outputs": [
    {
     "name": "stdout",
     "output_type": "stream",
     "text": [
      "Number of features: 27\n",
      "Original sentence: On this day , we gather because we have chosen hope over fear , unity of purpose over conflict and discord .\n",
      "Tf_idf vector: {'hope': 0.7366305251840556, 'day': 0.6762954009654822}\n"
     ]
    }
   ],
   "source": [
    "X_train1, X_test1 = train_test_split(obama_paras, test_size=0.4, random_state=0)\n",
    "\n",
    "vectorizer = TfidfVectorizer(max_df=0.5, # drop words that occur in more than half the paragraphs\n",
    "                             min_df=2, # only use words that appear at least twice\n",
    "                             stop_words='english', \n",
    "                             lowercase=True, #convert everything to lower case (since Alice in Wonderland has the HABIT of CAPITALIZING WORDS for EMPHASIS)\n",
    "                             use_idf=True,#we definitely want to use inverse document frequencies in our weighting\n",
    "                             norm=u'l2', #Applies a correction factor so that longer paragraphs and shorter paragraphs get treated equally\n",
    "                             smooth_idf=True #Adds 1 to all document frequencies, as if an extra document existed that used every word once.  Prevents divide-by-zero errors\n",
    "                            )\n",
    "\n",
    "\n",
    "#Applying the vectorizer\n",
    "obama_paras_tfidf=vectorizer.fit_transform(obama_paras)\n",
    "print(\"Number of features: %d\" % obama_paras_tfidf.get_shape()[1])\n",
    "\n",
    "#splitting into training and test sets\n",
    "X_train_tfidf1, X_test_tfidf1= train_test_split(obama_paras_tfidf, test_size=0.4, random_state=0)\n",
    "\n",
    "\n",
    "#Reshapes the vectorizer output into something people can read\n",
    "X_train_tfidf_csr1 = X_train_tfidf1.tocsr()\n",
    "\n",
    "#number of paragraphs\n",
    "n = X_train_tfidf_csr1.shape[0]\n",
    "#A list of dictionaries, one per paragraph\n",
    "tfidf_bypara1 = [{} for _ in range(0,n)]\n",
    "#List of features\n",
    "terms1 = vectorizer.get_feature_names()\n",
    "#for each paragraph, lists the feature words and their tf-idf scores\n",
    "for i, j in zip(*X_train_tfidf_csr1.nonzero()):\n",
    "    tfidf_bypara1[i][terms1[j]] = X_train_tfidf_csr1[i, j]\n",
    "\n",
    "#Keep in mind that the log base 2 of 1 is 0, so a tf-idf score of 0 indicates that the word was present once in that sentence.\n",
    "print('Original sentence:', X_train1[5])\n",
    "print('Tf_idf vector:', tfidf_bypara1[5])"
   ]
  },
  {
   "cell_type": "code",
   "execution_count": 25,
   "metadata": {},
   "outputs": [
    {
     "data": {
      "text/plain": [
       "['The Almighty God has blessed our land in many ways .',\n",
       " 'We have learned that we cannot live alone , at peace ; that our own well - being is dependent on the well - being of other nations far away .',\n",
       " 'I remember that my old schoolmaster , Dr . Peabody , said , in days that seemed to us then to be secure and untroubled : \" Things in life will not always run smoothly .',\n",
       " 'So we pray to Him now for the vision to see our way clearly  to see the way that leads to a better life for ourselves and for all our fellow men  to the achievement of His will to peace on earth .',\n",
       " 'We have learned to be citizens of the world , members of the human community .',\n",
       " \"As I stand here today , having taken the solemn oath of office in the presence of my fellow countrymen  in the presence of our God  I know that it is America ' s purpose that we shall not fail .\",\n",
       " 'Chief Justice , Mr . Vice President , my friends , you will understand and , I believe , agree with my wish that the form of this inauguration be simple and its words brief .',\n",
       " 'We can and we will achieve such a peace .',\n",
       " 'We have learned the simple truth , as Emerson said , that \" The only way to have a friend is to be one .\"']"
      ]
     },
     "execution_count": 25,
     "metadata": {},
     "output_type": "execute_result"
    }
   ],
   "source": [
    "X_train"
   ]
  },
  {
   "cell_type": "code",
   "execution_count": 26,
   "metadata": {},
   "outputs": [
    {
     "data": {
      "text/plain": [
       "['On this day , we come to proclaim an end to the petty grievances and false promises , the recriminations and worn - out dogmas that for far too long have strangled our politics .',\n",
       " 'For us , they fought and died , in places like Concord and Gettysburg ; Normandy and Khe Sahn .',\n",
       " 'These are the indicators of crisis , subject to data and statistics .',\n",
       " 'Now , there are some who question the scale of our ambitions  who suggest that our system cannot tolerate too many big plans .',\n",
       " 'Time and again these men and women struggled and sacrificed and worked till their hands were raw so that we might live a better life .',\n",
       " 'On this day , we gather because we have chosen hope over fear , unity of purpose over conflict and discord .',\n",
       " 'As we consider the road that unfolds before us , we remember with humble gratitude those brave Americans who , at this very hour , patrol far - off deserts and distant mountains .',\n",
       " 'I stand here today humbled by the task before us , grateful for the trust you have bestowed , mindful of the sacrifices borne by our ancestors .',\n",
       " 'For us , they toiled in sweatshops and settled the West ; endured the lash of the whip and plowed the hard earth .',\n",
       " 'To the people of poor nations , we pledge to work alongside you to make your farms flourish and let clean waters flow ; to nourish starved bodies and feed hungry minds .',\n",
       " 'To the Muslim world , we seek a new way forward , based on mutual interest and mutual respect .',\n",
       " 'Today I say to you that the challenges we face are real .',\n",
       " 'For we know that our patchwork heritage is a strength , not a weakness .',\n",
       " 'That we are in the midst of crisis is now well understood .',\n",
       " 'What the cynics fail to understand is that the ground has shifted beneath them  that the stale political arguments that have consumed us for so long no longer apply .',\n",
       " 'Recall that earlier generations faced down fascism and communism not just with missiles and tanks , but with the sturdy alliances and enduring convictions .',\n",
       " 'Nor is the question before us whether the market is a force for good or ill . Its power to generate wealth and expand freedom is unmatched , but this crisis has reminded us that without a watchful eye , the market can spin out of control  the nation cannot prosper long when it favors only the prosperous .',\n",
       " 'We remain a young nation , but in the words of Scripture , the time has come to set aside childish things .',\n",
       " 'America !',\n",
       " 'So it has been .',\n",
       " 'My fellow citizens :']"
      ]
     },
     "execution_count": 26,
     "metadata": {},
     "output_type": "execute_result"
    }
   ],
   "source": [
    "X_train1"
   ]
  },
  {
   "cell_type": "markdown",
   "metadata": {},
   "source": [
    "Dimenstion Reduction"
   ]
  },
  {
   "cell_type": "code",
   "execution_count": 85,
   "metadata": {},
   "outputs": [
    {
     "name": "stdout",
     "output_type": "stream",
     "text": [
      "Percent variance captured by all components: 99.99999999999986\n",
      "Component 0:\n",
      "That we are in the midst of crisis is now well understood .                                                                                                                                                                                                                                                           0.880238\n",
      "These are the indicators of crisis , subject to data and statistics .                                                                                                                                                                                                                                                 0.880238\n",
      "Nor is the question before us whether the market is a force for good or ill . Its power to generate wealth and expand freedom is unmatched , but this crisis has reminded us that without a watchful eye , the market can spin out of control  the nation cannot prosper long when it favors only the prosperous .    0.825004\n",
      "Now , there are some who question the scale of our ambitions  who suggest that our system cannot tolerate too many big plans .                                                                                                                                                                                        0.304571\n",
      "What the cynics fail to understand is that the ground has shifted beneath them  that the stale political arguments that have consumed us for so long no longer apply .                                                                                                                                                0.232996\n",
      "On this day , we come to proclaim an end to the petty grievances and false promises , the recriminations and worn - out dogmas that for far too long have strangled our politics .                                                                                                                                    0.220449\n",
      "We remain a young nation , but in the words of Scripture , the time has come to set aside childish things .                                                                                                                                                                                                           0.185284\n",
      "On this day , we gather because we have chosen hope over fear , unity of purpose over conflict and discord .                                                                                                                                                                                                          0.043887\n",
      "As we consider the road that unfolds before us , we remember with humble gratitude those brave Americans who , at this very hour , patrol far - off deserts and distant mountains .                                                                                                                                   0.043887\n",
      "Time and again these men and women struggled and sacrificed and worked till their hands were raw so that we might live a better life .                                                                                                                                                                                0.038256\n",
      "Name: 0, dtype: float64\n",
      "Component 1:\n",
      "On this day , we come to proclaim an end to the petty grievances and false promises , the recriminations and worn - out dogmas that for far too long have strangled our politics .                                                                                                                                    0.761410\n",
      "We remain a young nation , but in the words of Scripture , the time has come to set aside childish things .                                                                                                                                                                                                           0.504680\n",
      "What the cynics fail to understand is that the ground has shifted beneath them  that the stale political arguments that have consumed us for so long no longer apply .                                                                                                                                                0.447408\n",
      "As we consider the road that unfolds before us , we remember with humble gratitude those brave Americans who , at this very hour , patrol far - off deserts and distant mountains .                                                                                                                                   0.327139\n",
      "On this day , we gather because we have chosen hope over fear , unity of purpose over conflict and discord .                                                                                                                                                                                                          0.327139\n",
      "Nor is the question before us whether the market is a force for good or ill . Its power to generate wealth and expand freedom is unmatched , but this crisis has reminded us that without a watchful eye , the market can spin out of control  the nation cannot prosper long when it favors only the prosperous .    0.243119\n",
      "Time and again these men and women struggled and sacrificed and worked till their hands were raw so that we might live a better life .                                                                                                                                                                                0.224884\n",
      "Now , there are some who question the scale of our ambitions  who suggest that our system cannot tolerate too many big plans .                                                                                                                                                                                        0.193701\n",
      "For us , they toiled in sweatshops and settled the West ; endured the lash of the whip and plowed the hard earth .                                                                                                                                                                                                    0.000000\n",
      "For us , they fought and died , in places like Concord and Gettysburg ; Normandy and Khe Sahn .                                                                                                                                                                                                                       0.000000\n",
      "Name: 1, dtype: float64\n",
      "Component 2:\n",
      "I stand here today humbled by the task before us , grateful for the trust you have bestowed , mindful of the sacrifices borne by our ancestors .                                                                                                                                                                      8.536321e-01\n",
      "Today I say to you that the challenges we face are real .                                                                                                                                                                                                                                                             8.536321e-01\n",
      "For us , they toiled in sweatshops and settled the West ; endured the lash of the whip and plowed the hard earth .                                                                                                                                                                                                    3.595516e-01\n",
      "Time and again these men and women struggled and sacrificed and worked till their hands were raw so that we might live a better life .                                                                                                                                                                                3.141956e-15\n",
      "We remain a young nation , but in the words of Scripture , the time has come to set aside childish things .                                                                                                                                                                                                           2.943229e-15\n",
      "To the Muslim world , we seek a new way forward , based on mutual interest and mutual respect .                                                                                                                                                                                                                       1.077136e-15\n",
      "Now , there are some who question the scale of our ambitions  who suggest that our system cannot tolerate too many big plans .                                                                                                                                                                                        7.712157e-16\n",
      "Nor is the question before us whether the market is a force for good or ill . Its power to generate wealth and expand freedom is unmatched , but this crisis has reminded us that without a watchful eye , the market can spin out of control  the nation cannot prosper long when it favors only the prosperous .    7.131065e-16\n",
      "To the people of poor nations , we pledge to work alongside you to make your farms flourish and let clean waters flow ; to nourish starved bodies and feed hungry minds .                                                                                                                                             5.754610e-16\n",
      "These are the indicators of crisis , subject to data and statistics .                                                                                                                                                                                                                                                 3.985492e-17\n"
     ]
    },
    {
     "name": "stdout",
     "output_type": "stream",
     "text": [
      "Name: 2, dtype: float64\n",
      "Component 3:\n",
      "Now , there are some who question the scale of our ambitions  who suggest that our system cannot tolerate too many big plans .                                                                                                                                                                                        7.767636e-01\n",
      "Nor is the question before us whether the market is a force for good or ill . Its power to generate wealth and expand freedom is unmatched , but this crisis has reminded us that without a watchful eye , the market can spin out of control  the nation cannot prosper long when it favors only the prosperous .    3.987467e-01\n",
      "What the cynics fail to understand is that the ground has shifted beneath them  that the stale political arguments that have consumed us for so long no longer apply .                                                                                                                                                1.427117e-01\n",
      "To the people of poor nations , we pledge to work alongside you to make your farms flourish and let clean waters flow ; to nourish starved bodies and feed hungry minds .                                                                                                                                             5.032890e-16\n",
      "To the Muslim world , we seek a new way forward , based on mutual interest and mutual respect .                                                                                                                                                                                                                       1.960911e-16\n",
      "For we know that our patchwork heritage is a strength , not a weakness .                                                                                                                                                                                                                                             -0.000000e+00\n",
      "So it has been .                                                                                                                                                                                                                                                                                                     -0.000000e+00\n",
      "My fellow citizens :                                                                                                                                                                                                                                                                                                 -0.000000e+00\n",
      "Recall that earlier generations faced down fascism and communism not just with missiles and tanks , but with the sturdy alliances and enduring convictions .                                                                                                                                                         -0.000000e+00\n",
      "America !                                                                                                                                                                                                                                                                                                            -0.000000e+00\n",
      "Name: 3, dtype: float64\n",
      "Component 4:\n",
      "Time and again these men and women struggled and sacrificed and worked till their hands were raw so that we might live a better life .                          0.764935\n",
      "We remain a young nation , but in the words of Scripture , the time has come to set aside childish things .                                                     0.640559\n",
      "That we are in the midst of crisis is now well understood .                                                                                                     0.025772\n",
      "These are the indicators of crisis , subject to data and statistics .                                                                                           0.025772\n",
      "My fellow citizens :                                                                                                                                            0.000000\n",
      "America !                                                                                                                                                       0.000000\n",
      "Recall that earlier generations faced down fascism and communism not just with missiles and tanks , but with the sturdy alliances and enduring convictions .    0.000000\n",
      "For we know that our patchwork heritage is a strength , not a weakness .                                                                                        0.000000\n",
      "For us , they toiled in sweatshops and settled the West ; endured the lash of the whip and plowed the hard earth .                                              0.000000\n",
      "So it has been .                                                                                                                                                0.000000\n",
      "Name: 4, dtype: float64\n"
     ]
    }
   ],
   "source": [
    "from sklearn.decomposition import TruncatedSVD\n",
    "from sklearn.pipeline import make_pipeline\n",
    "from sklearn.preprocessing import Normalizer\n",
    "\n",
    "#Our SVD data reducer.  We are going to reduce the feature space from 1379 to 130.\n",
    "svd= TruncatedSVD(14)\n",
    "lsa = make_pipeline(svd, Normalizer(copy=False))\n",
    "# Run SVD on the training data, then project the training data.\n",
    "X_train_lsa1 = lsa.fit_transform(X_train_tfidf1)\n",
    "\n",
    "variance_explained=svd.explained_variance_ratio_\n",
    "total_variance = variance_explained.sum()\n",
    "print(\"Percent variance captured by all components:\",total_variance*100)\n",
    "\n",
    "#Looking at what sorts of paragraphs our solution considers similar, for the first five identified topics\n",
    "paras_by_component1=pd.DataFrame(X_train_lsa1,index=X_train1)\n",
    "for i in range(5):\n",
    "    print('Component {}:'.format(i))\n",
    "    print(paras_by_component1.loc[:,i].sort_values(ascending=False)[0:10])"
   ]
  },
  {
   "cell_type": "code",
   "execution_count": 55,
   "metadata": {},
   "outputs": [
    {
     "data": {
      "text/plain": [
       "21"
      ]
     },
     "execution_count": 55,
     "metadata": {},
     "output_type": "execute_result"
    }
   ],
   "source": [
    "len(X_train1)"
   ]
  },
  {
   "cell_type": "code",
   "execution_count": 56,
   "metadata": {},
   "outputs": [
    {
     "name": "stdout",
     "output_type": "stream",
     "text": [
      "Percent variance captured by all components: 97.42540729824456\n",
      "Component 0:\n",
      "We have learned that we cannot live alone , at peace ; that our own well - being is dependent on the well - being of other nations far away .                                                           0.865649\n",
      "We have learned the simple truth , as Emerson said , that \" The only way to have a friend is to be one .\"                                                                                               0.737397\n",
      "We have learned to be citizens of the world , members of the human community .                                                                                                                          0.696763\n",
      "We can and we will achieve such a peace .                                                                                                                                                               0.527640\n",
      "So we pray to Him now for the vision to see our way clearly  to see the way that leads to a better life for ourselves and for all our fellow men  to the achievement of His will to peace on earth .    0.474607\n",
      "Chief Justice , Mr . Vice President , my friends , you will understand and , I believe , agree with my wish that the form of this inauguration be simple and its words brief .                          0.276818\n",
      "I remember that my old schoolmaster , Dr . Peabody , said , in days that seemed to us then to be secure and untroubled : \" Things in life will not always run smoothly .                                0.230186\n",
      "As I stand here today , having taken the solemn oath of office in the presence of my fellow countrymen  in the presence of our God  I know that it is America ' s purpose that we shall not fail .      0.084701\n",
      "The Almighty God has blessed our land in many ways .                                                                                                                                                    0.034807\n",
      "Name: 0, dtype: float64\n",
      "Component 1:\n",
      "As I stand here today , having taken the solemn oath of office in the presence of my fellow countrymen  in the presence of our God  I know that it is America ' s purpose that we shall not fail .      0.856632\n",
      "The Almighty God has blessed our land in many ways .                                                                                                                                                    0.803008\n",
      "So we pray to Him now for the vision to see our way clearly  to see the way that leads to a better life for ourselves and for all our fellow men  to the achievement of His will to peace on earth .    0.300954\n",
      "I remember that my old schoolmaster , Dr . Peabody , said , in days that seemed to us then to be secure and untroubled : \" Things in life will not always run smoothly .                                0.155410\n",
      "We have learned the simple truth , as Emerson said , that \" The only way to have a friend is to be one .\"                                                                                               0.102786\n",
      "Chief Justice , Mr . Vice President , my friends , you will understand and , I believe , agree with my wish that the form of this inauguration be simple and its words brief .                          0.088018\n",
      "We can and we will achieve such a peace .                                                                                                                                                              -0.103654\n",
      "We have learned to be citizens of the world , members of the human community .                                                                                                                         -0.191758\n",
      "We have learned that we cannot live alone , at peace ; that our own well - being is dependent on the well - being of other nations far away .                                                          -0.210207\n",
      "Name: 1, dtype: float64\n",
      "Component 2:\n",
      "Chief Justice , Mr . Vice President , my friends , you will understand and , I believe , agree with my wish that the form of this inauguration be simple and its words brief .                          0.639122\n",
      "We have learned the simple truth , as Emerson said , that \" The only way to have a friend is to be one .\"                                                                                               0.639007\n",
      "I remember that my old schoolmaster , Dr . Peabody , said , in days that seemed to us then to be secure and untroubled : \" Things in life will not always run smoothly .                                0.408595\n",
      "So we pray to Him now for the vision to see our way clearly  to see the way that leads to a better life for ourselves and for all our fellow men  to the achievement of His will to peace on earth .    0.110880\n",
      "We have learned to be citizens of the world , members of the human community .                                                                                                                         -0.113124\n",
      "As I stand here today , having taken the solemn oath of office in the presence of my fellow countrymen  in the presence of our God  I know that it is America ' s purpose that we shall not fail .     -0.216657\n",
      "The Almighty God has blessed our land in many ways .                                                                                                                                                   -0.237213\n",
      "We have learned that we cannot live alone , at peace ; that our own well - being is dependent on the well - being of other nations far away .                                                          -0.430005\n",
      "We can and we will achieve such a peace .                                                                                                                                                              -0.514839\n",
      "Name: 2, dtype: float64\n",
      "Component 3:\n",
      "So we pray to Him now for the vision to see our way clearly  to see the way that leads to a better life for ourselves and for all our fellow men  to the achievement of His will to peace on earth .    0.619224\n",
      "I remember that my old schoolmaster , Dr . Peabody , said , in days that seemed to us then to be secure and untroubled : \" Things in life will not always run smoothly .                                0.446834\n",
      "We can and we will achieve such a peace .                                                                                                                                                               0.440224\n",
      "We have learned that we cannot live alone , at peace ; that our own well - being is dependent on the well - being of other nations far away .                                                          -0.103263\n",
      "As I stand here today , having taken the solemn oath of office in the presence of my fellow countrymen  in the presence of our God  I know that it is America ' s purpose that we shall not fail .     -0.103939\n",
      "We have learned the simple truth , as Emerson said , that \" The only way to have a friend is to be one .\"                                                                                              -0.106193\n",
      "Chief Justice , Mr . Vice President , my friends , you will understand and , I believe , agree with my wish that the form of this inauguration be simple and its words brief .                         -0.246039\n",
      "The Almighty God has blessed our land in many ways .                                                                                                                                                   -0.263616\n",
      "We have learned to be citizens of the world , members of the human community .                                                                                                                         -0.546967\n",
      "Name: 3, dtype: float64\n",
      "Component 4:\n",
      "Chief Justice , Mr . Vice President , my friends , you will understand and , I believe , agree with my wish that the form of this inauguration be simple and its words brief .                          6.343398e-01\n",
      "We can and we will achieve such a peace .                                                                                                                                                               4.186210e-01\n",
      "We have learned that we cannot live alone , at peace ; that our own well - being is dependent on the well - being of other nations far away .                                                           3.708146e-16\n",
      "So we pray to Him now for the vision to see our way clearly  to see the way that leads to a better life for ourselves and for all our fellow men  to the achievement of His will to peace on earth .   -0.000000e+00\n",
      "The Almighty God has blessed our land in many ways .                                                                                                                                                   -3.551060e-18\n",
      "We have learned the simple truth , as Emerson said , that \" The only way to have a friend is to be one .\"                                                                                              -1.042916e-16\n",
      "As I stand here today , having taken the solemn oath of office in the presence of my fellow countrymen  in the presence of our God  I know that it is America ' s purpose that we shall not fail .     -1.903576e-16\n",
      "We have learned to be citizens of the world , members of the human community .                                                                                                                         -3.859108e-01\n",
      "I remember that my old schoolmaster , Dr . Peabody , said , in days that seemed to us then to be secure and untroubled : \" Things in life will not always run smoothly .                               -5.407913e-01\n"
     ]
    },
    {
     "name": "stdout",
     "output_type": "stream",
     "text": [
      "Name: 4, dtype: float64\n"
     ]
    }
   ],
   "source": [
    "#Our SVD data reducer.  We are going to reduce the feature space from 1379 to 130.\n",
    "svd= TruncatedSVD(7)\n",
    "lsa = make_pipeline(svd, Normalizer(copy=False))\n",
    "# Run SVD on the training data, then project the training data.\n",
    "X_train_lsa = lsa.fit_transform(X_train_tfidf)\n",
    "\n",
    "variance_explained=svd.explained_variance_ratio_\n",
    "total_variance = variance_explained.sum()\n",
    "print(\"Percent variance captured by all components:\",total_variance*100)\n",
    "\n",
    "#Looking at what sorts of paragraphs our solution considers similar, for the first five identified topics\n",
    "paras_by_component=pd.DataFrame(X_train_lsa,index=X_train)\n",
    "for i in range(5):\n",
    "    print('Component {}:'.format(i))\n",
    "    print(paras_by_component.loc[:,i].sort_values(ascending=False)[0:10])"
   ]
  },
  {
   "cell_type": "code",
   "execution_count": 57,
   "metadata": {},
   "outputs": [
    {
     "data": {
      "text/plain": [
       "9"
      ]
     },
     "execution_count": 57,
     "metadata": {},
     "output_type": "execute_result"
    }
   ],
   "source": [
    "len(X_train)"
   ]
  },
  {
   "cell_type": "code",
   "execution_count": 59,
   "metadata": {},
   "outputs": [
    {
     "data": {
      "image/png": "[encoded data removed]",
      "text/plain": [
       "<Figure size 432x288 with 2 Axes>"
      ]
     },
     "metadata": {
      "needs_background": "light"
     },
     "output_type": "display_data"
    },
    {
     "name": "stdout",
     "output_type": "stream",
     "text": [
      "Key:\n",
      "0 The Almighty God has blessed our land in many ways .\n",
      "1 We have learned that we cannot live alone , at peace ; that our own well - being is dependent on the well - being of other nations far away .\n",
      "2 I remember that my old schoolmaster , Dr . Peabody , said , in days that seemed to us then to be secure and untroubled : \" Things in life will not always run smoothly .\n",
      "3 So we pray to Him now for the vision to see our way clearly  to see the way that leads to a better life for ourselves and for all our fellow men  to the achievement of His will to peace on earth .\n",
      "4 We have learned to be citizens of the world , members of the human community .\n",
      "5 As I stand here today , having taken the solemn oath of office in the presence of my fellow countrymen  in the presence of our God  I know that it is America ' s purpose that we shall not fail .\n"
     ]
    }
   ],
   "source": [
    "import seaborn as sns\n",
    "# Compute document similarity using LSA components\n",
    "similarity = np.asarray(np.asmatrix(X_train_lsa) * np.asmatrix(X_train_lsa).T)\n",
    "#Only taking the first 10 sentences\n",
    "sim_matrix=pd.DataFrame(similarity,index=X_train).iloc[0:6,0:6]\n",
    "#Making a plot\n",
    "ax = sns.heatmap(sim_matrix,yticklabels=range(6))\n",
    "plt.show()\n",
    "\n",
    "#Generating a key for the plot.\n",
    "#put len instead of hardcoding!!!!!!!!!!!\n",
    "print('Key:')\n",
    "for i in range(6):\n",
    "    print(i,sim_matrix.index[i])"
   ]
  },
  {
   "cell_type": "code",
   "execution_count": 58,
   "metadata": {},
   "outputs": [
    {
     "data": {
      "image/png": "[encoded data removed]",
      "text/plain": [
       "<Figure size 432x288 with 2 Axes>"
      ]
     },
     "metadata": {
      "needs_background": "light"
     },
     "output_type": "display_data"
    },
    {
     "name": "stdout",
     "output_type": "stream",
     "text": [
      "Key:\n",
      "0 On this day , we come to proclaim an end to the petty grievances and false promises , the recriminations and worn - out dogmas that for far too long have strangled our politics .\n",
      "1 For us , they fought and died , in places like Concord and Gettysburg ; Normandy and Khe Sahn .\n",
      "2 These are the indicators of crisis , subject to data and statistics .\n",
      "3 Now , there are some who question the scale of our ambitions  who suggest that our system cannot tolerate too many big plans .\n",
      "4 Time and again these men and women struggled and sacrificed and worked till their hands were raw so that we might live a better life .\n",
      "5 On this day , we gather because we have chosen hope over fear , unity of purpose over conflict and discord .\n"
     ]
    }
   ],
   "source": [
    "import seaborn as sns\n",
    "# Compute document similarity using LSA components\n",
    "similarity = np.asarray(np.asmatrix(X_train_lsa1) * np.asmatrix(X_train_lsa1).T)\n",
    "#Only taking the first 10 sentences\n",
    "sim_matrix=pd.DataFrame(similarity,index=X_train1).iloc[0:6,0:6]\n",
    "#Making a plot\n",
    "ax = sns.heatmap(sim_matrix,yticklabels=range(6))\n",
    "plt.show()\n",
    "\n",
    "#Generating a key for the plot.\n",
    "#put len instead of hardcoding!!!!!!!!!!!\n",
    "print('Key:')\n",
    "for i in range(6):\n",
    "    print(i,sim_matrix.index[i])"
   ]
  },
  {
   "cell_type": "markdown",
   "metadata": {},
   "source": [
    "# Conclusion"
   ]
  },
  {
   "cell_type": "markdown",
   "metadata": {},
   "source": [
    "Aim N 1: We found which are the most frequent words that the presidents used in their inaugurals.For example, \n",
    "Truman: 'world', Reagan - 'people', both Bus Sr and Clinton used 'new' most frequently and Obama used 'nation' the most. We created several different models to determine if a word belongs to a presidents who is a democrat or to e president that is a republican.\n",
    "\n",
    "Aim N 2: We used tfidf to devide the Obama and Roosevelt's inaugurals by paragraphs and determine the importance of the words in each paragraph. We are not looking at the frequency only, but the weight of the words as well. We also reduced the number of the features and compared their similarity. The matrix shows low similarity between the components which means that the model works fine."
   ]
  },
  {
   "cell_type": "code",
   "execution_count": null,
   "metadata": {},
   "outputs": [],
   "source": []
  }
 ],
 "metadata": {
  "kernelspec": {
   "display_name": "Python 3",
   "language": "python",
   "name": "python3"
  },
  "language_info": {
   "codemirror_mode": {
    "name": "ipython",
    "version": 3
   },
   "file_extension": ".py",
   "mimetype": "text/x-python",
   "name": "python",
   "nbconvert_exporter": "python",
   "pygments_lexer": "ipython3",
   "version": "3.7.3"
  }
 },
 "nbformat": 4,
 "nbformat_minor": 2
}
