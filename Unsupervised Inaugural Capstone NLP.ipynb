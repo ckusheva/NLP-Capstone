{
 "cells": [
  {
   "cell_type": "code",
   "execution_count": 117,
   "metadata": {},
   "outputs": [
    {
     "name": "stderr",
     "output_type": "stream",
     "text": [
      "[nltk_data] Downloading package inaugural to\n",
      "[nltk_data]     C:\\Users\\Kristine\\AppData\\Roaming\\nltk_data...\n",
      "[nltk_data]   Package inaugural is already up-to-date!\n"
     ]
    },
    {
     "data": {
      "text/plain": [
       "True"
      ]
     },
     "execution_count": 117,
     "metadata": {},
     "output_type": "execute_result"
    }
   ],
   "source": [
    "%matplotlib inline\n",
    "import numpy as np\n",
    "import pandas as pd\n",
    "import scipy\n",
    "import sklearn\n",
    "import matplotlib.pyplot as plt\n",
    "import json\n",
    "import re\n",
    "import nltk\n",
    "from nltk.corpus import inaugural\n",
    "from collections import Counter\n",
    "from sklearn import ensemble\n",
    "from sklearn.model_selection import cross_val_score\n",
    "from sklearn.model_selection import train_test_split\n",
    "from sklearn.ensemble import GradientBoostingClassifier\n",
    "from sklearn.model_selection import GridSearchCV\n",
    "from sklearn.metrics import confusion_matrix, classification_report\n",
    "from sklearn.svm import SVC\n",
    "from sklearn.linear_model import LogisticRegression\n",
    "\n",
    "nltk.download('inaugural')"
   ]
  },
  {
   "cell_type": "markdown",
   "metadata": {},
   "source": [
    "# Unsupervised Learning Capstone"
   ]
  },
  {
   "cell_type": "markdown",
   "metadata": {},
   "source": [
    "Introduction\n",
    "\n",
    "The dataset is a collection of the inaugurals of all the presidents of the United States. My two aims of this project is to 1) using NLP, compare and contrast the most frequent words that the following presidents used: Roosevelt, Truman, Eisenhower, Kennedy, Johnson, Nixon, Carter, Reagan, Bush Sr, Clinton, Bush Jr and Obama. Then, we will use bag of words(BoW) and BoW features to create classification models such as linear regression, gradient boost, random forrest. which will determine if a word belongs to a presidents who is a democrat or to a president that is a republican. \n",
    "\n",
    "2) using TfidfVectorizer, analyse both Obama and Roosevelt's inaugurals. Furthermore, using SVD data reducer, we will optimise the process even further and will be able to group the sentences in the text into several different components and see how similar are they to each other. "
   ]
  },
  {
   "cell_type": "markdown",
   "metadata": {},
   "source": [
    "### Supervised NLP "
   ]
  },
  {
   "cell_type": "code",
   "execution_count": 118,
   "metadata": {},
   "outputs": [
    {
     "data": {
      "text/plain": [
       "['1789-Washington.txt',\n",
       " '1793-Washington.txt',\n",
       " '1797-Adams.txt',\n",
       " '1801-Jefferson.txt',\n",
       " '1805-Jefferson.txt',\n",
       " '1809-Madison.txt',\n",
       " '1813-Madison.txt',\n",
       " '1817-Monroe.txt',\n",
       " '1821-Monroe.txt',\n",
       " '1825-Adams.txt',\n",
       " '1829-Jackson.txt',\n",
       " '1833-Jackson.txt',\n",
       " '1837-VanBuren.txt',\n",
       " '1841-Harrison.txt',\n",
       " '1845-Polk.txt',\n",
       " '1849-Taylor.txt',\n",
       " '1853-Pierce.txt',\n",
       " '1857-Buchanan.txt',\n",
       " '1861-Lincoln.txt',\n",
       " '1865-Lincoln.txt',\n",
       " '1869-Grant.txt',\n",
       " '1873-Grant.txt',\n",
       " '1877-Hayes.txt',\n",
       " '1881-Garfield.txt',\n",
       " '1885-Cleveland.txt',\n",
       " '1889-Harrison.txt',\n",
       " '1893-Cleveland.txt',\n",
       " '1897-McKinley.txt',\n",
       " '1901-McKinley.txt',\n",
       " '1905-Roosevelt.txt',\n",
       " '1909-Taft.txt',\n",
       " '1913-Wilson.txt',\n",
       " '1917-Wilson.txt',\n",
       " '1921-Harding.txt',\n",
       " '1925-Coolidge.txt',\n",
       " '1929-Hoover.txt',\n",
       " '1933-Roosevelt.txt',\n",
       " '1937-Roosevelt.txt',\n",
       " '1941-Roosevelt.txt',\n",
       " '1945-Roosevelt.txt',\n",
       " '1949-Truman.txt',\n",
       " '1953-Eisenhower.txt',\n",
       " '1957-Eisenhower.txt',\n",
       " '1961-Kennedy.txt',\n",
       " '1965-Johnson.txt',\n",
       " '1969-Nixon.txt',\n",
       " '1973-Nixon.txt',\n",
       " '1977-Carter.txt',\n",
       " '1981-Reagan.txt',\n",
       " '1985-Reagan.txt',\n",
       " '1989-Bush.txt',\n",
       " '1993-Clinton.txt',\n",
       " '1997-Clinton.txt',\n",
       " '2001-Bush.txt',\n",
       " '2005-Bush.txt',\n",
       " '2009-Obama.txt',\n",
       " '2013-Obama.txt',\n",
       " '2017-Trump.txt']"
      ]
     },
     "execution_count": 118,
     "metadata": {},
     "output_type": "execute_result"
    }
   ],
   "source": [
    "inaugural.fileids()"
   ]
  },
  {
   "cell_type": "code",
   "execution_count": 119,
   "metadata": {},
   "outputs": [],
   "source": [
    "roosevelt45 = inaugural.raw('1945-Roosevelt.txt') \n",
    "truman = inaugural.raw('1949-Truman.txt')\n",
    "eisenhower57 = inaugural.raw('1957-Eisenhower.txt')\n",
    "kennedy = inaugural.raw('1961-Kennedy.txt')\n",
    "johnson = inaugural.raw('1965-Johnson.txt')\n",
    "nixon73 = inaugural.raw('1973-Nixon.txt')\n",
    "carter = inaugural.raw('1977-Carter.txt')\n",
    "reagan85 = inaugural.raw('1985-Reagan.txt')\n",
    "bush_sr = inaugural.raw('1989-Bush.txt')\n",
    "clinton97 = inaugural.raw('1997-Clinton.txt')\n",
    "bush_jr05 = inaugural.raw('2005-Bush.txt')\n",
    "obama09 = inaugural.raw('2009-Obama.txt')"
   ]
  },
  {
   "cell_type": "code",
   "execution_count": 125,
   "metadata": {},
   "outputs": [],
   "source": [
    "def clean_text(text):\n",
    "    # Visual inspection identifies a form of punctuation spaCy does not\n",
    "    # recognize: the double dash '--'.  Better get rid of it now!\n",
    "    text = re.sub('--',' ',text)\n",
    "    text = re.sub('/\\\\n/g', \"\", text)\n",
    "    text = re.sub(\"[\\[].*?[\\]]\", \"\", text)\n",
    "    text = re.sub('\\n\\n', \"\", text)\n",
    "    text = re.sub('\\'s ', '', text)\n",
    "    text = ' '.join(text.lower().split())\n",
    "    \n",
    "    return text\n",
    "#remove any unwanted characters - if not a - z or space!!!!!!!!!!!!!!!!!!! google regex\n",
    "#for president in address:\n",
    "    #president = clean_text(president)\n",
    "bush_sr =  ' '.join(bush_sr.split())\n",
    "roosevelt = clean_text(roosevelt45)\n",
    "truman = clean_text(truman)\n",
    "eisenhower = clean_text(eisenhower57)\n",
    "kennedy = clean_text(kennedy)\n",
    "johnson = clean_text(johnson)\n",
    "nixon = clean_text(nixon73)\n",
    "carter = clean_text(carter)\n",
    "reagan = clean_text(reagan85)\n",
    "bush = clean_text(bush_sr)\n",
    "clinton = clean_text(clinton97)\n",
    "bush_jr = clean_text(bush_jr05)\n",
    "obama = clean_text(obama09)"
   ]
  },
  {
   "cell_type": "code",
   "execution_count": 126,
   "metadata": {},
   "outputs": [],
   "source": [
    "addresses = roosevelt + truman + eisenhower + kennedy + johnson + nixon + carter + reagan + bush + clinton + bush_jr + obama\n",
    "\n"
   ]
  },
  {
   "cell_type": "code",
   "execution_count": 127,
   "metadata": {},
   "outputs": [],
   "source": [
    "import spacy\n",
    "nlp = spacy.load('en')\n",
    "roosevelt_doc = nlp(roosevelt) \n",
    "truman_doc = nlp(truman)\n",
    "eisenhower_doc = nlp(eisenhower)\n",
    "kennedy_doc = nlp(kennedy)\n",
    "johnson_doc = nlp(johnson)\n",
    "nixon_doc = nlp(nixon)\n",
    "carter_doc = nlp(carter)\n",
    "reagan_doc = nlp(reagan)\n",
    "bush_sr_doc = nlp(bush_sr)\n",
    "clinton_doc = nlp(clinton)\n",
    "bush_jr_doc = nlp(bush_jr)\n",
    "obama_doc = nlp(obama)"
   ]
  },
  {
   "cell_type": "code",
   "execution_count": 128,
   "metadata": {},
   "outputs": [
    {
     "name": "stdout",
     "output_type": "stream",
     "text": [
      "Roosvelt: [('shall', 7), ('peace', 5), ('learned', 5), ('today', 4), ('men', 4), ('test', 3), ('way', 3), ('simple', 2), ('courage', 2), ('presence', 2)]\n",
      "Truman: [('nations', 21), ('world', 17), ('peace', 12), ('freedom', 11), ('free', 11), ('people', 10), ('united', 10), ('new', 8), ('peoples', 8), ('believe', 8)]\n",
      "Eisenhower: [('nations', 14), ('world', 13), ('seek', 10), ('freedom', 10), ('peace', 9), ('people', 9), ('help', 6), ('justice', 5), ('know', 5), ('earth', 5)]\n",
      "Kennedy: [('let', 11), ('sides', 8), ('new', 7), ('pledge', 7), ('world', 6), ('citizens', 5), ('power', 5), ('shall', 5), ('ask', 5), ('president', 4)]\n",
      "Johnson: [('change', 11), ('nation', 10), ('people', 9), ('union', 9), ('man', 8), ('world', 7), ('old', 7), ('american', 6), ('land', 6), ('liberty', 6)]\n",
      "Nixon: [('new', 15), ('peace', 14), ('let', 13), ('america', 12), ('world', 10), ('responsibility', 10), ('great', 9), ('government', 9), ('shall', 7), ('home', 7)]\n",
      "Carter: [('nation', 10), ('new', 9), ('strength', 6), ('spirit', 6), ('people', 6), ('human', 5), ('world', 5), ('government', 4), ('freedom', 4), ('dream', 4)]\n",
      "Reagan: [('people', 15), ('government', 15), ('world', 14), ('freedom', 12), ('time', 9), ('new', 9), ('human', 9), ('years', 7), ('history', 7), ('american', 7)]\n",
      "Busn Sr: [('new', 14), ('world', 9), ('free', 9), ('friends', 8), ('things', 8), ('hand', 8), ('great', 8), ('America', 7), ('today', 7), ('day', 7)]\n",
      "Clinton: [('new', 29), ('century', 20), ('nation', 13), ('time', 12), ('land', 11), ('america', 11), ('people', 11), ('promise', 10), ('world', 10), ('government', 10)]\n",
      "Bush JR: [('freedom', 25), ('liberty', 14), ('america', 12), ('¦', 12), ('s', 11), ('nation', 9), ('country', 8), ('world', 8), ('america¡', 8), ('americans', 8)]\n",
      "Obama: [('nation', 12), ('new', 11), ('america', 6), ('people', 6), ('work', 6), ('common', 6), ('world', 6), ('let', 6), ('today', 5), ('generation', 5)]\n"
     ]
    }
   ],
   "source": [
    "from collections import Counter\n",
    "\n",
    "# Utility function to calculate how frequently words appear in the text.\n",
    "def word_frequencies(text, include_stop=False):\n",
    "    \n",
    "    # Build a list of words.\n",
    "    # Strip out punctuation and, optionally, stop words.\n",
    "    words = []\n",
    "    for token in text:\n",
    "        if not token.is_punct and (not token.is_stop or include_stop):\n",
    "            words.append(token.text)\n",
    "            \n",
    "    # Build and return a Counter object containing word counts.\n",
    "    return Counter(words) \n",
    "# The most frequent words:\n",
    " \n",
    "roosevelt_doc_freq = word_frequencies(roosevelt_doc).most_common(10)\n",
    "truman_doc_freq  = word_frequencies(truman_doc).most_common(10)\n",
    "eisenhower_doc_freq  = word_frequencies(eisenhower_doc).most_common(10)\n",
    "kennedy_doc_freq  = word_frequencies(kennedy_doc).most_common(10)\n",
    "johnson_doc_freq  = word_frequencies(johnson_doc).most_common(10)\n",
    "nixon_doc_freq  = word_frequencies(nixon_doc).most_common(10)\n",
    "carter_doc_freq  = word_frequencies(carter_doc).most_common(10)\n",
    "reagan_doc_freq  = word_frequencies(reagan_doc).most_common(10)\n",
    "bush_sr_doc_freq  = word_frequencies(bush_sr_doc).most_common(10)\n",
    "clinton_doc_freq  = word_frequencies(clinton_doc).most_common(10)\n",
    "bush_jr_doc_freq  = word_frequencies(bush_jr_doc).most_common(10)\n",
    "obama_doc_freq  = word_frequencies(obama_doc).most_common(10)\n",
    "print('Roosvelt:',roosevelt_doc_freq) \n",
    "print('Truman:',truman_doc_freq) \n",
    "print('Eisenhower:',eisenhower_doc_freq) \n",
    "print('Kennedy:',kennedy_doc_freq) \n",
    "print('Johnson:',johnson_doc_freq) \n",
    "print('Nixon:',nixon_doc_freq) \n",
    "print('Carter:',carter_doc_freq) \n",
    "print('Reagan:',reagan_doc_freq) \n",
    "print('Busn Sr:',bush_sr_doc_freq) \n",
    "print('Clinton:',clinton_doc_freq) \n",
    "print('Bush JR:',bush_jr_doc_freq) \n",
    "print('Obama:',obama_doc_freq) \n"
   ]
  },
  {
   "cell_type": "code",
   "execution_count": 93,
   "metadata": {},
   "outputs": [
    {
     "name": "stdout",
     "output_type": "stream",
     "text": [
      "Roosvelt: [('shall', 7), ('peace', 6), ('learn', 5), ('today', 4), ('man', 4), ('way', 4), ('test', 3), ('friend', 2), ('simple', 2), ('courage', 2)]\n",
      "Truman: [('world', 23), ('people', 20), ('nation', 18), ('peace', 15), ('freedom', 13), ('free', 11), ('country', 11), ('man', 10), ('United', 10), ('security', 9)]\n",
      "Eisenhower: [('nation', 17), ('people', 15), ('world', 15), ('seek', 12), ('freedom', 11), ('peace', 10), ('know', 9), ('hope', 8), ('help', 8), ('great', 7)]\n",
      "Kennedy: [('let', 16), ('world', 8), ('side', 8), ('power', 7), ('new', 7), ('pledge', 7), ('nation', 6), ('ask', 6), ('citizen', 5), ('man', 5)]\n",
      "Johnson: [('man', 12), ('nation', 9), ('people', 9), ('change', 9), ('world', 7), ('old', 7), ('land', 6), ('union', 6), ('generation', 5), ('new', 5)]\n",
      "Nixon: [('let', 22), ('America', 21), ('peace', 19), ('world', 17), ('responsibility', 16), ('new', 15), ('nation', 14), ('great', 10), ('year', 9), ('home', 9)]\n",
      "Carter: [('new', 9), ('Nation', 7), ('strength', 7), ('nation', 7), ('spirit', 6), ('people', 6), ('world', 6), ('time', 5), ('good', 5), ('dream', 5)]\n",
      "Reagan: [('people', 16), ('world', 16), ('freedom', 14), ('time', 13), ('government', 11), ('new', 9), ('history', 9), ('Government', 9), ('human', 9), ('God', 8)]\n",
      "Busn Sr: [('new', 14), ('great', 12), ('thing', 10), ('work', 10), ('friend', 9), ('hand', 9), ('day', 9), ('good', 9), ('nation', 9), ('world', 9)]\n",
      "Clinton: [('new', 29), ('century', 20), ('America', 15), ('nation', 15), ('world', 15), ('time', 13), ('promise', 11), ('land', 11), ('people', 11), ('great', 10)]\n",
      "Bush JR: [('freedom', 24), ('America', 12), ('¦', 12), ('s', 11), ('nation', 11), ('liberty', 10), ('country', 8), ('time', 8), ('come', 8), ('world', 8)]\n",
      "Obama: [('nation', 15), ('new', 11), ('America', 9), ('generation', 8), ('work', 8), ('man', 7), ('world', 7), ('today', 6), ('meet', 6), ('time', 6)]\n"
     ]
    }
   ],
   "source": [
    "# Utility function to calculate how frequently lemas appear in the text.\n",
    "def lemma_frequencies(text, include_stop=False):\n",
    "    \n",
    "    # Build a list of lemas.\n",
    "    # Strip out punctuation and, optionally, stop words.\n",
    "    lemmas = []\n",
    "    for token in text:\n",
    "        if not token.is_punct and (not token.is_stop or include_stop):\n",
    "            lemmas.append(token.lemma_)\n",
    "            \n",
    "    # Build and return a Counter object containing word counts.\n",
    "    return Counter(lemmas)\n",
    "\n",
    "# Instantiate our list of most common lemmas.\n",
    "roosevelt_lemma_freq = lemma_frequencies(roosevelt_doc).most_common(10)\n",
    "truman_lemma_freq  = lemma_frequencies(truman_doc).most_common(10)\n",
    "eisenhower_lemma_freq  = lemma_frequencies(eisenhower_doc).most_common(10)\n",
    "kennedy_lemma_freq  = lemma_frequencies(kennedy_doc).most_common(10)\n",
    "johnson_lemma_freq  = lemma_frequencies(johnson_doc).most_common(10)\n",
    "nixon_lemma_freq  = lemma_frequencies(nixon_doc).most_common(10)\n",
    "carter_lemma_freq  = lemma_frequencies(carter_doc).most_common(10)\n",
    "reagan_lemma_freq  = lemma_frequencies(reagan_doc).most_common(10)\n",
    "bush_sr_lemma_freq  = lemma_frequencies(bush_sr_doc).most_common(10)\n",
    "clinton_lemma_freq  = lemma_frequencies(clinton_doc).most_common(10)\n",
    "bush_jr_lemma_freq  = lemma_frequencies(bush_jr_doc).most_common(10)\n",
    "obama_lemma_freq  = lemma_frequencies(obama_doc).most_common(10)\n",
    "print('Roosvelt:',roosevelt_lemma_freq) \n",
    "print('Truman:',truman_lemma_freq) \n",
    "print('Eisenhower:',eisenhower_lemma_freq) \n",
    "print('Kennedy:',kennedy_lemma_freq) \n",
    "print('Johnson:',johnson_lemma_freq) \n",
    "print('Nixon:',nixon_lemma_freq) \n",
    "print('Carter:',carter_lemma_freq) \n",
    "print('Reagan:',reagan_lemma_freq) \n",
    "print('Busn Sr:',bush_sr_lemma_freq) \n",
    "print('Clinton:',clinton_lemma_freq) \n",
    "print('Bush JR:',bush_jr_lemma_freq) \n",
    "print('Obama:',obama_lemma_freq) \n",
    "\n"
   ]
  },
  {
   "cell_type": "code",
   "execution_count": 94,
   "metadata": {},
   "outputs": [
    {
     "data": {
      "text/html": [
       "<div>\n",
       "<style scoped>\n",
       "    .dataframe tbody tr th:only-of-type {\n",
       "        vertical-align: middle;\n",
       "    }\n",
       "\n",
       "    .dataframe tbody tr th {\n",
       "        vertical-align: top;\n",
       "    }\n",
       "\n",
       "    .dataframe thead th {\n",
       "        text-align: right;\n",
       "    }\n",
       "</style>\n",
       "<table border=\"1\" class=\"dataframe\">\n",
       "  <thead>\n",
       "    <tr style=\"text-align: right;\">\n",
       "      <th></th>\n",
       "      <th>0</th>\n",
       "      <th>1</th>\n",
       "    </tr>\n",
       "  </thead>\n",
       "  <tbody>\n",
       "    <tr>\n",
       "      <th>0</th>\n",
       "      <td>(Chief, Justice, ,, Mr., Vice, President, ,, m...</td>\n",
       "      <td>Democrat</td>\n",
       "    </tr>\n",
       "    <tr>\n",
       "      <th>1</th>\n",
       "      <td>(We, Americans, of, today, ,, together, with, ...</td>\n",
       "      <td>Democrat</td>\n",
       "    </tr>\n",
       "    <tr>\n",
       "      <th>2</th>\n",
       "      <td>(It, is, a, test, of, our, courage, of, our, r...</td>\n",
       "      <td>Democrat</td>\n",
       "    </tr>\n",
       "    <tr>\n",
       "      <th>3</th>\n",
       "      <td>(If, we, meet, that, test, successfully, and, ...</td>\n",
       "      <td>Democrat</td>\n",
       "    </tr>\n",
       "    <tr>\n",
       "      <th>4</th>\n",
       "      <td>(As, I, stand, here, today, ,, having, taken, ...</td>\n",
       "      <td>Democrat</td>\n",
       "    </tr>\n",
       "  </tbody>\n",
       "</table>\n",
       "</div>"
      ],
      "text/plain": [
       "                                                   0         1\n",
       "0  (Chief, Justice, ,, Mr., Vice, President, ,, m...  Democrat\n",
       "1  (We, Americans, of, today, ,, together, with, ...  Democrat\n",
       "2  (It, is, a, test, of, our, courage, of, our, r...  Democrat\n",
       "3  (If, we, meet, that, test, successfully, and, ...  Democrat\n",
       "4  (As, I, stand, here, today, ,, having, taken, ...  Democrat"
      ]
     },
     "execution_count": 94,
     "metadata": {},
     "output_type": "execute_result"
    }
   ],
   "source": [
    "# Group into sentences.\n",
    "\n",
    "roosevelt_sents = [[sent, \"Democrat\"] for sent in roosevelt_doc.sents]\n",
    "truman_sents = [[sent, \"Democrat\"] for sent in truman_doc.sents]\n",
    "eisenhower_sents = [[sent, \"Republican\"] for sent in eisenhower_doc.sents]\n",
    "kennedy_sents = [[sent, \"Democrat\"] for sent in kennedy_doc.sents]\n",
    "johnson_sents = [[sent, \"Democrat\"] for sent in johnson_doc.sents]\n",
    "nixon_sents = [[sent, \"Republican\"] for sent in nixon_doc.sents]\n",
    "carter_sents = [[sent, \"Democrat\"] for sent in carter_doc.sents]\n",
    "reagan_sents = [[sent, \"Republican\"] for sent in reagan_doc.sents]\n",
    "bush_sr_sents = [[sent, \"Republican\"] for sent in bush_sr_doc.sents]\n",
    "clinton_sents = [[sent, \"Democrat\"] for sent in clinton_doc.sents]\n",
    "bush_jr_sents = [[sent, \"Republican\"] for sent in bush_jr_doc.sents]\n",
    "obama_sents = [[sent, \"Democrat\"] for sent in obama_doc.sents]\n",
    "\n",
    "\n",
    "# Combine the sentences from the two novels into one data frame.\n",
    "sentences = pd.DataFrame(roosevelt_sents + \n",
    "        truman_sents +\n",
    "        eisenhower_sents +\n",
    "        kennedy_sents +\n",
    "        johnson_sents +\n",
    "        nixon_sents +\n",
    "        carter_sents +\n",
    "        reagan_sents +\n",
    "        bush_sr_sents +\n",
    "        clinton_sents +\n",
    "        bush_jr_sents +\n",
    "        obama_sents)\n",
    "sentences.head()"
   ]
  },
  {
   "cell_type": "code",
   "execution_count": 95,
   "metadata": {},
   "outputs": [],
   "source": [
    "def bag_of_words(text):\n",
    "    allwords = [token.lemma_\n",
    "               for token in text\n",
    "               if not token.is_punct\n",
    "               and not token.is_stop]\n",
    "    return [item[0] for item in Counter(allwords).most_common(2000)]\n",
    "\n",
    "def bow_features(sentences, common_words):\n",
    "    df = pd.DataFrame(columns=common_words)\n",
    "    df['text_sentence'] = sentences[0]\n",
    "    df['text_party'] = sentences[1]\n",
    "    df.loc[:,common_words] = 0\n",
    "    \n",
    "    for i, sentence in enumerate(df['text_sentence']):\n",
    "        words = [token.lemma_ \n",
    "                for token in sentence\n",
    "                if (\n",
    "                    not token.is_punct\n",
    "                    and not token.is_stop\n",
    "                    and token.lemma_ in common_words\n",
    "                )]\n",
    "        for word in words:\n",
    "            df.loc[i, word] += 1\n",
    "        if i%100 == 0:\n",
    "            print('Processing row {}'.format(i))\n",
    "    return df"
   ]
  },
  {
   "cell_type": "code",
   "execution_count": 96,
   "metadata": {},
   "outputs": [],
   "source": [
    "roosevelt_words = bag_of_words(roosevelt_doc)\n",
    "truman_words = bag_of_words(truman_doc)\n",
    "eisenhower_words = bag_of_words(eisenhower_doc)\n",
    "kennedy_words = bag_of_words(kennedy_doc)\n",
    "johnson_words = bag_of_words(johnson_doc)\n",
    "nixon_words = bag_of_words(nixon_doc)\n",
    "carter_words = bag_of_words(carter_doc)\n",
    "reagan_words = bag_of_words(reagan_doc)\n",
    "bush_sr_words = bag_of_words(bush_sr_doc)\n",
    "clinton_words = bag_of_words(clinton_doc)\n",
    "bush_jr_words = bag_of_words(bush_jr_doc)\n",
    "obama_words = bag_of_words(obama_doc)\n",
    "\n",
    "common_words = set(roosevelt_words +\n",
    "        truman_words + \n",
    "        eisenhower_words + \n",
    "        kennedy_words +\n",
    "        johnson_words +\n",
    "        nixon_words +\n",
    "        carter_words +\n",
    "        reagan_words +\n",
    "        bush_sr_words +\n",
    "        clinton_words +\n",
    "        bush_jr_words +\n",
    "        obama_words)"
   ]
  },
  {
   "cell_type": "code",
   "execution_count": 97,
   "metadata": {},
   "outputs": [
    {
     "name": "stdout",
     "output_type": "stream",
     "text": [
      "Processing row 0\n",
      "Processing row 100\n",
      "Processing row 200\n",
      "Processing row 300\n",
      "Processing row 400\n",
      "Processing row 500\n",
      "Processing row 600\n",
      "Processing row 700\n",
      "Processing row 800\n",
      "Processing row 900\n",
      "Processing row 1000\n",
      "Processing row 1100\n"
     ]
    },
    {
     "data": {
      "text/html": [
       "<div>\n",
       "<style scoped>\n",
       "    .dataframe tbody tr th:only-of-type {\n",
       "        vertical-align: middle;\n",
       "    }\n",
       "\n",
       "    .dataframe tbody tr th {\n",
       "        vertical-align: top;\n",
       "    }\n",
       "\n",
       "    .dataframe thead th {\n",
       "        text-align: right;\n",
       "    }\n",
       "</style>\n",
       "<table border=\"1\" class=\"dataframe\">\n",
       "  <thead>\n",
       "    <tr style=\"text-align: right;\">\n",
       "      <th></th>\n",
       "      <th>unclimbed</th>\n",
       "      <th>weight</th>\n",
       "      <th>State</th>\n",
       "      <th>stately</th>\n",
       "      <th>pretend</th>\n",
       "      <th>vast</th>\n",
       "      <th>prophet</th>\n",
       "      <th>connection</th>\n",
       "      <th>occur</th>\n",
       "      <th>1984</th>\n",
       "      <th>...</th>\n",
       "      <th>wound</th>\n",
       "      <th>importance</th>\n",
       "      <th>imperialism</th>\n",
       "      <th>Soviets</th>\n",
       "      <th>command</th>\n",
       "      <th>turmoil</th>\n",
       "      <th>sincere</th>\n",
       "      <th>repression</th>\n",
       "      <th>text_sentence</th>\n",
       "      <th>text_party</th>\n",
       "    </tr>\n",
       "  </thead>\n",
       "  <tbody>\n",
       "    <tr>\n",
       "      <th>0</th>\n",
       "      <td>0</td>\n",
       "      <td>0</td>\n",
       "      <td>0</td>\n",
       "      <td>0</td>\n",
       "      <td>0</td>\n",
       "      <td>0</td>\n",
       "      <td>0</td>\n",
       "      <td>0</td>\n",
       "      <td>0</td>\n",
       "      <td>0</td>\n",
       "      <td>...</td>\n",
       "      <td>0</td>\n",
       "      <td>0</td>\n",
       "      <td>0</td>\n",
       "      <td>0</td>\n",
       "      <td>0</td>\n",
       "      <td>0</td>\n",
       "      <td>0</td>\n",
       "      <td>0</td>\n",
       "      <td>(Chief, Justice, ,, Mr., Vice, President, ,, m...</td>\n",
       "      <td>Democrat</td>\n",
       "    </tr>\n",
       "    <tr>\n",
       "      <th>1</th>\n",
       "      <td>0</td>\n",
       "      <td>0</td>\n",
       "      <td>0</td>\n",
       "      <td>0</td>\n",
       "      <td>0</td>\n",
       "      <td>0</td>\n",
       "      <td>0</td>\n",
       "      <td>0</td>\n",
       "      <td>0</td>\n",
       "      <td>0</td>\n",
       "      <td>...</td>\n",
       "      <td>0</td>\n",
       "      <td>0</td>\n",
       "      <td>0</td>\n",
       "      <td>0</td>\n",
       "      <td>0</td>\n",
       "      <td>0</td>\n",
       "      <td>0</td>\n",
       "      <td>0</td>\n",
       "      <td>(We, Americans, of, today, ,, together, with, ...</td>\n",
       "      <td>Democrat</td>\n",
       "    </tr>\n",
       "    <tr>\n",
       "      <th>2</th>\n",
       "      <td>0</td>\n",
       "      <td>0</td>\n",
       "      <td>0</td>\n",
       "      <td>0</td>\n",
       "      <td>0</td>\n",
       "      <td>0</td>\n",
       "      <td>0</td>\n",
       "      <td>0</td>\n",
       "      <td>0</td>\n",
       "      <td>0</td>\n",
       "      <td>...</td>\n",
       "      <td>0</td>\n",
       "      <td>0</td>\n",
       "      <td>0</td>\n",
       "      <td>0</td>\n",
       "      <td>0</td>\n",
       "      <td>0</td>\n",
       "      <td>0</td>\n",
       "      <td>0</td>\n",
       "      <td>(It, is, a, test, of, our, courage, of, our, r...</td>\n",
       "      <td>Democrat</td>\n",
       "    </tr>\n",
       "    <tr>\n",
       "      <th>3</th>\n",
       "      <td>0</td>\n",
       "      <td>0</td>\n",
       "      <td>0</td>\n",
       "      <td>0</td>\n",
       "      <td>0</td>\n",
       "      <td>0</td>\n",
       "      <td>0</td>\n",
       "      <td>0</td>\n",
       "      <td>0</td>\n",
       "      <td>0</td>\n",
       "      <td>...</td>\n",
       "      <td>0</td>\n",
       "      <td>1</td>\n",
       "      <td>0</td>\n",
       "      <td>0</td>\n",
       "      <td>0</td>\n",
       "      <td>0</td>\n",
       "      <td>0</td>\n",
       "      <td>0</td>\n",
       "      <td>(If, we, meet, that, test, successfully, and, ...</td>\n",
       "      <td>Democrat</td>\n",
       "    </tr>\n",
       "    <tr>\n",
       "      <th>4</th>\n",
       "      <td>0</td>\n",
       "      <td>0</td>\n",
       "      <td>0</td>\n",
       "      <td>0</td>\n",
       "      <td>0</td>\n",
       "      <td>0</td>\n",
       "      <td>0</td>\n",
       "      <td>0</td>\n",
       "      <td>0</td>\n",
       "      <td>0</td>\n",
       "      <td>...</td>\n",
       "      <td>0</td>\n",
       "      <td>0</td>\n",
       "      <td>0</td>\n",
       "      <td>0</td>\n",
       "      <td>0</td>\n",
       "      <td>0</td>\n",
       "      <td>0</td>\n",
       "      <td>0</td>\n",
       "      <td>(As, I, stand, here, today, ,, having, taken, ...</td>\n",
       "      <td>Democrat</td>\n",
       "    </tr>\n",
       "  </tbody>\n",
       "</table>\n",
       "<p>5 rows × 2497 columns</p>\n",
       "</div>"
      ],
      "text/plain": [
       "  unclimbed weight State stately pretend vast prophet connection occur 1984  \\\n",
       "0         0      0     0       0       0    0       0          0     0    0   \n",
       "1         0      0     0       0       0    0       0          0     0    0   \n",
       "2         0      0     0       0       0    0       0          0     0    0   \n",
       "3         0      0     0       0       0    0       0          0     0    0   \n",
       "4         0      0     0       0       0    0       0          0     0    0   \n",
       "\n",
       "   ... wound importance imperialism Soviets command turmoil sincere  \\\n",
       "0  ...     0          0           0       0       0       0       0   \n",
       "1  ...     0          0           0       0       0       0       0   \n",
       "2  ...     0          0           0       0       0       0       0   \n",
       "3  ...     0          1           0       0       0       0       0   \n",
       "4  ...     0          0           0       0       0       0       0   \n",
       "\n",
       "  repression                                      text_sentence text_party  \n",
       "0          0  (Chief, Justice, ,, Mr., Vice, President, ,, m...   Democrat  \n",
       "1          0  (We, Americans, of, today, ,, together, with, ...   Democrat  \n",
       "2          0  (It, is, a, test, of, our, courage, of, our, r...   Democrat  \n",
       "3          0  (If, we, meet, that, test, successfully, and, ...   Democrat  \n",
       "4          0  (As, I, stand, here, today, ,, having, taken, ...   Democrat  \n",
       "\n",
       "[5 rows x 2497 columns]"
      ]
     },
     "execution_count": 97,
     "metadata": {},
     "output_type": "execute_result"
    }
   ],
   "source": [
    "word_counts = bow_features(sentences, common_words)\n",
    "word_counts.head()"
   ]
  },
  {
   "cell_type": "code",
   "execution_count": 98,
   "metadata": {},
   "outputs": [
    {
     "name": "stderr",
     "output_type": "stream",
     "text": [
      "C:\\ProgramData\\Miniconda3\\lib\\site-packages\\sklearn\\ensemble\\forest.py:245: FutureWarning: The default value of n_estimators will change from 10 in version 0.20 to 100 in 0.22.\n",
      "  \"10 in version 0.20 to 100 in 0.22.\", FutureWarning)\n"
     ]
    },
    {
     "name": "stdout",
     "output_type": "stream",
     "text": [
      "Training set score: 0.9845788849347569\n",
      "\n",
      "Test set score: 0.5531914893617021\n"
     ]
    }
   ],
   "source": [
    "from sklearn import ensemble\n",
    "from sklearn.model_selection import train_test_split\n",
    "\n",
    "rfc = ensemble.RandomForestClassifier()\n",
    "Y = word_counts['text_party']\n",
    "X = np.array(word_counts.drop(['text_sentence','text_party'], 1))\n",
    "\n",
    "X_train, X_test, y_train, y_test = train_test_split(X, \n",
    "                                                    Y,\n",
    "                                                    test_size=0.25,\n",
    "                                                    random_state=0)\n",
    "train = rfc.fit(X_train, y_train)\n",
    "\n",
    "print('Training set score:', rfc.score(X_train, y_train))\n",
    "print('\\nTest set score:', rfc.score(X_test, y_test))\n"
   ]
  },
  {
   "cell_type": "code",
   "execution_count": 99,
   "metadata": {},
   "outputs": [
    {
     "name": "stderr",
     "output_type": "stream",
     "text": [
      "C:\\ProgramData\\Miniconda3\\lib\\site-packages\\sklearn\\linear_model\\logistic.py:432: FutureWarning: Default solver will be changed to 'lbfgs' in 0.22. Specify a solver to silence this warning.\n",
      "  FutureWarning)\n"
     ]
    },
    {
     "name": "stdout",
     "output_type": "stream",
     "text": [
      "(843, 2495) (843,)\n",
      "Training set score: 0.963226571767497\n",
      "\n",
      "Test set score: 0.5638297872340425\n"
     ]
    }
   ],
   "source": [
    "from sklearn.linear_model import LogisticRegression\n",
    "\n",
    "lr = LogisticRegression(penalty='l2') # No need to specify l2 as it's the default. But we put it for demonstration.\n",
    "train = lr.fit(X_train, y_train)\n",
    "print(X_train.shape, y_train.shape)\n",
    "print('Training set score:', lr.score(X_train, y_train))\n",
    "print('\\nTest set score:', lr.score(X_test, y_test))"
   ]
  },
  {
   "cell_type": "code",
   "execution_count": 100,
   "metadata": {},
   "outputs": [
    {
     "name": "stdout",
     "output_type": "stream",
     "text": [
      "Training set score: 0.8374851720047449\n",
      "\n",
      "Test set score: 0.5070921985815603\n"
     ]
    }
   ],
   "source": [
    "clf = ensemble.GradientBoostingClassifier()\n",
    "train = clf.fit(X_train, y_train)\n",
    "\n",
    "print('Training set score:', clf.score(X_train, y_train))\n",
    "print('\\nTest set score:', clf.score(X_test, y_test))"
   ]
  },
  {
   "cell_type": "markdown",
   "metadata": {},
   "source": [
    "### Unsupervised NLP"
   ]
  },
  {
   "cell_type": "code",
   "execution_count": 101,
   "metadata": {},
   "outputs": [
    {
     "name": "stdout",
     "output_type": "stream",
     "text": [
      "['Chief Justice , Mr . Vice President , my friends , you will understand and , I believe , agree with my wish that the form of this inauguration be simple and its words brief .', 'We Americans of today , together with our allies , are passing through a period of supreme test .', 'If we meet that test  successfully and honorably  we shall perform a service of historic importance which men and women and children will honor throughout all time .', \"As I stand here today , having taken the solemn oath of office in the presence of my fellow countrymen  in the presence of our God  I know that it is America ' s purpose that we shall not fail .\"]\n",
      "['My fellow citizens :', 'I stand here today humbled by the task before us , grateful for the trust you have bestowed , mindful of the sacrifices borne by our ancestors .', 'Forty - four Americans have now taken the presidential oath .', 'So it has been .']\n"
     ]
    }
   ],
   "source": [
    "import nltk\n",
    "import re\n",
    "from sklearn.model_selection import train_test_split\n",
    "from nltk.corpus import inaugural\n",
    "\n",
    "\n",
    "#reading in the data, this time in the form of paragraphs\n",
    "roosevelt = inaugural.paras('1945-Roosevelt.txt') \n",
    "truman = inaugural.paras('1949-Truman.txt')\n",
    "eisenhower = inaugural.paras('1957-Eisenhower.txt')\n",
    "kennedy = inaugural.paras('1961-Kennedy.txt')\n",
    "johnson = inaugural.paras('1965-Johnson.txt')\n",
    "nixon = inaugural.paras('1973-Nixon.txt')\n",
    "carter = inaugural.paras('1977-Carter.txt')\n",
    "reagan = inaugural.paras('1985-Reagan.txt')\n",
    "bush_sr = inaugural.paras('1989-Bush.txt')\n",
    "clinton = inaugural.paras('1997-Clinton.txt')\n",
    "bush_jr = inaugural.paras('2005-Bush.txt')\n",
    "obama = inaugural.paras('2009-Obama.txt')\n",
    "#processing\n",
    "roosevelt_paras=[]\n",
    "for paragraph in roosevelt:\n",
    "    para=paragraph[0]\n",
    "    #removing the double-dash from all words\n",
    "    para=[re.sub(r'--','',word) for word in para]\n",
    "    para=[re.sub('/\\\\n/g', \"\", word) for word in para]\n",
    "    #Forming each paragraph into a string and adding it to the list of strings.\n",
    "    roosevelt_paras.append(' '.join(para))\n",
    "\n",
    "print(roosevelt_paras[0:4])\n",
    "\n",
    "obama_paras=[]\n",
    "for paragraph in obama:\n",
    "    para=paragraph[0]\n",
    "    #removing the double-dash from all words\n",
    "    para=[re.sub(r'--','',word) for word in para]\n",
    "    para=[re.sub('/\\\\n/g', \"\", word) for word in para]\n",
    "    #Forming each paragraph into a string and adding it to the list of strings.\n",
    "    obama_paras.append(' '.join(para))\n",
    "\n",
    "print(obama_paras[0:4])"
   ]
  },
  {
   "cell_type": "code",
   "execution_count": 102,
   "metadata": {},
   "outputs": [
    {
     "name": "stdout",
     "output_type": "stream",
     "text": [
      "Number of features: 14\n",
      "Original sentence: As I stand here today , having taken the solemn oath of office in the presence of my fellow countrymen  in the presence of our God  I know that it is America ' s purpose that we shall not fail .\n",
      "Tf_idf vector: {'god': 0.5573997703441839, 'fellow': 0.5573997703441839, 'shall': 0.41611405025804205, 'today': 0.4532770556937}\n"
     ]
    }
   ],
   "source": [
    "from sklearn.feature_extraction.text import TfidfVectorizer\n",
    "\n",
    "X_train, X_test = train_test_split(roosevelt_paras, test_size=0.4, random_state=0)\n",
    "\n",
    "vectorizer = TfidfVectorizer(max_df=0.5, # drop words that occur in more than half the paragraphs\n",
    "                             min_df=2, # only use words that appear at least twice\n",
    "                             stop_words='english', \n",
    "                             lowercase=True, #convert everything to lower case (since Alice in Wonderland has the HABIT of CAPITALIZING WORDS for EMPHASIS)\n",
    "                             use_idf=True,#we definitely want to use inverse document frequencies in our weighting\n",
    "                             norm=u'l2', #Applies a correction factor so that longer paragraphs and shorter paragraphs get treated equally\n",
    "                             smooth_idf=True #Adds 1 to all document frequencies, as if an extra document existed that used every word once.  Prevents divide-by-zero errors\n",
    "                            )\n",
    "\n",
    "\n",
    "#Applying the vectorizer\n",
    "roosevelt_paras_tfidf=vectorizer.fit_transform(roosevelt_paras)\n",
    "print(\"Number of features: %d\" % roosevelt_paras_tfidf.get_shape()[1])\n",
    "\n",
    "#splitting into training and test sets\n",
    "X_train_tfidf, X_test_tfidf= train_test_split(roosevelt_paras_tfidf, test_size=0.4, random_state=0)\n",
    "\n",
    "\n",
    "#Reshapes the vectorizer output into something people can read\n",
    "X_train_tfidf_csr = X_train_tfidf.tocsr()\n",
    "\n",
    "#number of paragraphs\n",
    "n = X_train_tfidf_csr.shape[0]\n",
    "#A list of dictionaries, one per paragraph\n",
    "tfidf_bypara = [{} for _ in range(0,n)]\n",
    "#List of features\n",
    "terms = vectorizer.get_feature_names()\n",
    "#for each paragraph, lists the feature words and their tf-idf scores\n",
    "for i, j in zip(*X_train_tfidf_csr.nonzero()):\n",
    "    tfidf_bypara[i][terms[j]] = X_train_tfidf_csr[i, j]\n",
    "\n",
    "#Keep in mind that the log base 2 of 1 is 0, so a tf-idf score of 0 indicates that the word was present once in that sentence.\n",
    "print('Original sentence:', X_train[5])\n",
    "print('Tf_idf vector:', tfidf_bypara[5])"
   ]
  },
  {
   "cell_type": "code",
   "execution_count": 103,
   "metadata": {},
   "outputs": [
    {
     "name": "stdout",
     "output_type": "stream",
     "text": [
      "Number of features: 27\n",
      "Original sentence: On this day , we gather because we have chosen hope over fear , unity of purpose over conflict and discord .\n",
      "Tf_idf vector: {'hope': 0.7366305251840556, 'day': 0.6762954009654822}\n"
     ]
    }
   ],
   "source": [
    "X_train1, X_test1 = train_test_split(obama_paras, test_size=0.4, random_state=0)\n",
    "\n",
    "vectorizer = TfidfVectorizer(max_df=0.5, # drop words that occur in more than half the paragraphs\n",
    "                             min_df=2, # only use words that appear at least twice\n",
    "                             stop_words='english', \n",
    "                             lowercase=True, #convert everything to lower case (since Alice in Wonderland has the HABIT of CAPITALIZING WORDS for EMPHASIS)\n",
    "                             use_idf=True,#we definitely want to use inverse document frequencies in our weighting\n",
    "                             norm=u'l2', #Applies a correction factor so that longer paragraphs and shorter paragraphs get treated equally\n",
    "                             smooth_idf=True #Adds 1 to all document frequencies, as if an extra document existed that used every word once.  Prevents divide-by-zero errors\n",
    "                            )\n",
    "\n",
    "\n",
    "#Applying the vectorizer\n",
    "obama_paras_tfidf=vectorizer.fit_transform(obama_paras)\n",
    "print(\"Number of features: %d\" % obama_paras_tfidf.get_shape()[1])\n",
    "\n",
    "#splitting into training and test sets\n",
    "X_train_tfidf1, X_test_tfidf1= train_test_split(obama_paras_tfidf, test_size=0.4, random_state=0)\n",
    "\n",
    "\n",
    "#Reshapes the vectorizer output into something people can read\n",
    "X_train_tfidf_csr1 = X_train_tfidf1.tocsr()\n",
    "\n",
    "#number of paragraphs\n",
    "n = X_train_tfidf_csr1.shape[0]\n",
    "#A list of dictionaries, one per paragraph\n",
    "tfidf_bypara1 = [{} for _ in range(0,n)]\n",
    "#List of features\n",
    "terms1 = vectorizer.get_feature_names()\n",
    "#for each paragraph, lists the feature words and their tf-idf scores\n",
    "for i, j in zip(*X_train_tfidf_csr1.nonzero()):\n",
    "    tfidf_bypara1[i][terms1[j]] = X_train_tfidf_csr1[i, j]\n",
    "\n",
    "#Keep in mind that the log base 2 of 1 is 0, so a tf-idf score of 0 indicates that the word was present once in that sentence.\n",
    "print('Original sentence:', X_train1[5])\n",
    "print('Tf_idf vector:', tfidf_bypara1[5])"
   ]
  },
  {
   "cell_type": "code",
   "execution_count": 104,
   "metadata": {},
   "outputs": [
    {
     "data": {
      "text/plain": [
       "['The Almighty God has blessed our land in many ways .',\n",
       " 'We have learned that we cannot live alone , at peace ; that our own well - being is dependent on the well - being of other nations far away .',\n",
       " 'I remember that my old schoolmaster , Dr . Peabody , said , in days that seemed to us then to be secure and untroubled : \" Things in life will not always run smoothly .',\n",
       " 'So we pray to Him now for the vision to see our way clearly  to see the way that leads to a better life for ourselves and for all our fellow men  to the achievement of His will to peace on earth .',\n",
       " 'We have learned to be citizens of the world , members of the human community .',\n",
       " \"As I stand here today , having taken the solemn oath of office in the presence of my fellow countrymen  in the presence of our God  I know that it is America ' s purpose that we shall not fail .\",\n",
       " 'Chief Justice , Mr . Vice President , my friends , you will understand and , I believe , agree with my wish that the form of this inauguration be simple and its words brief .',\n",
       " 'We can and we will achieve such a peace .',\n",
       " 'We have learned the simple truth , as Emerson said , that \" The only way to have a friend is to be one .\"']"
      ]
     },
     "execution_count": 104,
     "metadata": {},
     "output_type": "execute_result"
    }
   ],
   "source": [
    "X_train"
   ]
  },
  {
   "cell_type": "code",
   "execution_count": 105,
   "metadata": {},
   "outputs": [
    {
     "data": {
      "text/plain": [
       "['On this day , we come to proclaim an end to the petty grievances and false promises , the recriminations and worn - out dogmas that for far too long have strangled our politics .',\n",
       " 'For us , they fought and died , in places like Concord and Gettysburg ; Normandy and Khe Sahn .',\n",
       " 'These are the indicators of crisis , subject to data and statistics .',\n",
       " 'Now , there are some who question the scale of our ambitions  who suggest that our system cannot tolerate too many big plans .',\n",
       " 'Time and again these men and women struggled and sacrificed and worked till their hands were raw so that we might live a better life .',\n",
       " 'On this day , we gather because we have chosen hope over fear , unity of purpose over conflict and discord .',\n",
       " 'As we consider the road that unfolds before us , we remember with humble gratitude those brave Americans who , at this very hour , patrol far - off deserts and distant mountains .',\n",
       " 'I stand here today humbled by the task before us , grateful for the trust you have bestowed , mindful of the sacrifices borne by our ancestors .',\n",
       " 'For us , they toiled in sweatshops and settled the West ; endured the lash of the whip and plowed the hard earth .',\n",
       " 'To the people of poor nations , we pledge to work alongside you to make your farms flourish and let clean waters flow ; to nourish starved bodies and feed hungry minds .',\n",
       " 'To the Muslim world , we seek a new way forward , based on mutual interest and mutual respect .',\n",
       " 'Today I say to you that the challenges we face are real .',\n",
       " 'For we know that our patchwork heritage is a strength , not a weakness .',\n",
       " 'That we are in the midst of crisis is now well understood .',\n",
       " 'What the cynics fail to understand is that the ground has shifted beneath them  that the stale political arguments that have consumed us for so long no longer apply .',\n",
       " 'Recall that earlier generations faced down fascism and communism not just with missiles and tanks , but with the sturdy alliances and enduring convictions .',\n",
       " 'Nor is the question before us whether the market is a force for good or ill . Its power to generate wealth and expand freedom is unmatched , but this crisis has reminded us that without a watchful eye , the market can spin out of control  the nation cannot prosper long when it favors only the prosperous .',\n",
       " 'We remain a young nation , but in the words of Scripture , the time has come to set aside childish things .',\n",
       " 'America !',\n",
       " 'So it has been .',\n",
       " 'My fellow citizens :']"
      ]
     },
     "execution_count": 105,
     "metadata": {},
     "output_type": "execute_result"
    }
   ],
   "source": [
    "X_train1"
   ]
  },
  {
   "cell_type": "markdown",
   "metadata": {},
   "source": [
    "Dimenstion Reduction"
   ]
  },
  {
   "cell_type": "code",
   "execution_count": 106,
   "metadata": {},
   "outputs": [
    {
     "name": "stdout",
     "output_type": "stream",
     "text": [
      "Percent variance captured by all components: 100.0\n",
      "Component 0:\n",
      "That we are in the midst of crisis is now well understood .                                                                                                                                                                                                                                                           0.880238\n",
      "These are the indicators of crisis , subject to data and statistics .                                                                                                                                                                                                                                                 0.880238\n",
      "Nor is the question before us whether the market is a force for good or ill . Its power to generate wealth and expand freedom is unmatched , but this crisis has reminded us that without a watchful eye , the market can spin out of control  the nation cannot prosper long when it favors only the prosperous .    0.825004\n",
      "Now , there are some who question the scale of our ambitions  who suggest that our system cannot tolerate too many big plans .                                                                                                                                                                                        0.304571\n",
      "For us , they fought and died , in places like Concord and Gettysburg ; Normandy and Khe Sahn .                                                                                                                                                                                                                       0.258607\n",
      "What the cynics fail to understand is that the ground has shifted beneath them  that the stale political arguments that have consumed us for so long no longer apply .                                                                                                                                                0.232996\n",
      "On this day , we come to proclaim an end to the petty grievances and false promises , the recriminations and worn - out dogmas that for far too long have strangled our politics .                                                                                                                                    0.220449\n",
      "We remain a young nation , but in the words of Scripture , the time has come to set aside childish things .                                                                                                                                                                                                           0.185284\n",
      "On this day , we gather because we have chosen hope over fear , unity of purpose over conflict and discord .                                                                                                                                                                                                          0.043887\n",
      "As we consider the road that unfolds before us , we remember with humble gratitude those brave Americans who , at this very hour , patrol far - off deserts and distant mountains .                                                                                                                                   0.043887\n",
      "Name: 0, dtype: float64\n",
      "Component 1:\n",
      "On this day , we come to proclaim an end to the petty grievances and false promises , the recriminations and worn - out dogmas that for far too long have strangled our politics .                                                                                                                                    7.614095e-01\n",
      "We remain a young nation , but in the words of Scripture , the time has come to set aside childish things .                                                                                                                                                                                                           5.046799e-01\n",
      "What the cynics fail to understand is that the ground has shifted beneath them  that the stale political arguments that have consumed us for so long no longer apply .                                                                                                                                                4.474078e-01\n",
      "On this day , we gather because we have chosen hope over fear , unity of purpose over conflict and discord .                                                                                                                                                                                                          3.271385e-01\n",
      "As we consider the road that unfolds before us , we remember with humble gratitude those brave Americans who , at this very hour , patrol far - off deserts and distant mountains .                                                                                                                                   3.271385e-01\n",
      "Nor is the question before us whether the market is a force for good or ill . Its power to generate wealth and expand freedom is unmatched , but this crisis has reminded us that without a watchful eye , the market can spin out of control  the nation cannot prosper long when it favors only the prosperous .    2.431187e-01\n",
      "Time and again these men and women struggled and sacrificed and worked till their hands were raw so that we might live a better life .                                                                                                                                                                                2.248843e-01\n",
      "Now , there are some who question the scale of our ambitions  who suggest that our system cannot tolerate too many big plans .                                                                                                                                                                                        1.937009e-01\n",
      "I stand here today humbled by the task before us , grateful for the trust you have bestowed , mindful of the sacrifices borne by our ancestors .                                                                                                                                                                      1.120233e-15\n",
      "Today I say to you that the challenges we face are real .                                                                                                                                                                                                                                                             9.798855e-16\n",
      "Name: 1, dtype: float64\n",
      "Component 2:\n",
      "I stand here today humbled by the task before us , grateful for the trust you have bestowed , mindful of the sacrifices borne by our ancestors .                                       8.536321e-01\n",
      "Today I say to you that the challenges we face are real .                                                                                                                              8.536321e-01\n",
      "To the Muslim world , we seek a new way forward , based on mutual interest and mutual respect .                                                                                        6.370819e-16\n",
      "To the people of poor nations , we pledge to work alongside you to make your farms flourish and let clean waters flow ; to nourish starved bodies and feed hungry minds .              4.372982e-16\n",
      "That we are in the midst of crisis is now well understood .                                                                                                                            2.387456e-16\n",
      "These are the indicators of crisis , subject to data and statistics .                                                                                                                  2.386581e-16\n",
      "As we consider the road that unfolds before us , we remember with humble gratitude those brave Americans who , at this very hour , patrol far - off deserts and distant mountains .    1.315895e-16\n",
      "For us , they toiled in sweatshops and settled the West ; endured the lash of the whip and plowed the hard earth .                                                                     0.000000e+00\n",
      "So it has been .                                                                                                                                                                       0.000000e+00\n",
      "My fellow citizens :                                                                                                                                                                   0.000000e+00\n"
     ]
    },
    {
     "name": "stdout",
     "output_type": "stream",
     "text": [
      "Name: 2, dtype: float64\n",
      "Component 3:\n",
      "Now , there are some who question the scale of our ambitions  who suggest that our system cannot tolerate too many big plans .                                                                                                                                                                                        7.767636e-01\n",
      "Nor is the question before us whether the market is a force for good or ill . Its power to generate wealth and expand freedom is unmatched , but this crisis has reminded us that without a watchful eye , the market can spin out of control  the nation cannot prosper long when it favors only the prosperous .    3.987467e-01\n",
      "For us , they fought and died , in places like Concord and Gettysburg ; Normandy and Khe Sahn .                                                                                                                                                                                                                       1.861678e-01\n",
      "What the cynics fail to understand is that the ground has shifted beneath them  that the stale political arguments that have consumed us for so long no longer apply .                                                                                                                                                1.427117e-01\n",
      "To the Muslim world , we seek a new way forward , based on mutual interest and mutual respect .                                                                                                                                                                                                                       4.203374e-16\n",
      "I stand here today humbled by the task before us , grateful for the trust you have bestowed , mindful of the sacrifices borne by our ancestors .                                                                                                                                                                      3.325890e-16\n",
      "To the people of poor nations , we pledge to work alongside you to make your farms flourish and let clean waters flow ; to nourish starved bodies and feed hungry minds .                                                                                                                                             4.962461e-17\n",
      "So it has been .                                                                                                                                                                                                                                                                                                     -0.000000e+00\n",
      "For us , they toiled in sweatshops and settled the West ; endured the lash of the whip and plowed the hard earth .                                                                                                                                                                                                   -0.000000e+00\n",
      "My fellow citizens :                                                                                                                                                                                                                                                                                                 -0.000000e+00\n",
      "Name: 3, dtype: float64\n",
      "Component 4:\n",
      "Time and again these men and women struggled and sacrificed and worked till their hands were raw so that we might live a better life .                          7.649352e-01\n",
      "We remain a young nation , but in the words of Scripture , the time has come to set aside childish things .                                                     6.405585e-01\n",
      "That we are in the midst of crisis is now well understood .                                                                                                     2.577189e-02\n",
      "These are the indicators of crisis , subject to data and statistics .                                                                                           2.577189e-02\n",
      "I stand here today humbled by the task before us , grateful for the trust you have bestowed , mindful of the sacrifices borne by our ancestors .                5.399651e-16\n",
      "Today I say to you that the challenges we face are real .                                                                                                       8.533447e-17\n",
      "My fellow citizens :                                                                                                                                            0.000000e+00\n",
      "America !                                                                                                                                                       0.000000e+00\n",
      "Recall that earlier generations faced down fascism and communism not just with missiles and tanks , but with the sturdy alliances and enduring convictions .    0.000000e+00\n",
      "For we know that our patchwork heritage is a strength , not a weakness .                                                                                        0.000000e+00\n",
      "Name: 4, dtype: float64\n"
     ]
    }
   ],
   "source": [
    "from sklearn.decomposition import TruncatedSVD\n",
    "from sklearn.pipeline import make_pipeline\n",
    "from sklearn.preprocessing import Normalizer\n",
    "\n",
    "#Our SVD data reducer.  We are going to reduce the feature space from 1379 to 130.\n",
    "svd= TruncatedSVD(14)\n",
    "lsa = make_pipeline(svd, Normalizer(copy=False))\n",
    "# Run SVD on the training data, then project the training data.\n",
    "X_train_lsa1 = lsa.fit_transform(X_train_tfidf1)\n",
    "\n",
    "variance_explained=svd.explained_variance_ratio_\n",
    "total_variance = variance_explained.sum()\n",
    "print(\"Percent variance captured by all components:\",total_variance*100)\n",
    "\n",
    "#Looking at what sorts of paragraphs our solution considers similar, for the first five identified topics\n",
    "paras_by_component1=pd.DataFrame(X_train_lsa1,index=X_train1)\n",
    "for i in range(5):\n",
    "    print('Component {}:'.format(i))\n",
    "    print(paras_by_component1.loc[:,i].sort_values(ascending=False)[0:10])"
   ]
  },
  {
   "cell_type": "code",
   "execution_count": 107,
   "metadata": {},
   "outputs": [
    {
     "data": {
      "text/plain": [
       "21"
      ]
     },
     "execution_count": 107,
     "metadata": {},
     "output_type": "execute_result"
    }
   ],
   "source": [
    "len(X_train1)"
   ]
  },
  {
   "cell_type": "code",
   "execution_count": 108,
   "metadata": {},
   "outputs": [
    {
     "name": "stdout",
     "output_type": "stream",
     "text": [
      "Percent variance captured by all components: 97.42540729824451\n",
      "Component 0:\n",
      "We have learned that we cannot live alone , at peace ; that our own well - being is dependent on the well - being of other nations far away .                                                           0.865649\n",
      "We have learned the simple truth , as Emerson said , that \" The only way to have a friend is to be one .\"                                                                                               0.737397\n",
      "We have learned to be citizens of the world , members of the human community .                                                                                                                          0.696763\n",
      "We can and we will achieve such a peace .                                                                                                                                                               0.527640\n",
      "So we pray to Him now for the vision to see our way clearly  to see the way that leads to a better life for ourselves and for all our fellow men  to the achievement of His will to peace on earth .    0.474607\n",
      "Chief Justice , Mr . Vice President , my friends , you will understand and , I believe , agree with my wish that the form of this inauguration be simple and its words brief .                          0.276818\n",
      "I remember that my old schoolmaster , Dr . Peabody , said , in days that seemed to us then to be secure and untroubled : \" Things in life will not always run smoothly .                                0.230186\n",
      "As I stand here today , having taken the solemn oath of office in the presence of my fellow countrymen  in the presence of our God  I know that it is America ' s purpose that we shall not fail .      0.084701\n",
      "The Almighty God has blessed our land in many ways .                                                                                                                                                    0.034807\n",
      "Name: 0, dtype: float64\n",
      "Component 1:\n",
      "As I stand here today , having taken the solemn oath of office in the presence of my fellow countrymen  in the presence of our God  I know that it is America ' s purpose that we shall not fail .      0.856632\n",
      "The Almighty God has blessed our land in many ways .                                                                                                                                                    0.803008\n",
      "So we pray to Him now for the vision to see our way clearly  to see the way that leads to a better life for ourselves and for all our fellow men  to the achievement of His will to peace on earth .    0.300954\n",
      "I remember that my old schoolmaster , Dr . Peabody , said , in days that seemed to us then to be secure and untroubled : \" Things in life will not always run smoothly .                                0.155410\n",
      "We have learned the simple truth , as Emerson said , that \" The only way to have a friend is to be one .\"                                                                                               0.102786\n",
      "Chief Justice , Mr . Vice President , my friends , you will understand and , I believe , agree with my wish that the form of this inauguration be simple and its words brief .                          0.088018\n",
      "We can and we will achieve such a peace .                                                                                                                                                              -0.103654\n",
      "We have learned to be citizens of the world , members of the human community .                                                                                                                         -0.191758\n",
      "We have learned that we cannot live alone , at peace ; that our own well - being is dependent on the well - being of other nations far away .                                                          -0.210207\n",
      "Name: 1, dtype: float64\n",
      "Component 2:\n",
      "Chief Justice , Mr . Vice President , my friends , you will understand and , I believe , agree with my wish that the form of this inauguration be simple and its words brief .                          0.639122\n",
      "We have learned the simple truth , as Emerson said , that \" The only way to have a friend is to be one .\"                                                                                               0.639007\n",
      "I remember that my old schoolmaster , Dr . Peabody , said , in days that seemed to us then to be secure and untroubled : \" Things in life will not always run smoothly .                                0.408595\n",
      "So we pray to Him now for the vision to see our way clearly  to see the way that leads to a better life for ourselves and for all our fellow men  to the achievement of His will to peace on earth .    0.110880\n",
      "We have learned to be citizens of the world , members of the human community .                                                                                                                         -0.113124\n",
      "As I stand here today , having taken the solemn oath of office in the presence of my fellow countrymen  in the presence of our God  I know that it is America ' s purpose that we shall not fail .     -0.216657\n",
      "The Almighty God has blessed our land in many ways .                                                                                                                                                   -0.237213\n",
      "We have learned that we cannot live alone , at peace ; that our own well - being is dependent on the well - being of other nations far away .                                                          -0.430005\n",
      "We can and we will achieve such a peace .                                                                                                                                                              -0.514839\n",
      "Name: 2, dtype: float64\n",
      "Component 3:\n",
      "So we pray to Him now for the vision to see our way clearly  to see the way that leads to a better life for ourselves and for all our fellow men  to the achievement of His will to peace on earth .    0.619224\n",
      "I remember that my old schoolmaster , Dr . Peabody , said , in days that seemed to us then to be secure and untroubled : \" Things in life will not always run smoothly .                                0.446834\n",
      "We can and we will achieve such a peace .                                                                                                                                                               0.440224\n",
      "We have learned that we cannot live alone , at peace ; that our own well - being is dependent on the well - being of other nations far away .                                                          -0.103263\n",
      "As I stand here today , having taken the solemn oath of office in the presence of my fellow countrymen  in the presence of our God  I know that it is America ' s purpose that we shall not fail .     -0.103939\n",
      "We have learned the simple truth , as Emerson said , that \" The only way to have a friend is to be one .\"                                                                                              -0.106193\n",
      "Chief Justice , Mr . Vice President , my friends , you will understand and , I believe , agree with my wish that the form of this inauguration be simple and its words brief .                         -0.246039\n",
      "The Almighty God has blessed our land in many ways .                                                                                                                                                   -0.263616\n",
      "We have learned to be citizens of the world , members of the human community .                                                                                                                         -0.546967\n",
      "Name: 3, dtype: float64\n",
      "Component 4:\n",
      "Chief Justice , Mr . Vice President , my friends , you will understand and , I believe , agree with my wish that the form of this inauguration be simple and its words brief .                          6.343398e-01\n",
      "We can and we will achieve such a peace .                                                                                                                                                               4.186210e-01\n",
      "As I stand here today , having taken the solemn oath of office in the presence of my fellow countrymen  in the presence of our God  I know that it is America ' s purpose that we shall not fail .      2.325790e-16\n",
      "We have learned the simple truth , as Emerson said , that \" The only way to have a friend is to be one .\"                                                                                               1.036217e-16\n",
      "The Almighty God has blessed our land in many ways .                                                                                                                                                   -0.000000e+00\n",
      "We have learned that we cannot live alone , at peace ; that our own well - being is dependent on the well - being of other nations far away .                                                          -1.569082e-16\n",
      "So we pray to Him now for the vision to see our way clearly  to see the way that leads to a better life for ourselves and for all our fellow men  to the achievement of His will to peace on earth .   -3.372138e-16\n",
      "We have learned to be citizens of the world , members of the human community .                                                                                                                         -3.859108e-01\n",
      "I remember that my old schoolmaster , Dr . Peabody , said , in days that seemed to us then to be secure and untroubled : \" Things in life will not always run smoothly .                               -5.407913e-01\n"
     ]
    },
    {
     "name": "stdout",
     "output_type": "stream",
     "text": [
      "Name: 4, dtype: float64\n"
     ]
    }
   ],
   "source": [
    "#Our SVD data reducer.  We are going to reduce the feature space from 1379 to 130.\n",
    "svd= TruncatedSVD(7)\n",
    "lsa = make_pipeline(svd, Normalizer(copy=False))\n",
    "# Run SVD on the training data, then project the training data.\n",
    "X_train_lsa = lsa.fit_transform(X_train_tfidf)\n",
    "\n",
    "variance_explained=svd.explained_variance_ratio_\n",
    "total_variance = variance_explained.sum()\n",
    "print(\"Percent variance captured by all components:\",total_variance*100)\n",
    "\n",
    "#Looking at what sorts of paragraphs our solution considers similar, for the first five identified topics\n",
    "paras_by_component=pd.DataFrame(X_train_lsa,index=X_train)\n",
    "for i in range(5):\n",
    "    print('Component {}:'.format(i))\n",
    "    print(paras_by_component.loc[:,i].sort_values(ascending=False)[0:10])"
   ]
  },
  {
   "cell_type": "code",
   "execution_count": 109,
   "metadata": {},
   "outputs": [
    {
     "data": {
      "text/plain": [
       "9"
      ]
     },
     "execution_count": 109,
     "metadata": {},
     "output_type": "execute_result"
    }
   ],
   "source": [
    "len(X_train)"
   ]
  },
  {
   "cell_type": "code",
   "execution_count": 113,
   "metadata": {},
   "outputs": [
    {
     "data": {
      "image/png": "[encoded data removed]",
      "text/plain": [
       "<Figure size 432x288 with 2 Axes>"
      ]
     },
     "metadata": {
      "needs_background": "light"
     },
     "output_type": "display_data"
    },
    {
     "name": "stdout",
     "output_type": "stream",
     "text": [
      "Key:\n",
      "0 The Almighty God has blessed our land in many ways .\n",
      "1 We have learned that we cannot live alone , at peace ; that our own well - being is dependent on the well - being of other nations far away .\n",
      "2 I remember that my old schoolmaster , Dr . Peabody , said , in days that seemed to us then to be secure and untroubled : \" Things in life will not always run smoothly .\n",
      "3 So we pray to Him now for the vision to see our way clearly  to see the way that leads to a better life for ourselves and for all our fellow men  to the achievement of His will to peace on earth .\n",
      "4 We have learned to be citizens of the world , members of the human community .\n",
      "5 As I stand here today , having taken the solemn oath of office in the presence of my fellow countrymen  in the presence of our God  I know that it is America ' s purpose that we shall not fail .\n",
      "6 Chief Justice , Mr . Vice President , my friends , you will understand and , I believe , agree with my wish that the form of this inauguration be simple and its words brief .\n",
      "7 We can and we will achieve such a peace .\n",
      "8 We have learned the simple truth , as Emerson said , that \" The only way to have a friend is to be one .\"\n"
     ]
    }
   ],
   "source": [
    "import seaborn as sns\n",
    "# Compute document similarity using LSA components\n",
    "similarity = np.asarray(np.asmatrix(X_train_lsa) * np.asmatrix(X_train_lsa).T)\n",
    "#Only taking the first 10 sentences\n",
    "sim_matrix=pd.DataFrame(similarity,index=X_train).iloc[0:9,0:9]\n",
    "#Making a plot\n",
    "ax = sns.heatmap(sim_matrix,yticklabels=range(9))\n",
    "plt.show()\n",
    "\n",
    "#Generating a key for the plot.\n",
    "#put len instead of hardcoding!!!!!!!!!!!\n",
    "print('Key:')\n",
    "for i in range(9):\n",
    "    print(i,sim_matrix.index[i])"
   ]
  },
  {
   "cell_type": "code",
   "execution_count": 115,
   "metadata": {},
   "outputs": [
    {
     "data": {
      "image/png": "[encoded data removed]",
      "text/plain": [
       "<Figure size 432x288 with 2 Axes>"
      ]
     },
     "metadata": {
      "needs_background": "light"
     },
     "output_type": "display_data"
    },
    {
     "name": "stdout",
     "output_type": "stream",
     "text": [
      "Key:\n",
      "0 On this day , we come to proclaim an end to the petty grievances and false promises , the recriminations and worn - out dogmas that for far too long have strangled our politics .\n",
      "1 For us , they fought and died , in places like Concord and Gettysburg ; Normandy and Khe Sahn .\n",
      "2 These are the indicators of crisis , subject to data and statistics .\n",
      "3 Now , there are some who question the scale of our ambitions  who suggest that our system cannot tolerate too many big plans .\n",
      "4 Time and again these men and women struggled and sacrificed and worked till their hands were raw so that we might live a better life .\n",
      "5 On this day , we gather because we have chosen hope over fear , unity of purpose over conflict and discord .\n",
      "6 As we consider the road that unfolds before us , we remember with humble gratitude those brave Americans who , at this very hour , patrol far - off deserts and distant mountains .\n",
      "7 I stand here today humbled by the task before us , grateful for the trust you have bestowed , mindful of the sacrifices borne by our ancestors .\n",
      "8 For us , they toiled in sweatshops and settled the West ; endured the lash of the whip and plowed the hard earth .\n",
      "9 To the people of poor nations , we pledge to work alongside you to make your farms flourish and let clean waters flow ; to nourish starved bodies and feed hungry minds .\n",
      "10 To the Muslim world , we seek a new way forward , based on mutual interest and mutual respect .\n",
      "11 Today I say to you that the challenges we face are real .\n",
      "12 For we know that our patchwork heritage is a strength , not a weakness .\n",
      "13 That we are in the midst of crisis is now well understood .\n"
     ]
    }
   ],
   "source": [
    "import seaborn as sns\n",
    "# Compute document similarity using LSA components\n",
    "similarity = np.asarray(np.asmatrix(X_train_lsa1) * np.asmatrix(X_train_lsa1).T)\n",
    "#Only taking the first 10 sentences\n",
    "sim_matrix=pd.DataFrame(similarity,index=X_train1).iloc[0:14,0:14]\n",
    "#Making a plot\n",
    "ax = sns.heatmap(sim_matrix,yticklabels=range(14))\n",
    "plt.show()\n",
    "\n",
    "#Generating a key for the plot.\n",
    "#put len instead of hardcoding!!!!!!!!!!!\n",
    "print('Key:')\n",
    "for i in range(14):\n",
    "    print(i,sim_matrix.index[i])"
   ]
  },
  {
   "cell_type": "markdown",
   "metadata": {},
   "source": [
    "# Conclusion"
   ]
  },
  {
   "cell_type": "markdown",
   "metadata": {},
   "source": [
    "Aim N 1: We found which are the most frequent words that the presidents used in their inaugurals.For example, \n",
    "Truman: 'world', Reagan - 'people', both Bus Sr and Clinton used 'new' most frequently and Obama used 'nation' the most. We created several different models to determine if a word belongs to a presidents who is a democrat or to e president that is a republican.\n",
    "\n",
    "Aim N 2: We used tfidf to divide the Obama and Roosevelt's inaugurals by paragraphs and determine the importance of the words in each sentence. We are not looking at the frequency only, but the weight of the words as well. We also reduced the number of the features and compared their similarity. The matrix shows low similarity between the components which means that the classification of each component is more distinct with the others."
   ]
  },
  {
   "cell_type": "code",
   "execution_count": null,
   "metadata": {},
   "outputs": [],
   "source": []
  }
 ],
 "metadata": {
  "kernelspec": {
   "display_name": "Python 3",
   "language": "python",
   "name": "python3"
  },
  "language_info": {
   "codemirror_mode": {
    "name": "ipython",
    "version": 3
   },
   "file_extension": ".py",
   "mimetype": "text/x-python",
   "name": "python",
   "nbconvert_exporter": "python",
   "pygments_lexer": "ipython3",
   "version": "3.7.3"
  }
 },
 "nbformat": 4,
 "nbformat_minor": 2
}
